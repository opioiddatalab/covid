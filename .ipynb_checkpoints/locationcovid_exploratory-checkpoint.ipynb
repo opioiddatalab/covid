{
 "cells": [
  {
   "cell_type": "markdown",
   "metadata": {},
   "source": [
    "<font size=5> Social distancing: evidence of privilege in a pandemic from smartphones </font><br>\n",
    "Nabarun Dasgupta, MPH, PhD | nab@unc.edu | @nabarund<br>\n",
    "*Dr. Dasgupta is an epidemiologist at the University of North Carolina in Chapel Hill. He studies population level patterns of infectious disease, medication safety, and opioids.*<br>\n",
    "Thanks to Ben White for data munging help. Code available on [GitHub](https://github.com/opioiddatalab/covid).<br>\n",
    "\n",
    "**Co-authors**<br>\n",
    "Michele Jonsson Funk, PhD<br>\n",
    "Allison Lazard, PhD<br>\n",
    "Benjamin Eugene White<br>\n",
    "Steve W. Marshall, PhD<br>"
   ]
  },
  {
   "cell_type": "markdown",
   "metadata": {},
   "source": [
    "<div class=\"alert alert-warning\">\n",
    "\n",
    "**Warning:** Code and output provided for evaluation only. Paper under review. Results have not been peer-reviewed and should not be used for clinical or public health interpretation.\n",
    "\n",
    "</div>"
   ]
  },
  {
   "cell_type": "markdown",
   "metadata": {},
   "source": [
    "On March 23, 2020 Stuart Thompson and Yaryna Serkez of *The New York Times* [published](https://www.nytimes.com/interactive/2020/03/23/opinion/coronavirus-economy-recession.html) a fascinating use of cell phone GPS signal information to gauge movement and commuting, during the advent of social distancing. They compared the state-level data in a [slick graphic](https://www.nytimes.com/interactive/2020/03/23/opinion/coronavirus-economy-recession.html) to political leanings. But we wanted to understand more about other community level characteristics of slow versus fast adopters.<br>\n",
    "<br>\n",
    "We were provided access to the same location dataset on social distancing published today in the. We used a data merging approach we have [previously published](https://www.ncbi.nlm.nih.gov/pmc/articles/PMC6339867/). Repurposing code from an ongoing project, we merged in community-level data from the Robert Wood Johnson Foundation's [County Health Rankings](https://www.countyhealthrankings.org/). This very rich dataset contains dozens of explanatory variables about health, social, and economic indicators.<br>\n",
    "\n",
    "---"
   ]
  },
  {
   "cell_type": "code",
   "execution_count": 5,
   "metadata": {},
   "outputs": [
    {
     "name": "stdout",
     "output_type": "stream",
     "text": [
      "Notebook generated on 21 Apr 2020 at 19:07:54 ET\n"
     ]
    }
   ],
   "source": [
    "display \"Notebook generated on $S_DATE at $S_TIME ET\""
   ]
  },
  {
   "cell_type": "markdown",
   "metadata": {},
   "source": [
    "# Models"
   ]
  },
  {
   "cell_type": "code",
   "execution_count": null,
   "metadata": {},
   "outputs": [],
   "source": [
    "// Load pre-procesed data\n",
    "clear all\n",
    "set scheme economist\n",
    "use \"https://github.com/opioiddatalab/covid/blob/master/analysiset.dta?raw=true\"\n",
    "\n",
    "// Create results frame\n",
    "frame create results str20 strat level avg LL UL\n",
    "\n",
    "// Set up negative binomial model\n",
    "program define modelrun, rclass\n",
    "    version 16\n",
    "    syntax varlist(numeric)\n",
    "    \n",
    "    frame change default\n",
    "    foreach var of local varlist {\n",
    "    \n",
    "    di \"----- RURALITY-ADJUSTED NEGBIN MODEL -----\"\n",
    "       nbreg `var' levels* homeorder i.rucc, irr nocons vce(r)\n",
    "\n",
    "    * Store results\n",
    "        frame post results (\"`var'\") (1) (round((r(table)[1,1]),.1)) (round((r(table)[5,1]),.1)) (round((r(table)[6,1]),.1))\n",
    "        frame post results (\"`var'\") (2) (round((r(table)[1,2]),.1)) (round((r(table)[5,2]),.1)) (round((r(table)[6,2]),.1))\n",
    "        frame post results (\"`var'\") (3) (round((r(table)[1,3]),.1)) (round((r(table)[5,3]),.1)) (round((r(table)[6,3]),.1))\n",
    "        frame post results (\"`var'\") (4) (round((r(table)[1,4]),.1)) (round((r(table)[5,4]),.1)) (round((r(table)[6,4]),.1))\n",
    "        frame post results (\"`var'\") (5) (round((r(table)[1,5]),.1)) (round((r(table)[5,5]),.1)) (round((r(table)[6,5]),.1))\n",
    "        \n",
    "        di \"Compare to tabular data:\"\n",
    "        table iso5, c(count `var' mean `var' sem `var') \n",
    "\n",
    "    di \"----- PERCENT DIFFERENCE MODEL -----\"\n",
    "    * Rate difference models\n",
    "        nbreg `var' levels* homeorder i.rucc, irr vce(r)   \n",
    "   \n",
    "   * Plot graph\n",
    "       frame change results\n",
    "       la var level \"Social Distancing: Lowest (1) to Highest (5)\"\n",
    "       line avg level if inlist(strat,\"`var'\"), title(\"`var'\")\n",
    "\n",
    "    frame change default\n",
    "    \n",
    "    }\n",
    "end\n",
    "\n",
    "// Set up scaled Poisson model\n",
    "\n",
    "program define modelpoisson, rclass\n",
    "    version 16\n",
    "    syntax varlist(numeric)\n",
    "    \n",
    "    frame change default\n",
    "    foreach var of local varlist {\n",
    "\n",
    "    di \"----- RURALITY-ADJUSTED POISSON MODEL -----\"\n",
    "       glm `var' levels* homeorder i.rucc, family(poisson) link(log) scale(x2) eform nocons \n",
    "\n",
    "    * Store results\n",
    "        frame post results (\"`var'\") (1) (round((r(table)[1,1]),.1)) (round((r(table)[5,1]),.1)) (round((r(table)[6,1]),.1))\n",
    "        frame post results (\"`var'\") (2) (round((r(table)[1,2]),.1)) (round((r(table)[5,2]),.1)) (round((r(table)[6,2]),.1))\n",
    "        frame post results (\"`var'\") (3) (round((r(table)[1,3]),.1)) (round((r(table)[5,3]),.1)) (round((r(table)[6,3]),.1))\n",
    "        frame post results (\"`var'\") (4) (round((r(table)[1,4]),.1)) (round((r(table)[5,4]),.1)) (round((r(table)[6,4]),.1))\n",
    "        frame post results (\"`var'\") (5) (round((r(table)[1,5]),.1)) (round((r(table)[5,5]),.1)) (round((r(table)[6,5]),.1))\n",
    "        \n",
    "        di \"Compare to tabular data:\"\n",
    "        table iso5, c(count `var' mean `var' sem `var') \n",
    "\n",
    "    di \"----- PERCENT DIFFERENCE MODEL -----\"\n",
    "    * Rate difference models\n",
    "       glm `var' levels* homeorder i.rucc, family(poisson) link(log) scale(x2) eform \n",
    "   \n",
    "   * Plot graph\n",
    "       frame change results\n",
    "       la var level \"Social Distancing: Lowest (1) to Highest (5)\"\n",
    "       line avg level if inlist(strat,\"`var'\"), title(\"`var'\")\n",
    "\n",
    "    frame change default\n",
    "    \n",
    "    }\n",
    "end"
   ]
  },
  {
   "cell_type": "markdown",
   "metadata": {},
   "source": [
    "---\n",
    "\n",
    "# Descriptive Results"
   ]
  },
  {
   "cell_type": "code",
   "execution_count": null,
   "metadata": {},
   "outputs": [],
   "source": [
    "// Basic distributions of counties and traces\n",
    "* iso5 is the main outcome variable representing quintiles of mobility change\n",
    "\n",
    "tab rucc, m\n",
    "tab iso5, m\n",
    "table iso5, c(sum last3_sample)\n",
    "su last3_sample\n",
    "di \"Total 3-day mobile traces: \" r(sum)\n",
    "\n",
    "* US average change in mobility\n",
    "qui: su last3_index\n",
    "    return list\n",
    "\n",
    "* Mean mobility change by quintile\n",
    "table iso5, c(count last3_index mean last3_index sem last3_index)\n",
    "\n",
    "* Mobility quintile boundaries \n",
    "bysort iso5: su last3_index\n",
    "\n",
    "* Rurality/urbanicity by quintile\n",
    "table iso5, c(median rucc)"
   ]
  },
  {
   "cell_type": "markdown",
   "metadata": {},
   "source": [
    "---\n",
    "# Healthcare\n",
    "\n",
    "To gauge overall baseline healthcare access and utilization, we examined primary care providers per 100,000 population and percent uninsured under age 65 (e.g., Medicare eligibility). As a marker for a closely related preventive health behavior, we examined whether earlier influenza vaccination rates were associated with how much the county was likely to slow down in the current coronavirus outbreak. This was quantified as the percent of annual Medicare enrollees having an annual influenza vaccination.\n",
    "\n",
    "## Primary care providers\n",
    "\n",
    "We wanted to see if places with more social distancing had better healthcare resources. So we looked at primary care providers per 100,000 population. \n"
   ]
  },
  {
   "cell_type": "code",
   "execution_count": null,
   "metadata": {},
   "outputs": [],
   "source": [
    "modelrun pcp_rate"
   ]
  },
  {
   "cell_type": "markdown",
   "metadata": {},
   "source": [
    "### Interpretation\n",
    "<br><br>\n",
    "\n",
    "`   pcp_rate |        IRR    [95% Conf. Interval]\n",
    "-------------+-----------------------------------\n",
    "     levels1 |   50.45689    46.44897    54.81064\n",
    "     levels2 |   52.73648    48.70426    57.10253\n",
    "     levels3 |   55.07755    50.95751    59.53072\n",
    "     levels4 |   59.75643     55.5741    64.25349\n",
    "     levels5 |   72.45264    67.53468    77.72872`\n",
    "     \n",
    "     \n",
    "`levels1 |   .6964121   .0276086    -9.13   0.000     .6443491    .7526818`\n"
   ]
  },
  {
   "cell_type": "markdown",
   "metadata": {},
   "source": [
    "## Percent uninsured\n",
    "Percent of without health insurance below Medicare elgibility (age 65)."
   ]
  },
  {
   "cell_type": "code",
   "execution_count": null,
   "metadata": {},
   "outputs": [],
   "source": [
    "// Comparing percent uninsured to social distancing\n",
    "modelpoisson uninsured_p "
   ]
  },
  {
   "cell_type": "markdown",
   "metadata": {},
   "source": [
    "Graph above: Comparing **percent uninsured** to social distancing\n",
    "\n",
    "Counties with lower social distancing also had a higher proportion of uninsured residents."
   ]
  },
  {
   "cell_type": "markdown",
   "metadata": {},
   "source": [
    "## Flu Vaccination\n",
    "\n",
    "We had a hypothesis that counties that were more involved in preventative behaviors would be more likely to self-isolate more thoroughly. To test this, we examined whether earlier flu vaccination rates impacted how much the county was likely to slow down in the current coronavirus outbreak. This is quantified as the percent of annual Medicare enrollees having an annual flu vaccination, as reported by the Robert Wood Johnson Foundation. Since the flu vaccine is free to all Medicare beneficiaries, and this is the elderly age group with the most influenza mortality, this is a convenient metric to test *a priori* how conscientious the population was, on average."
   ]
  },
  {
   "cell_type": "code",
   "execution_count": null,
   "metadata": {},
   "outputs": [],
   "source": [
    "// Basic descriptive on background influenza vaccine\n",
    "frame change default\n",
    "summ fluvaccine, d\n",
    "hist fluvaccine, bin(10)"
   ]
  },
  {
   "cell_type": "code",
   "execution_count": null,
   "metadata": {},
   "outputs": [],
   "source": [
    "// Comparing background flu vaccination with current social distancing\n",
    "modelpoisson fluvaccine"
   ]
  },
  {
   "cell_type": "markdown",
   "metadata": {},
   "source": [
    "Grpah above: Comparing background **flu vaccination** with current social distancing<br>\n",
    "`levels1 |   .9409152   .0130748    -4.38   0.000      .915635    .9668934`"
   ]
  },
  {
   "cell_type": "markdown",
   "metadata": {},
   "source": [
    "--- \n",
    "# Economic\n",
    "\n",
    "There is a trend emerging. So, since the places with more social distancing seem to have more health resources, perhaps there are trends in financial means? We explored two baseline economic metrics in relation to social distancing, one representing the overall wealth of the community and one proxy for poverty: 80th percentile of annual household income in dollars and the percent of school-age children eligible for subsidized or free lunches.\n",
    "\n",
    "## Household income"
   ]
  },
  {
   "cell_type": "code",
   "execution_count": null,
   "metadata": {},
   "outputs": [],
   "source": [
    "// Comparing 80th percentile income to social distancing\n",
    "modelrun income80"
   ]
  },
  {
   "cell_type": "markdown",
   "metadata": {},
   "source": [
    "Graph above: Comparing **80th percentile income** to social distancing"
   ]
  },
  {
   "cell_type": "markdown",
   "metadata": {},
   "source": [
    "## Subsidized lunches"
   ]
  },
  {
   "cell_type": "code",
   "execution_count": null,
   "metadata": {},
   "outputs": [],
   "source": [
    "modelrun schoollunch"
   ]
  },
  {
   "cell_type": "markdown",
   "metadata": {},
   "source": [
    "interpretation"
   ]
  },
  {
   "cell_type": "markdown",
   "metadata": {},
   "source": [
    "---\n",
    "# Structural\n",
    "Three lifestyle metrics were selected to provide a diverse snapshot of baseline structural factors that could influence defiance of prolonged stay-at-home orders. The percent of people experiencing food insecurity was derived from Map the Meal Gap project, based on responses from the Current Population Survey and a cost-of-food index. Access to exercise opportunities was the percent of population with adequate access to locations for physical activity. The percent of households with overcrowding was based on the Comprehensive Housing Affordability Strategy measurements.\n",
    "\n",
    "## Food insecurity"
   ]
  },
  {
   "cell_type": "code",
   "execution_count": null,
   "metadata": {},
   "outputs": [],
   "source": [
    "modelpoisson foodinsec"
   ]
  },
  {
   "cell_type": "markdown",
   "metadata": {},
   "source": [
    "Interpretation"
   ]
  },
  {
   "cell_type": "markdown",
   "metadata": {},
   "source": [
    "## Exercise opportunities"
   ]
  },
  {
   "cell_type": "code",
   "execution_count": null,
   "metadata": {},
   "outputs": [],
   "source": [
    "modelrun exercise"
   ]
  },
  {
   "cell_type": "markdown",
   "metadata": {},
   "source": [
    "Interpretation"
   ]
  },
  {
   "cell_type": "code",
   "execution_count": null,
   "metadata": {},
   "outputs": [],
   "source": [
    "modelpoisson overcrowding"
   ]
  },
  {
   "cell_type": "markdown",
   "metadata": {},
   "source": [
    "---\n",
    "\n",
    "# Exploratory analyses"
   ]
  },
  {
   "cell_type": "code",
   "execution_count": null,
   "metadata": {},
   "outputs": [],
   "source": [
    "frame change default\n",
    "foreach var of varlist drivealone_p {\n",
    "    table iso5, c(count `var' mean `var' sem `var')\n",
    "        frame put `var' iso5, into(`var')\n",
    "            frame change `var'\n",
    "                collapse (mean) `var', by(iso5)\n",
    "                    la var `var' \"% of Drivers\"\n",
    "                        line `var' iso5, note(\"Commuting Alone by Vehicle\")  \n",
    "                            frame change default\n",
    "                                frame drop `var'\n",
    "}"
   ]
  },
  {
   "cell_type": "markdown",
   "metadata": {},
   "source": [
    "---\n"
   ]
  },
  {
   "cell_type": "code",
   "execution_count": null,
   "metadata": {},
   "outputs": [],
   "source": [
    "frame change default\n",
    "foreach var of varlist rucc {\n",
    "    table iso5, c(count `var' mean `var' sem `var')\n",
    "        frame put `var' iso5, into(`var')\n",
    "            frame change `var'\n",
    "                collapse (median) `var', by(iso5)\n",
    "                    la var `var' \"Meidan RUCC\"\n",
    "                        line `var' iso5, note(\"Urban-Rural\")   \n",
    "                            frame change default\n",
    "                                frame drop `var'\n",
    "}"
   ]
  },
  {
   "cell_type": "code",
   "execution_count": null,
   "metadata": {},
   "outputs": [],
   "source": [
    "frame change default\n",
    "foreach var of varlist longcommute_p {\n",
    "    table iso5, c(count `var' mean `var' sem `var')\n",
    "        frame put `var' iso5, into(`var')\n",
    "            frame change `var'\n",
    "                collapse (mean) `var', by(iso5)\n",
    "                    la var `var' \"% of Solo Commuters Driving 30+ mins\"\n",
    "                        line `var' iso5, note(\"Long Solo Commute\")     \n",
    "                            frame change default\n",
    "                                frame drop `var'\n",
    "}"
   ]
  },
  {
   "cell_type": "markdown",
   "metadata": {},
   "source": [
    "---\n",
    "\n",
    "# Google data"
   ]
  }
 ],
 "metadata": {
  "kernelspec": {
   "display_name": "Stata",
   "language": "stata",
   "name": "stata"
  },
  "language_info": {
   "codemirror_mode": "stata",
   "file_extension": ".do",
   "mimetype": "text/x-stata",
   "name": "stata",
   "version": "15.1"
  }
 },
 "nbformat": 4,
 "nbformat_minor": 4
}
