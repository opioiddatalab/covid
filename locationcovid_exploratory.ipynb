{
 "cells": [
  {
   "cell_type": "markdown",
   "metadata": {},
   "source": [
    "<font size=7> Early social distancing: evidence of privilege in a pandemic from smartphone data </font><br>\n",
    "Nabarun Dasgupta, MPH, PhD | nab@unc.edu | @nabarund<br>\n",
    "*Dr. Dasgupta is an epidemiologist at the University of North Carolina in Chapel Hill. He studies population level patterns of infectious disease, medication safety, and opioids.*<br>\n",
    "Thanks to Ben White for data munging help. Code available on [GitHub](https://github.com/opioiddatalab/covid)."
   ]
  },
  {
   "cell_type": "code",
   "execution_count": 42,
   "metadata": {},
   "outputs": [
    {
     "name": "stdout",
     "output_type": "stream",
     "text": [
      "Notebook generated on 27 Mar 2020 at 13:42:10 ET\n"
     ]
    }
   ],
   "source": [
    "display \"Notebook generated on $S_DATE at $S_TIME ET\""
   ]
  },
  {
   "cell_type": "markdown",
   "metadata": {},
   "source": [
    "On March 23, 2020 Stuart Thompson and Yaryna Serkez of *The New York Times* [published](https://www.nytimes.com/interactive/2020/03/23/opinion/coronavirus-economy-recession.html) a fascinating use of cell phone GPS signal information to gauge movement and commuting, during the advent of social distancing. They compared the state-level data in a [slick graphic](https://www.nytimes.com/interactive/2020/03/23/opinion/coronavirus-economy-recession.html) to political leanings. But we wanted to understand more about other community level characteristics of slow versus fast adopters.<br>\n",
    "<br>\n",
    "We were provided access to the same location dataset on social distancing published today in the. We used a data merging approach we have [previously published](https://www.ncbi.nlm.nih.gov/pmc/articles/PMC6339867/). Repurposing code from an ongoing project, we merged in community-level data from the Robert Wood Johnson Foundation's [County Health Rankings](https://www.countyhealthrankings.org/). This very rich dataset contains dozens of explanatory variables about health, social, and economic indicators.<br>\n"
   ]
  },
  {
   "cell_type": "code",
   "execution_count": 58,
   "metadata": {},
   "outputs": [
    {
     "name": "stdout",
     "output_type": "stream",
     "text": [
      "\n",
      "/Users/nabarun/Documents/GitHub/covid\n",
      "\n",
      "\n",
      "\n",
      "\n",
      "\n",
      "       |        Observations\n",
      "       |      total   distinct\n",
      "-------+----------------------\n",
      "  fips |       2507       2507\n",
      "\n",
      "variable rucc not found\n"
     ]
    },
    {
     "name": "stderr",
     "output_type": "stream",
     "text": [
      "r(111);\n",
      "r(111);\n"
     ]
    },
    {
     "name": "stdout",
     "output_type": "stream",
     "text": [
      "\n",
      "\n"
     ]
    }
   ],
   "source": [
    "// Load procesed and merged data\n",
    "cd \"/Users/nabarun/Documents/GitHub/covid/\"\n",
    "clear all\n",
    "set scheme economist\n",
    "use analysiset\n",
    "distinct fips\n",
    "tab rucc"
   ]
  },
  {
   "cell_type": "markdown",
   "metadata": {},
   "source": [
    "---\n",
    "# Primary Care Providers\n",
    "\n",
    "We wanted to see if places with more social distancing had better healthcare resources. So we looked at primary care providers per 100,000 population. \n"
   ]
  },
  {
   "cell_type": "code",
   "execution_count": 44,
   "metadata": {},
   "outputs": [
    {
     "name": "stdout",
     "output_type": "stream",
     "text": [
      "\n",
      "\n",
      "\n",
      "----------------------------------------------------------\n",
      "Social    |\n",
      "Distancin |\n",
      "g: Lowest |\n",
      "(1) to    |\n",
      "Highest   |\n",
      "(5)       |    N(pcp_rate)  mean(pcp_rate)   sem(pcp_rate)\n",
      "----------+-----------------------------------------------\n",
      "        1 |            475       47.583501        1.203552\n",
      "        2 |            488       50.546318        1.162149\n",
      "        3 |            502        52.03527        1.291589\n",
      "        4 |            497       55.985898        1.337626\n",
      "        5 |            499       68.885673        1.736278\n",
      "----------------------------------------------------------\n"
     ]
    },
    {
     "data": {
      "application/pdf": "[encoded data removed]",
      "image/svg+xml": [
       "<?xml version=\"1.0\" encoding=\"UTF-8\" standalone=\"no\"?>\n",
       "<!-- This is a Stata 16.0 generated SVG file (http://www.stata.com) -->\n",
       "\n",
       "<svg version=\"1.1\" width=\"600px\" height=\"600px\" viewBox=\"0 0 1584 1584\" xmlns=\"http://www.w3.org/2000/svg\" xmlns:xlink=\"http://www.w3.org/1999/xlink\">\n",
       "\t<desc>Stata Graph - Graph</desc>\n",
       "\t<rect x=\"0\" y=\"0\" width=\"1584\" height=\"1584\" style=\"fill:#C6D3DF;stroke:none\"/>\n",
       "\t<rect x=\"0.00\" y=\"0.05\" width=\"1584.00\" height=\"1583.95\" style=\"fill:#C6D3DF\"/>\n",
       "\t<rect x=\"1.58\" y=\"1.63\" width=\"1580.83\" height=\"1580.78\" style=\"fill:none;stroke:#C6D3DF;stroke-width:3.17\"/>\n",
       "\t<line x1=\"55.44\" y1=\"1370.56\" x2=\"1342.53\" y2=\"1370.56\" style=\"stroke:#FFFFFF;stroke-width:4.75\"/>\n",
       "\t<line x1=\"55.44\" y1=\"1126.47\" x2=\"1342.53\" y2=\"1126.47\" style=\"stroke:#FFFFFF;stroke-width:4.75\"/>\n",
       "\t<line x1=\"55.44\" y1=\"882.34\" x2=\"1342.53\" y2=\"882.34\" style=\"stroke:#FFFFFF;stroke-width:4.75\"/>\n",
       "\t<line x1=\"55.44\" y1=\"638.20\" x2=\"1342.53\" y2=\"638.20\" style=\"stroke:#FFFFFF;stroke-width:4.75\"/>\n",
       "\t<line x1=\"55.44\" y1=\"394.12\" x2=\"1342.53\" y2=\"394.12\" style=\"stroke:#FFFFFF;stroke-width:4.75\"/>\n",
       "\t<line x1=\"55.44\" y1=\"149.98\" x2=\"1342.53\" y2=\"149.98\" style=\"stroke:#FFFFFF;stroke-width:4.75\"/>\n",
       "\t<path d=\" M64.90 1244.48 L381.95 1099.79 L698.96 1027.12 L1015.97 834.22 L1333.03 204.43\" stroke-linejoin=\"round\" style=\"fill:none;stroke:#3E647D;stroke-width:19.01\"/>\n",
       "\t<text x=\"1364.51\" y=\"1391.74\" style=\"font-family:'Helvetica';font-size:60.49px;fill:#000000\">45</text>\n",
       "\t<text x=\"1364.51\" y=\"1147.66\" style=\"font-family:'Helvetica';font-size:60.49px;fill:#000000\">50</text>\n",
       "\t<text x=\"1364.51\" y=\"903.52\" style=\"font-family:'Helvetica';font-size:60.49px;fill:#000000\">55</text>\n",
       "\t<text x=\"1364.51\" y=\"659.39\" style=\"font-family:'Helvetica';font-size:60.49px;fill:#000000\">60</text>\n",
       "\t<text x=\"1364.51\" y=\"415.30\" style=\"font-family:'Helvetica';font-size:60.49px;fill:#000000\">65</text>\n",
       "\t<text x=\"1364.51\" y=\"171.17\" style=\"font-family:'Helvetica';font-size:60.49px;fill:#000000\">70</text>\n",
       "\t<text x=\"1499.40\" y=\"760.27\" style=\"font-family:'Helvetica';font-size:60.49px;fill:#000000\" transform=\"rotate(-90 1499.40,760.27)\" text-anchor=\"middle\">PCP per 100k Population</text>\n",
       "\t<line x1=\"55.44\" y1=\"1380.06\" x2=\"1342.53\" y2=\"1380.06\" style=\"stroke:#000000;stroke-width:3.17\"/>\n",
       "\t<line x1=\"64.95\" y1=\"1358.08\" x2=\"64.95\" y2=\"1380.06\" style=\"stroke:#000000;stroke-width:3.17\"/>\n",
       "\t<text x=\"64.95\" y=\"1433.37\" style=\"font-family:'Helvetica';font-size:60.49px;fill:#000000\" text-anchor=\"middle\">1</text>\n",
       "\t<line x1=\"381.95\" y1=\"1358.08\" x2=\"381.95\" y2=\"1380.06\" style=\"stroke:#000000;stroke-width:3.17\"/>\n",
       "\t<text x=\"381.95\" y=\"1433.37\" style=\"font-family:'Helvetica';font-size:60.49px;fill:#000000\" text-anchor=\"middle\">2</text>\n",
       "\t<line x1=\"699.01\" y1=\"1358.08\" x2=\"699.01\" y2=\"1380.06\" style=\"stroke:#000000;stroke-width:3.17\"/>\n",
       "\t<text x=\"699.01\" y=\"1433.37\" style=\"font-family:'Helvetica';font-size:60.49px;fill:#000000\" text-anchor=\"middle\">3</text>\n",
       "\t<line x1=\"1016.02\" y1=\"1358.08\" x2=\"1016.02\" y2=\"1380.06\" style=\"stroke:#000000;stroke-width:3.17\"/>\n",
       "\t<text x=\"1016.02\" y=\"1433.37\" style=\"font-family:'Helvetica';font-size:60.49px;fill:#000000\" text-anchor=\"middle\">4</text>\n",
       "\t<line x1=\"1333.03\" y1=\"1358.08\" x2=\"1333.03\" y2=\"1380.06\" style=\"stroke:#000000;stroke-width:3.17\"/>\n",
       "\t<text x=\"1333.03\" y=\"1433.37\" style=\"font-family:'Helvetica';font-size:60.49px;fill:#000000\" text-anchor=\"middle\">5</text>\n",
       "\t<text x=\"699.01\" y=\"1499.40\" style=\"font-family:'Helvetica';font-size:60.49px;fill:#000000\" text-anchor=\"middle\">Social Distancing: Lowest (1) to Highest (5)</text>\n",
       "\t<rect x=\"618.03\" y=\"55.49\" width=\"724.50\" height=\"84.99\" style=\"fill:#7B92A8\"/>\n",
       "\t<rect x=\"619.61\" y=\"57.07\" width=\"721.34\" height=\"81.82\" style=\"fill:none;stroke:#7B92A8;stroke-width:3.17\"/>\n",
       "\t<text x=\"1333.03\" y=\"121.12\" style=\"font-family:'Helvetica';font-size:65.99px;fill:#FFFFff\" text-anchor=\"end\">Primary Care Providers</text>\n",
       "</svg>\n"
      ],
      "text/html": [
       "                <iframe frameborder=\"0\" scrolling=\"no\" height=\"600\" width=\"600\"                srcdoc=\"<html><body>&lt;?xml version=&quot;1.0&quot; encoding=&quot;UTF-8&quot; standalone=&quot;no&quot;?&gt;\n",
       "&lt;!-- This is a Stata 16.0 generated SVG file (http://www.stata.com) --&gt;\n",
       "\n",
       "&lt;svg version=&quot;1.1&quot; width=&quot;600px&quot; height=&quot;600px&quot; viewBox=&quot;0 0 1584 1584&quot; xmlns=&quot;http://www.w3.org/2000/svg&quot; xmlns:xlink=&quot;http://www.w3.org/1999/xlink&quot;&gt;\n",
       "\t&lt;desc&gt;Stata Graph - Graph&lt;/desc&gt;\n",
       "\t&lt;rect x=&quot;0&quot; y=&quot;0&quot; width=&quot;1584&quot; height=&quot;1584&quot; style=&quot;fill:#C6D3DF;stroke:none&quot;/&gt;\n",
       "\t&lt;rect x=&quot;0.00&quot; y=&quot;0.05&quot; width=&quot;1584.00&quot; height=&quot;1583.95&quot; style=&quot;fill:#C6D3DF&quot;/&gt;\n",
       "\t&lt;rect x=&quot;1.58&quot; y=&quot;1.63&quot; width=&quot;1580.83&quot; height=&quot;1580.78&quot; style=&quot;fill:none;stroke:#C6D3DF;stroke-width:3.17&quot;/&gt;\n",
       "\t&lt;line x1=&quot;55.44&quot; y1=&quot;1370.56&quot; x2=&quot;1342.53&quot; y2=&quot;1370.56&quot; style=&quot;stroke:#FFFFFF;stroke-width:4.75&quot;/&gt;\n",
       "\t&lt;line x1=&quot;55.44&quot; y1=&quot;1126.47&quot; x2=&quot;1342.53&quot; y2=&quot;1126.47&quot; style=&quot;stroke:#FFFFFF;stroke-width:4.75&quot;/&gt;\n",
       "\t&lt;line x1=&quot;55.44&quot; y1=&quot;882.34&quot; x2=&quot;1342.53&quot; y2=&quot;882.34&quot; style=&quot;stroke:#FFFFFF;stroke-width:4.75&quot;/&gt;\n",
       "\t&lt;line x1=&quot;55.44&quot; y1=&quot;638.20&quot; x2=&quot;1342.53&quot; y2=&quot;638.20&quot; style=&quot;stroke:#FFFFFF;stroke-width:4.75&quot;/&gt;\n",
       "\t&lt;line x1=&quot;55.44&quot; y1=&quot;394.12&quot; x2=&quot;1342.53&quot; y2=&quot;394.12&quot; style=&quot;stroke:#FFFFFF;stroke-width:4.75&quot;/&gt;\n",
       "\t&lt;line x1=&quot;55.44&quot; y1=&quot;149.98&quot; x2=&quot;1342.53&quot; y2=&quot;149.98&quot; style=&quot;stroke:#FFFFFF;stroke-width:4.75&quot;/&gt;\n",
       "\t&lt;path d=&quot; M64.90 1244.48 L381.95 1099.79 L698.96 1027.12 L1015.97 834.22 L1333.03 204.43&quot; stroke-linejoin=&quot;round&quot; style=&quot;fill:none;stroke:#3E647D;stroke-width:19.01&quot;/&gt;\n",
       "\t&lt;text x=&quot;1364.51&quot; y=&quot;1391.74&quot; style=&quot;font-family:&#x27;Helvetica&#x27;;font-size:60.49px;fill:#000000&quot;&gt;45&lt;/text&gt;\n",
       "\t&lt;text x=&quot;1364.51&quot; y=&quot;1147.66&quot; style=&quot;font-family:&#x27;Helvetica&#x27;;font-size:60.49px;fill:#000000&quot;&gt;50&lt;/text&gt;\n",
       "\t&lt;text x=&quot;1364.51&quot; y=&quot;903.52&quot; style=&quot;font-family:&#x27;Helvetica&#x27;;font-size:60.49px;fill:#000000&quot;&gt;55&lt;/text&gt;\n",
       "\t&lt;text x=&quot;1364.51&quot; y=&quot;659.39&quot; style=&quot;font-family:&#x27;Helvetica&#x27;;font-size:60.49px;fill:#000000&quot;&gt;60&lt;/text&gt;\n",
       "\t&lt;text x=&quot;1364.51&quot; y=&quot;415.30&quot; style=&quot;font-family:&#x27;Helvetica&#x27;;font-size:60.49px;fill:#000000&quot;&gt;65&lt;/text&gt;\n",
       "\t&lt;text x=&quot;1364.51&quot; y=&quot;171.17&quot; style=&quot;font-family:&#x27;Helvetica&#x27;;font-size:60.49px;fill:#000000&quot;&gt;70&lt;/text&gt;\n",
       "\t&lt;text x=&quot;1499.40&quot; y=&quot;760.27&quot; style=&quot;font-family:&#x27;Helvetica&#x27;;font-size:60.49px;fill:#000000&quot; transform=&quot;rotate(-90 1499.40,760.27)&quot; text-anchor=&quot;middle&quot;&gt;PCP per 100k Population&lt;/text&gt;\n",
       "\t&lt;line x1=&quot;55.44&quot; y1=&quot;1380.06&quot; x2=&quot;1342.53&quot; y2=&quot;1380.06&quot; style=&quot;stroke:#000000;stroke-width:3.17&quot;/&gt;\n",
       "\t&lt;line x1=&quot;64.95&quot; y1=&quot;1358.08&quot; x2=&quot;64.95&quot; y2=&quot;1380.06&quot; style=&quot;stroke:#000000;stroke-width:3.17&quot;/&gt;\n",
       "\t&lt;text x=&quot;64.95&quot; y=&quot;1433.37&quot; style=&quot;font-family:&#x27;Helvetica&#x27;;font-size:60.49px;fill:#000000&quot; text-anchor=&quot;middle&quot;&gt;1&lt;/text&gt;\n",
       "\t&lt;line x1=&quot;381.95&quot; y1=&quot;1358.08&quot; x2=&quot;381.95&quot; y2=&quot;1380.06&quot; style=&quot;stroke:#000000;stroke-width:3.17&quot;/&gt;\n",
       "\t&lt;text x=&quot;381.95&quot; y=&quot;1433.37&quot; style=&quot;font-family:&#x27;Helvetica&#x27;;font-size:60.49px;fill:#000000&quot; text-anchor=&quot;middle&quot;&gt;2&lt;/text&gt;\n",
       "\t&lt;line x1=&quot;699.01&quot; y1=&quot;1358.08&quot; x2=&quot;699.01&quot; y2=&quot;1380.06&quot; style=&quot;stroke:#000000;stroke-width:3.17&quot;/&gt;\n",
       "\t&lt;text x=&quot;699.01&quot; y=&quot;1433.37&quot; style=&quot;font-family:&#x27;Helvetica&#x27;;font-size:60.49px;fill:#000000&quot; text-anchor=&quot;middle&quot;&gt;3&lt;/text&gt;\n",
       "\t&lt;line x1=&quot;1016.02&quot; y1=&quot;1358.08&quot; x2=&quot;1016.02&quot; y2=&quot;1380.06&quot; style=&quot;stroke:#000000;stroke-width:3.17&quot;/&gt;\n",
       "\t&lt;text x=&quot;1016.02&quot; y=&quot;1433.37&quot; style=&quot;font-family:&#x27;Helvetica&#x27;;font-size:60.49px;fill:#000000&quot; text-anchor=&quot;middle&quot;&gt;4&lt;/text&gt;\n",
       "\t&lt;line x1=&quot;1333.03&quot; y1=&quot;1358.08&quot; x2=&quot;1333.03&quot; y2=&quot;1380.06&quot; style=&quot;stroke:#000000;stroke-width:3.17&quot;/&gt;\n",
       "\t&lt;text x=&quot;1333.03&quot; y=&quot;1433.37&quot; style=&quot;font-family:&#x27;Helvetica&#x27;;font-size:60.49px;fill:#000000&quot; text-anchor=&quot;middle&quot;&gt;5&lt;/text&gt;\n",
       "\t&lt;text x=&quot;699.01&quot; y=&quot;1499.40&quot; style=&quot;font-family:&#x27;Helvetica&#x27;;font-size:60.49px;fill:#000000&quot; text-anchor=&quot;middle&quot;&gt;Social Distancing: Lowest (1) to Highest (5)&lt;/text&gt;\n",
       "\t&lt;rect x=&quot;618.03&quot; y=&quot;55.49&quot; width=&quot;724.50&quot; height=&quot;84.99&quot; style=&quot;fill:#7B92A8&quot;/&gt;\n",
       "\t&lt;rect x=&quot;619.61&quot; y=&quot;57.07&quot; width=&quot;721.34&quot; height=&quot;81.82&quot; style=&quot;fill:none;stroke:#7B92A8;stroke-width:3.17&quot;/&gt;\n",
       "\t&lt;text x=&quot;1333.03&quot; y=&quot;121.12&quot; style=&quot;font-family:&#x27;Helvetica&#x27;;font-size:65.99px;fill:#FFFFff&quot; text-anchor=&quot;end&quot;&gt;Primary Care Providers&lt;/text&gt;\n",
       "&lt;/svg&gt;\n",
       "</body></html>\"></iframe>\n"
      ],
      "text/plain": [
       "This front-end cannot display the desired image type."
      ]
     },
     "metadata": {
      "image/svg+xml": {
       "height": 600,
       "width": 600
      },
      "text/html": {
       "height": 600,
       "width": 600
      }
     },
     "output_type": "display_data"
    }
   ],
   "source": [
    "// Comparing Primary Care Physicians per 100,000 population to social distancing\n",
    "frame change default\n",
    "foreach var of varlist pcp_rate {\n",
    "    table iso5, c(count `var' mean `var' sem `var')\n",
    "        frame put `var' iso5, into(`var')\n",
    "            frame change `var'\n",
    "                collapse (mean) `var', by(iso5)\n",
    "                    la var `var' \"PCP per 100k Population\"\n",
    "                        line `var' iso5 , note(\"Primary Care Providers\") \n",
    "}"
   ]
  },
  {
   "cell_type": "markdown",
   "metadata": {},
   "source": [
    "---\n",
    "\n",
    "# Mental Health Providers\n",
    "\n",
    "For people sequestered at home, mental health providers may play an emerging role. These data are from CMS National Provider Identification (NPI) via [RWJF](https://www.countyhealthrankings.org/explore-health-rankings/measures-data-sources/2020-measures). It is expressed in rates per 100,000 population."
   ]
  },
  {
   "cell_type": "code",
   "execution_count": 45,
   "metadata": {},
   "outputs": [
    {
     "name": "stdout",
     "output_type": "stream",
     "text": [
      "\n",
      "\n",
      "\n",
      "       Mental Health Providers per 100,000 population\n",
      "-------------------------------------------------------------\n",
      "      Percentiles      Smallest\n",
      " 1%      7.51089              0\n",
      " 5%     13.71109          4.153\n",
      "10%     22.33016         4.2155       Obs               2,450\n",
      "25%     48.25257        4.41326       Sum of Wgt.       2,450\n",
      "\n",
      "50%     108.2791                      Mean           150.8881\n",
      "                        Largest       Std. Dev.      149.7092\n",
      "75%     203.5753       1202.062\n",
      "90%     321.5745       1355.829       Variance       22412.86\n",
      "95%     430.9503       1419.854       Skewness       2.616105\n",
      "99%     745.7847        1420.66       Kurtosis       14.55825\n"
     ]
    }
   ],
   "source": [
    "// Basic descriptive on commuting alone\n",
    "frame change default\n",
    "summ mhproviders_rate, d"
   ]
  },
  {
   "cell_type": "code",
   "execution_count": 46,
   "metadata": {},
   "outputs": [
    {
     "name": "stdout",
     "output_type": "stream",
     "text": [
      "\n",
      "\n",
      "----------------------------------------------------------\n",
      "Social    |\n",
      "Distancin |\n",
      "g: Lowest |\n",
      "(1) to    |\n",
      "Highest   |\n",
      "(5)       |    N(mhprov~e)  mean(mhprov~e)   sem(mhprov~e)\n",
      "----------+-----------------------------------------------\n",
      "        1 |            468        129.8275        7.605745\n",
      "        2 |            486       130.68528        6.615416\n",
      "        3 |            502       143.27894        5.757351\n",
      "        4 |            497       153.20643         6.05538\n",
      "        5 |            497        195.8431        7.293431\n",
      "----------------------------------------------------------\n"
     ]
    },
    {
     "data": {
      "application/pdf": "[encoded data removed]",
      "image/svg+xml": [
       "<?xml version=\"1.0\" encoding=\"UTF-8\" standalone=\"no\"?>\n",
       "<!-- This is a Stata 16.0 generated SVG file (http://www.stata.com) -->\n",
       "\n",
       "<svg version=\"1.1\" width=\"600px\" height=\"600px\" viewBox=\"0 0 1584 1584\" xmlns=\"http://www.w3.org/2000/svg\" xmlns:xlink=\"http://www.w3.org/1999/xlink\">\n",
       "\t<desc>Stata Graph - Graph</desc>\n",
       "\t<rect x=\"0\" y=\"0\" width=\"1584\" height=\"1584\" style=\"fill:#C6D3DF;stroke:none\"/>\n",
       "\t<rect x=\"0.00\" y=\"0.05\" width=\"1584.00\" height=\"1583.95\" style=\"fill:#C6D3DF\"/>\n",
       "\t<rect x=\"1.58\" y=\"1.63\" width=\"1580.83\" height=\"1580.78\" style=\"fill:none;stroke:#C6D3DF;stroke-width:3.17\"/>\n",
       "\t<line x1=\"55.44\" y1=\"1370.56\" x2=\"1308.23\" y2=\"1370.56\" style=\"stroke:#FFFFFF;stroke-width:4.75\"/>\n",
       "\t<line x1=\"55.44\" y1=\"1065.44\" x2=\"1308.23\" y2=\"1065.44\" style=\"stroke:#FFFFFF;stroke-width:4.75\"/>\n",
       "\t<line x1=\"55.44\" y1=\"760.27\" x2=\"1308.23\" y2=\"760.27\" style=\"stroke:#FFFFFF;stroke-width:4.75\"/>\n",
       "\t<line x1=\"55.44\" y1=\"455.15\" x2=\"1308.23\" y2=\"455.15\" style=\"stroke:#FFFFFF;stroke-width:4.75\"/>\n",
       "\t<line x1=\"55.44\" y1=\"149.98\" x2=\"1308.23\" y2=\"149.98\" style=\"stroke:#FFFFFF;stroke-width:4.75\"/>\n",
       "\t<path d=\" M64.90 1220.67 L373.34 1207.55 L681.83 1015.44 L990.28 863.97 L1298.72 213.44\" stroke-linejoin=\"round\" style=\"fill:none;stroke:#3E647D;stroke-width:19.01\"/>\n",
       "\t<text x=\"1330.26\" y=\"1391.74\" style=\"font-family:'Helvetica';font-size:60.49px;fill:#000000\">120</text>\n",
       "\t<text x=\"1330.26\" y=\"1086.62\" style=\"font-family:'Helvetica';font-size:60.49px;fill:#000000\">140</text>\n",
       "\t<text x=\"1330.26\" y=\"781.45\" style=\"font-family:'Helvetica';font-size:60.49px;fill:#000000\">160</text>\n",
       "\t<text x=\"1330.26\" y=\"476.34\" style=\"font-family:'Helvetica';font-size:60.49px;fill:#000000\">180</text>\n",
       "\t<text x=\"1330.26\" y=\"171.17\" style=\"font-family:'Helvetica';font-size:60.49px;fill:#000000\">200</text>\n",
       "\t<text x=\"1499.40\" y=\"760.27\" style=\"font-family:'Helvetica';font-size:60.49px;fill:#000000\" transform=\"rotate(-90 1499.40,760.27)\" text-anchor=\"middle\">Mental Health Proviers per 100k population</text>\n",
       "\t<line x1=\"55.44\" y1=\"1380.06\" x2=\"1308.23\" y2=\"1380.06\" style=\"stroke:#000000;stroke-width:3.17\"/>\n",
       "\t<line x1=\"64.95\" y1=\"1358.08\" x2=\"64.95\" y2=\"1380.06\" style=\"stroke:#000000;stroke-width:3.17\"/>\n",
       "\t<text x=\"64.95\" y=\"1433.37\" style=\"font-family:'Helvetica';font-size:60.49px;fill:#000000\" text-anchor=\"middle\">1</text>\n",
       "\t<line x1=\"373.39\" y1=\"1358.08\" x2=\"373.39\" y2=\"1380.06\" style=\"stroke:#000000;stroke-width:3.17\"/>\n",
       "\t<text x=\"373.39\" y=\"1433.37\" style=\"font-family:'Helvetica';font-size:60.49px;fill:#000000\" text-anchor=\"middle\">2</text>\n",
       "\t<line x1=\"681.83\" y1=\"1358.08\" x2=\"681.83\" y2=\"1380.06\" style=\"stroke:#000000;stroke-width:3.17\"/>\n",
       "\t<text x=\"681.83\" y=\"1433.37\" style=\"font-family:'Helvetica';font-size:60.49px;fill:#000000\" text-anchor=\"middle\">3</text>\n",
       "\t<line x1=\"990.28\" y1=\"1358.08\" x2=\"990.28\" y2=\"1380.06\" style=\"stroke:#000000;stroke-width:3.17\"/>\n",
       "\t<text x=\"990.28\" y=\"1433.37\" style=\"font-family:'Helvetica';font-size:60.49px;fill:#000000\" text-anchor=\"middle\">4</text>\n",
       "\t<line x1=\"1298.72\" y1=\"1358.08\" x2=\"1298.72\" y2=\"1380.06\" style=\"stroke:#000000;stroke-width:3.17\"/>\n",
       "\t<text x=\"1298.72\" y=\"1433.37\" style=\"font-family:'Helvetica';font-size:60.49px;fill:#000000\" text-anchor=\"middle\">5</text>\n",
       "\t<text x=\"681.83\" y=\"1499.40\" style=\"font-family:'Helvetica';font-size:60.49px;fill:#000000\" text-anchor=\"middle\">Social Distancing: Lowest (1) to Highest (5)</text>\n",
       "\t<rect x=\"565.70\" y=\"55.49\" width=\"742.52\" height=\"84.99\" style=\"fill:#7B92A8\"/>\n",
       "\t<rect x=\"567.29\" y=\"57.07\" width=\"739.36\" height=\"81.82\" style=\"fill:none;stroke:#7B92A8;stroke-width:3.17\"/>\n",
       "\t<text x=\"1298.72\" y=\"121.12\" style=\"font-family:'Helvetica';font-size:65.99px;fill:#FFFFff\" text-anchor=\"end\">Mental Health Providers</text>\n",
       "</svg>\n"
      ],
      "text/html": [
       "                <iframe frameborder=\"0\" scrolling=\"no\" height=\"600\" width=\"600\"                srcdoc=\"<html><body>&lt;?xml version=&quot;1.0&quot; encoding=&quot;UTF-8&quot; standalone=&quot;no&quot;?&gt;\n",
       "&lt;!-- This is a Stata 16.0 generated SVG file (http://www.stata.com) --&gt;\n",
       "\n",
       "&lt;svg version=&quot;1.1&quot; width=&quot;600px&quot; height=&quot;600px&quot; viewBox=&quot;0 0 1584 1584&quot; xmlns=&quot;http://www.w3.org/2000/svg&quot; xmlns:xlink=&quot;http://www.w3.org/1999/xlink&quot;&gt;\n",
       "\t&lt;desc&gt;Stata Graph - Graph&lt;/desc&gt;\n",
       "\t&lt;rect x=&quot;0&quot; y=&quot;0&quot; width=&quot;1584&quot; height=&quot;1584&quot; style=&quot;fill:#C6D3DF;stroke:none&quot;/&gt;\n",
       "\t&lt;rect x=&quot;0.00&quot; y=&quot;0.05&quot; width=&quot;1584.00&quot; height=&quot;1583.95&quot; style=&quot;fill:#C6D3DF&quot;/&gt;\n",
       "\t&lt;rect x=&quot;1.58&quot; y=&quot;1.63&quot; width=&quot;1580.83&quot; height=&quot;1580.78&quot; style=&quot;fill:none;stroke:#C6D3DF;stroke-width:3.17&quot;/&gt;\n",
       "\t&lt;line x1=&quot;55.44&quot; y1=&quot;1370.56&quot; x2=&quot;1308.23&quot; y2=&quot;1370.56&quot; style=&quot;stroke:#FFFFFF;stroke-width:4.75&quot;/&gt;\n",
       "\t&lt;line x1=&quot;55.44&quot; y1=&quot;1065.44&quot; x2=&quot;1308.23&quot; y2=&quot;1065.44&quot; style=&quot;stroke:#FFFFFF;stroke-width:4.75&quot;/&gt;\n",
       "\t&lt;line x1=&quot;55.44&quot; y1=&quot;760.27&quot; x2=&quot;1308.23&quot; y2=&quot;760.27&quot; style=&quot;stroke:#FFFFFF;stroke-width:4.75&quot;/&gt;\n",
       "\t&lt;line x1=&quot;55.44&quot; y1=&quot;455.15&quot; x2=&quot;1308.23&quot; y2=&quot;455.15&quot; style=&quot;stroke:#FFFFFF;stroke-width:4.75&quot;/&gt;\n",
       "\t&lt;line x1=&quot;55.44&quot; y1=&quot;149.98&quot; x2=&quot;1308.23&quot; y2=&quot;149.98&quot; style=&quot;stroke:#FFFFFF;stroke-width:4.75&quot;/&gt;\n",
       "\t&lt;path d=&quot; M64.90 1220.67 L373.34 1207.55 L681.83 1015.44 L990.28 863.97 L1298.72 213.44&quot; stroke-linejoin=&quot;round&quot; style=&quot;fill:none;stroke:#3E647D;stroke-width:19.01&quot;/&gt;\n",
       "\t&lt;text x=&quot;1330.26&quot; y=&quot;1391.74&quot; style=&quot;font-family:&#x27;Helvetica&#x27;;font-size:60.49px;fill:#000000&quot;&gt;120&lt;/text&gt;\n",
       "\t&lt;text x=&quot;1330.26&quot; y=&quot;1086.62&quot; style=&quot;font-family:&#x27;Helvetica&#x27;;font-size:60.49px;fill:#000000&quot;&gt;140&lt;/text&gt;\n",
       "\t&lt;text x=&quot;1330.26&quot; y=&quot;781.45&quot; style=&quot;font-family:&#x27;Helvetica&#x27;;font-size:60.49px;fill:#000000&quot;&gt;160&lt;/text&gt;\n",
       "\t&lt;text x=&quot;1330.26&quot; y=&quot;476.34&quot; style=&quot;font-family:&#x27;Helvetica&#x27;;font-size:60.49px;fill:#000000&quot;&gt;180&lt;/text&gt;\n",
       "\t&lt;text x=&quot;1330.26&quot; y=&quot;171.17&quot; style=&quot;font-family:&#x27;Helvetica&#x27;;font-size:60.49px;fill:#000000&quot;&gt;200&lt;/text&gt;\n",
       "\t&lt;text x=&quot;1499.40&quot; y=&quot;760.27&quot; style=&quot;font-family:&#x27;Helvetica&#x27;;font-size:60.49px;fill:#000000&quot; transform=&quot;rotate(-90 1499.40,760.27)&quot; text-anchor=&quot;middle&quot;&gt;Mental Health Proviers per 100k population&lt;/text&gt;\n",
       "\t&lt;line x1=&quot;55.44&quot; y1=&quot;1380.06&quot; x2=&quot;1308.23&quot; y2=&quot;1380.06&quot; style=&quot;stroke:#000000;stroke-width:3.17&quot;/&gt;\n",
       "\t&lt;line x1=&quot;64.95&quot; y1=&quot;1358.08&quot; x2=&quot;64.95&quot; y2=&quot;1380.06&quot; style=&quot;stroke:#000000;stroke-width:3.17&quot;/&gt;\n",
       "\t&lt;text x=&quot;64.95&quot; y=&quot;1433.37&quot; style=&quot;font-family:&#x27;Helvetica&#x27;;font-size:60.49px;fill:#000000&quot; text-anchor=&quot;middle&quot;&gt;1&lt;/text&gt;\n",
       "\t&lt;line x1=&quot;373.39&quot; y1=&quot;1358.08&quot; x2=&quot;373.39&quot; y2=&quot;1380.06&quot; style=&quot;stroke:#000000;stroke-width:3.17&quot;/&gt;\n",
       "\t&lt;text x=&quot;373.39&quot; y=&quot;1433.37&quot; style=&quot;font-family:&#x27;Helvetica&#x27;;font-size:60.49px;fill:#000000&quot; text-anchor=&quot;middle&quot;&gt;2&lt;/text&gt;\n",
       "\t&lt;line x1=&quot;681.83&quot; y1=&quot;1358.08&quot; x2=&quot;681.83&quot; y2=&quot;1380.06&quot; style=&quot;stroke:#000000;stroke-width:3.17&quot;/&gt;\n",
       "\t&lt;text x=&quot;681.83&quot; y=&quot;1433.37&quot; style=&quot;font-family:&#x27;Helvetica&#x27;;font-size:60.49px;fill:#000000&quot; text-anchor=&quot;middle&quot;&gt;3&lt;/text&gt;\n",
       "\t&lt;line x1=&quot;990.28&quot; y1=&quot;1358.08&quot; x2=&quot;990.28&quot; y2=&quot;1380.06&quot; style=&quot;stroke:#000000;stroke-width:3.17&quot;/&gt;\n",
       "\t&lt;text x=&quot;990.28&quot; y=&quot;1433.37&quot; style=&quot;font-family:&#x27;Helvetica&#x27;;font-size:60.49px;fill:#000000&quot; text-anchor=&quot;middle&quot;&gt;4&lt;/text&gt;\n",
       "\t&lt;line x1=&quot;1298.72&quot; y1=&quot;1358.08&quot; x2=&quot;1298.72&quot; y2=&quot;1380.06&quot; style=&quot;stroke:#000000;stroke-width:3.17&quot;/&gt;\n",
       "\t&lt;text x=&quot;1298.72&quot; y=&quot;1433.37&quot; style=&quot;font-family:&#x27;Helvetica&#x27;;font-size:60.49px;fill:#000000&quot; text-anchor=&quot;middle&quot;&gt;5&lt;/text&gt;\n",
       "\t&lt;text x=&quot;681.83&quot; y=&quot;1499.40&quot; style=&quot;font-family:&#x27;Helvetica&#x27;;font-size:60.49px;fill:#000000&quot; text-anchor=&quot;middle&quot;&gt;Social Distancing: Lowest (1) to Highest (5)&lt;/text&gt;\n",
       "\t&lt;rect x=&quot;565.70&quot; y=&quot;55.49&quot; width=&quot;742.52&quot; height=&quot;84.99&quot; style=&quot;fill:#7B92A8&quot;/&gt;\n",
       "\t&lt;rect x=&quot;567.29&quot; y=&quot;57.07&quot; width=&quot;739.36&quot; height=&quot;81.82&quot; style=&quot;fill:none;stroke:#7B92A8;stroke-width:3.17&quot;/&gt;\n",
       "\t&lt;text x=&quot;1298.72&quot; y=&quot;121.12&quot; style=&quot;font-family:&#x27;Helvetica&#x27;;font-size:65.99px;fill:#FFFFff&quot; text-anchor=&quot;end&quot;&gt;Mental Health Providers&lt;/text&gt;\n",
       "&lt;/svg&gt;\n",
       "</body></html>\"></iframe>\n"
      ],
      "text/plain": [
       "This front-end cannot display the desired image type."
      ]
     },
     "metadata": {
      "image/svg+xml": {
       "height": 600,
       "width": 600
      },
      "text/html": {
       "height": 600,
       "width": 600
      }
     },
     "output_type": "display_data"
    }
   ],
   "source": [
    "// Comparing mental health provider rate to social distancing\n",
    "foreach var of varlist mhproviders_rate {\n",
    "    frame change default\n",
    "        table iso5, c(count `var' mean `var' sem `var')\n",
    "            frame put `var' iso5, into(`var')\n",
    "                frame change `var'\n",
    "                    collapse (mean) `var', by(iso5)\n",
    "                        la var mhproviders_rate \"Mental Health Proviers per 100k population\"\n",
    "                            line `var' iso5, note(\"Mental Health Providers\")           \n",
    "}"
   ]
  },
  {
   "cell_type": "markdown",
   "metadata": {},
   "source": [
    "---\n",
    "# Health Insurance\n",
    "\n",
    "Getting hospitalized for Covid-19 is sure to be expensive. After hearing that even some front line nurses in pulmonary infectious disease units in North Carolina do not have health insurance, we wanted to see if there was any association between health insurance status and social distancing. "
   ]
  },
  {
   "cell_type": "code",
   "execution_count": 47,
   "metadata": {},
   "outputs": [
    {
     "name": "stdout",
     "output_type": "stream",
     "text": [
      "\n",
      "\n",
      "\n",
      "----------------------------------------------------------\n",
      "Social    |\n",
      "Distancin |\n",
      "g: Lowest |\n",
      "(1) to    |\n",
      "Highest   |\n",
      "(5)       |    N(uninsu~p)  mean(uninsu~p)   sem(uninsu~p)\n",
      "----------+-----------------------------------------------\n",
      "        1 |            499       13.308561        .1971504\n",
      "        2 |            497       12.334842        .2039521\n",
      "        3 |            506       10.995156        .2120537\n",
      "        4 |            503       9.4989416        .1942909\n",
      "        5 |            502       7.7708062        .1648914\n",
      "----------------------------------------------------------\n"
     ]
    },
    {
     "data": {
      "application/pdf": "[encoded data removed]",
      "image/svg+xml": [
       "<?xml version=\"1.0\" encoding=\"UTF-8\" standalone=\"no\"?>\n",
       "<!-- This is a Stata 16.0 generated SVG file (http://www.stata.com) -->\n",
       "\n",
       "<svg version=\"1.1\" width=\"600px\" height=\"600px\" viewBox=\"0 0 1584 1584\" xmlns=\"http://www.w3.org/2000/svg\" xmlns:xlink=\"http://www.w3.org/1999/xlink\">\n",
       "\t<desc>Stata Graph - Graph</desc>\n",
       "\t<rect x=\"0\" y=\"0\" width=\"1584\" height=\"1584\" style=\"fill:#C6D3DF;stroke:none\"/>\n",
       "\t<rect x=\"0.00\" y=\"0.05\" width=\"1584.00\" height=\"1583.95\" style=\"fill:#C6D3DF\"/>\n",
       "\t<rect x=\"1.58\" y=\"1.63\" width=\"1580.83\" height=\"1580.78\" style=\"fill:none;stroke:#C6D3DF;stroke-width:3.17\"/>\n",
       "\t<line x1=\"55.44\" y1=\"1320.07\" x2=\"1342.53\" y2=\"1320.07\" style=\"stroke:#FFFFFF;stroke-width:4.75\"/>\n",
       "\t<line x1=\"55.44\" y1=\"1099.64\" x2=\"1342.53\" y2=\"1099.64\" style=\"stroke:#FFFFFF;stroke-width:4.75\"/>\n",
       "\t<line x1=\"55.44\" y1=\"879.22\" x2=\"1342.53\" y2=\"879.22\" style=\"stroke:#FFFFFF;stroke-width:4.75\"/>\n",
       "\t<line x1=\"55.44\" y1=\"658.85\" x2=\"1342.53\" y2=\"658.85\" style=\"stroke:#FFFFFF;stroke-width:4.75\"/>\n",
       "\t<line x1=\"55.44\" y1=\"438.42\" x2=\"1342.53\" y2=\"438.42\" style=\"stroke:#FFFFFF;stroke-width:4.75\"/>\n",
       "\t<line x1=\"55.44\" y1=\"218.00\" x2=\"1342.53\" y2=\"218.00\" style=\"stroke:#FFFFFF;stroke-width:4.75\"/>\n",
       "\t<path d=\" M64.90 150.03 L381.95 364.62 L698.96 659.93 L1015.97 989.70 L1333.03 1370.61\" stroke-linejoin=\"round\" style=\"fill:none;stroke:#3E647D;stroke-width:19.01\"/>\n",
       "\t<text x=\"1364.51\" y=\"1341.25\" style=\"font-family:'Helvetica';font-size:60.49px;fill:#000000\">8</text>\n",
       "\t<text x=\"1364.51\" y=\"1120.83\" style=\"font-family:'Helvetica';font-size:60.49px;fill:#000000\">9</text>\n",
       "\t<text x=\"1364.51\" y=\"900.40\" style=\"font-family:'Helvetica';font-size:60.49px;fill:#000000\">10</text>\n",
       "\t<text x=\"1364.51\" y=\"680.03\" style=\"font-family:'Helvetica';font-size:60.49px;fill:#000000\">11</text>\n",
       "\t<text x=\"1364.51\" y=\"459.61\" style=\"font-family:'Helvetica';font-size:60.49px;fill:#000000\">12</text>\n",
       "\t<text x=\"1364.51\" y=\"239.18\" style=\"font-family:'Helvetica';font-size:60.49px;fill:#000000\">13</text>\n",
       "\t<text x=\"1499.40\" y=\"760.27\" style=\"font-family:'Helvetica';font-size:60.49px;fill:#000000\" transform=\"rotate(-90 1499.40,760.27)\" text-anchor=\"middle\">% Uninsured</text>\n",
       "\t<line x1=\"55.44\" y1=\"1380.06\" x2=\"1342.53\" y2=\"1380.06\" style=\"stroke:#000000;stroke-width:3.17\"/>\n",
       "\t<line x1=\"64.95\" y1=\"1358.08\" x2=\"64.95\" y2=\"1380.06\" style=\"stroke:#000000;stroke-width:3.17\"/>\n",
       "\t<text x=\"64.95\" y=\"1433.37\" style=\"font-family:'Helvetica';font-size:60.49px;fill:#000000\" text-anchor=\"middle\">1</text>\n",
       "\t<line x1=\"381.95\" y1=\"1358.08\" x2=\"381.95\" y2=\"1380.06\" style=\"stroke:#000000;stroke-width:3.17\"/>\n",
       "\t<text x=\"381.95\" y=\"1433.37\" style=\"font-family:'Helvetica';font-size:60.49px;fill:#000000\" text-anchor=\"middle\">2</text>\n",
       "\t<line x1=\"699.01\" y1=\"1358.08\" x2=\"699.01\" y2=\"1380.06\" style=\"stroke:#000000;stroke-width:3.17\"/>\n",
       "\t<text x=\"699.01\" y=\"1433.37\" style=\"font-family:'Helvetica';font-size:60.49px;fill:#000000\" text-anchor=\"middle\">3</text>\n",
       "\t<line x1=\"1016.02\" y1=\"1358.08\" x2=\"1016.02\" y2=\"1380.06\" style=\"stroke:#000000;stroke-width:3.17\"/>\n",
       "\t<text x=\"1016.02\" y=\"1433.37\" style=\"font-family:'Helvetica';font-size:60.49px;fill:#000000\" text-anchor=\"middle\">4</text>\n",
       "\t<line x1=\"1333.03\" y1=\"1358.08\" x2=\"1333.03\" y2=\"1380.06\" style=\"stroke:#000000;stroke-width:3.17\"/>\n",
       "\t<text x=\"1333.03\" y=\"1433.37\" style=\"font-family:'Helvetica';font-size:60.49px;fill:#000000\" text-anchor=\"middle\">5</text>\n",
       "\t<text x=\"699.01\" y=\"1499.40\" style=\"font-family:'Helvetica';font-size:60.49px;fill:#000000\" text-anchor=\"middle\">Social Distancing: Lowest (1) to Highest (5)</text>\n",
       "\t<rect x=\"511.99\" y=\"55.49\" width=\"830.54\" height=\"84.99\" style=\"fill:#7B92A8\"/>\n",
       "\t<rect x=\"513.58\" y=\"57.07\" width=\"827.37\" height=\"81.82\" style=\"fill:none;stroke:#7B92A8;stroke-width:3.17\"/>\n",
       "\t<text x=\"1333.03\" y=\"121.12\" style=\"font-family:'Helvetica';font-size:65.99px;fill:#FFFFff\" text-anchor=\"end\">Uninsured Adults Under 65</text>\n",
       "</svg>\n"
      ],
      "text/html": [
       "                <iframe frameborder=\"0\" scrolling=\"no\" height=\"600\" width=\"600\"                srcdoc=\"<html><body>&lt;?xml version=&quot;1.0&quot; encoding=&quot;UTF-8&quot; standalone=&quot;no&quot;?&gt;\n",
       "&lt;!-- This is a Stata 16.0 generated SVG file (http://www.stata.com) --&gt;\n",
       "\n",
       "&lt;svg version=&quot;1.1&quot; width=&quot;600px&quot; height=&quot;600px&quot; viewBox=&quot;0 0 1584 1584&quot; xmlns=&quot;http://www.w3.org/2000/svg&quot; xmlns:xlink=&quot;http://www.w3.org/1999/xlink&quot;&gt;\n",
       "\t&lt;desc&gt;Stata Graph - Graph&lt;/desc&gt;\n",
       "\t&lt;rect x=&quot;0&quot; y=&quot;0&quot; width=&quot;1584&quot; height=&quot;1584&quot; style=&quot;fill:#C6D3DF;stroke:none&quot;/&gt;\n",
       "\t&lt;rect x=&quot;0.00&quot; y=&quot;0.05&quot; width=&quot;1584.00&quot; height=&quot;1583.95&quot; style=&quot;fill:#C6D3DF&quot;/&gt;\n",
       "\t&lt;rect x=&quot;1.58&quot; y=&quot;1.63&quot; width=&quot;1580.83&quot; height=&quot;1580.78&quot; style=&quot;fill:none;stroke:#C6D3DF;stroke-width:3.17&quot;/&gt;\n",
       "\t&lt;line x1=&quot;55.44&quot; y1=&quot;1320.07&quot; x2=&quot;1342.53&quot; y2=&quot;1320.07&quot; style=&quot;stroke:#FFFFFF;stroke-width:4.75&quot;/&gt;\n",
       "\t&lt;line x1=&quot;55.44&quot; y1=&quot;1099.64&quot; x2=&quot;1342.53&quot; y2=&quot;1099.64&quot; style=&quot;stroke:#FFFFFF;stroke-width:4.75&quot;/&gt;\n",
       "\t&lt;line x1=&quot;55.44&quot; y1=&quot;879.22&quot; x2=&quot;1342.53&quot; y2=&quot;879.22&quot; style=&quot;stroke:#FFFFFF;stroke-width:4.75&quot;/&gt;\n",
       "\t&lt;line x1=&quot;55.44&quot; y1=&quot;658.85&quot; x2=&quot;1342.53&quot; y2=&quot;658.85&quot; style=&quot;stroke:#FFFFFF;stroke-width:4.75&quot;/&gt;\n",
       "\t&lt;line x1=&quot;55.44&quot; y1=&quot;438.42&quot; x2=&quot;1342.53&quot; y2=&quot;438.42&quot; style=&quot;stroke:#FFFFFF;stroke-width:4.75&quot;/&gt;\n",
       "\t&lt;line x1=&quot;55.44&quot; y1=&quot;218.00&quot; x2=&quot;1342.53&quot; y2=&quot;218.00&quot; style=&quot;stroke:#FFFFFF;stroke-width:4.75&quot;/&gt;\n",
       "\t&lt;path d=&quot; M64.90 150.03 L381.95 364.62 L698.96 659.93 L1015.97 989.70 L1333.03 1370.61&quot; stroke-linejoin=&quot;round&quot; style=&quot;fill:none;stroke:#3E647D;stroke-width:19.01&quot;/&gt;\n",
       "\t&lt;text x=&quot;1364.51&quot; y=&quot;1341.25&quot; style=&quot;font-family:&#x27;Helvetica&#x27;;font-size:60.49px;fill:#000000&quot;&gt;8&lt;/text&gt;\n",
       "\t&lt;text x=&quot;1364.51&quot; y=&quot;1120.83&quot; style=&quot;font-family:&#x27;Helvetica&#x27;;font-size:60.49px;fill:#000000&quot;&gt;9&lt;/text&gt;\n",
       "\t&lt;text x=&quot;1364.51&quot; y=&quot;900.40&quot; style=&quot;font-family:&#x27;Helvetica&#x27;;font-size:60.49px;fill:#000000&quot;&gt;10&lt;/text&gt;\n",
       "\t&lt;text x=&quot;1364.51&quot; y=&quot;680.03&quot; style=&quot;font-family:&#x27;Helvetica&#x27;;font-size:60.49px;fill:#000000&quot;&gt;11&lt;/text&gt;\n",
       "\t&lt;text x=&quot;1364.51&quot; y=&quot;459.61&quot; style=&quot;font-family:&#x27;Helvetica&#x27;;font-size:60.49px;fill:#000000&quot;&gt;12&lt;/text&gt;\n",
       "\t&lt;text x=&quot;1364.51&quot; y=&quot;239.18&quot; style=&quot;font-family:&#x27;Helvetica&#x27;;font-size:60.49px;fill:#000000&quot;&gt;13&lt;/text&gt;\n",
       "\t&lt;text x=&quot;1499.40&quot; y=&quot;760.27&quot; style=&quot;font-family:&#x27;Helvetica&#x27;;font-size:60.49px;fill:#000000&quot; transform=&quot;rotate(-90 1499.40,760.27)&quot; text-anchor=&quot;middle&quot;&gt;% Uninsured&lt;/text&gt;\n",
       "\t&lt;line x1=&quot;55.44&quot; y1=&quot;1380.06&quot; x2=&quot;1342.53&quot; y2=&quot;1380.06&quot; style=&quot;stroke:#000000;stroke-width:3.17&quot;/&gt;\n",
       "\t&lt;line x1=&quot;64.95&quot; y1=&quot;1358.08&quot; x2=&quot;64.95&quot; y2=&quot;1380.06&quot; style=&quot;stroke:#000000;stroke-width:3.17&quot;/&gt;\n",
       "\t&lt;text x=&quot;64.95&quot; y=&quot;1433.37&quot; style=&quot;font-family:&#x27;Helvetica&#x27;;font-size:60.49px;fill:#000000&quot; text-anchor=&quot;middle&quot;&gt;1&lt;/text&gt;\n",
       "\t&lt;line x1=&quot;381.95&quot; y1=&quot;1358.08&quot; x2=&quot;381.95&quot; y2=&quot;1380.06&quot; style=&quot;stroke:#000000;stroke-width:3.17&quot;/&gt;\n",
       "\t&lt;text x=&quot;381.95&quot; y=&quot;1433.37&quot; style=&quot;font-family:&#x27;Helvetica&#x27;;font-size:60.49px;fill:#000000&quot; text-anchor=&quot;middle&quot;&gt;2&lt;/text&gt;\n",
       "\t&lt;line x1=&quot;699.01&quot; y1=&quot;1358.08&quot; x2=&quot;699.01&quot; y2=&quot;1380.06&quot; style=&quot;stroke:#000000;stroke-width:3.17&quot;/&gt;\n",
       "\t&lt;text x=&quot;699.01&quot; y=&quot;1433.37&quot; style=&quot;font-family:&#x27;Helvetica&#x27;;font-size:60.49px;fill:#000000&quot; text-anchor=&quot;middle&quot;&gt;3&lt;/text&gt;\n",
       "\t&lt;line x1=&quot;1016.02&quot; y1=&quot;1358.08&quot; x2=&quot;1016.02&quot; y2=&quot;1380.06&quot; style=&quot;stroke:#000000;stroke-width:3.17&quot;/&gt;\n",
       "\t&lt;text x=&quot;1016.02&quot; y=&quot;1433.37&quot; style=&quot;font-family:&#x27;Helvetica&#x27;;font-size:60.49px;fill:#000000&quot; text-anchor=&quot;middle&quot;&gt;4&lt;/text&gt;\n",
       "\t&lt;line x1=&quot;1333.03&quot; y1=&quot;1358.08&quot; x2=&quot;1333.03&quot; y2=&quot;1380.06&quot; style=&quot;stroke:#000000;stroke-width:3.17&quot;/&gt;\n",
       "\t&lt;text x=&quot;1333.03&quot; y=&quot;1433.37&quot; style=&quot;font-family:&#x27;Helvetica&#x27;;font-size:60.49px;fill:#000000&quot; text-anchor=&quot;middle&quot;&gt;5&lt;/text&gt;\n",
       "\t&lt;text x=&quot;699.01&quot; y=&quot;1499.40&quot; style=&quot;font-family:&#x27;Helvetica&#x27;;font-size:60.49px;fill:#000000&quot; text-anchor=&quot;middle&quot;&gt;Social Distancing: Lowest (1) to Highest (5)&lt;/text&gt;\n",
       "\t&lt;rect x=&quot;511.99&quot; y=&quot;55.49&quot; width=&quot;830.54&quot; height=&quot;84.99&quot; style=&quot;fill:#7B92A8&quot;/&gt;\n",
       "\t&lt;rect x=&quot;513.58&quot; y=&quot;57.07&quot; width=&quot;827.37&quot; height=&quot;81.82&quot; style=&quot;fill:none;stroke:#7B92A8;stroke-width:3.17&quot;/&gt;\n",
       "\t&lt;text x=&quot;1333.03&quot; y=&quot;121.12&quot; style=&quot;font-family:&#x27;Helvetica&#x27;;font-size:65.99px;fill:#FFFFff&quot; text-anchor=&quot;end&quot;&gt;Uninsured Adults Under 65&lt;/text&gt;\n",
       "&lt;/svg&gt;\n",
       "</body></html>\"></iframe>\n"
      ],
      "text/plain": [
       "This front-end cannot display the desired image type."
      ]
     },
     "metadata": {
      "image/svg+xml": {
       "height": 600,
       "width": 600
      },
      "text/html": {
       "height": 600,
       "width": 600
      }
     },
     "output_type": "display_data"
    }
   ],
   "source": [
    "// Comparing percent uninsured to social distancing\n",
    "frame change default\n",
    "foreach var of varlist uninsured_p {\n",
    "    table iso5, c(count `var' mean `var' sem `var')\n",
    "        frame put `var' iso5, into(`var')\n",
    "            frame change `var'\n",
    "                collapse (mean) `var', by(iso5)\n",
    "                    la var `var' \"% Uninsured\"\n",
    "                        line `var' iso5 , note(\"Uninsured Adults Under 65\") \n",
    "}"
   ]
  },
  {
   "cell_type": "markdown",
   "metadata": {},
   "source": [
    "Alarmingly, counties with lower social distancing also had more uninsured residents!"
   ]
  },
  {
   "cell_type": "markdown",
   "metadata": {},
   "source": [
    "---\n",
    "# Flu Vaccination\n",
    "\n",
    "We had a hypothesis that counties that were more involved in preventative behaviors would be more likely to self-isolate more thoroughly. To test this, we examined whether earlier flu vaccination rates impacted how much the county was likely to slow down in the current coronavirus outbreak. This is quantified as the percent of annual Medicare enrollees having an annual flu vaccination, as reported by the Robert Wood Johnson Foundation. Since the flu vaccine is free to all Medicare beneficiaries, and this is the elderly age group with the most influenza mortality, this is a convenient metric to test *a priori* how conscientious the population was, on average."
   ]
  },
  {
   "cell_type": "code",
   "execution_count": 48,
   "metadata": {},
   "outputs": [
    {
     "name": "stdout",
     "output_type": "stream",
     "text": [
      "\n",
      "\n",
      "\n",
      "        % Medicare Beneficiaries Getting Flu Vaccine\n",
      "-------------------------------------------------------------\n",
      "      Percentiles      Smallest\n",
      " 1%           19              9\n",
      " 5%           27             12\n",
      "10%           31             12       Obs               2,506\n",
      "25%           37             13       Sum of Wgt.       2,506\n",
      "\n",
      "50%           43                      Mean           42.21349\n",
      "                        Largest       Std. Dev.      8.461697\n",
      "75%           48             62\n",
      "90%           52             62       Variance       71.60031\n",
      "95%           54             63       Skewness      -.6005087\n",
      "99%           57             65       Kurtosis       3.218655\n",
      "\n",
      "(bin=10, start=9, width=5.6)\n"
     ]
    },
    {
     "data": {
      "application/pdf": "[encoded data removed]",
      "image/svg+xml": [
       "<?xml version=\"1.0\" encoding=\"UTF-8\" standalone=\"no\"?>\n",
       "<!-- This is a Stata 16.0 generated SVG file (http://www.stata.com) -->\n",
       "\n",
       "<svg version=\"1.1\" width=\"600px\" height=\"600px\" viewBox=\"0 0 1584 1584\" xmlns=\"http://www.w3.org/2000/svg\" xmlns:xlink=\"http://www.w3.org/1999/xlink\">\n",
       "\t<desc>Stata Graph - Graph</desc>\n",
       "\t<rect x=\"0\" y=\"0\" width=\"1584\" height=\"1584\" style=\"fill:#C6D3DF;stroke:none\"/>\n",
       "\t<rect x=\"0.00\" y=\"0.05\" width=\"1584.00\" height=\"1583.95\" style=\"fill:#C6D3DF\"/>\n",
       "\t<rect x=\"1.58\" y=\"1.63\" width=\"1580.83\" height=\"1580.78\" style=\"fill:none;stroke:#C6D3DF;stroke-width:3.17\"/>\n",
       "\t<line x1=\"55.44\" y1=\"1380.06\" x2=\"1324.12\" y2=\"1380.06\" style=\"stroke:#FFFFFF;stroke-width:4.75\"/>\n",
       "\t<line x1=\"55.44\" y1=\"1124.79\" x2=\"1324.12\" y2=\"1124.79\" style=\"stroke:#FFFFFF;stroke-width:4.75\"/>\n",
       "\t<line x1=\"55.44\" y1=\"869.57\" x2=\"1324.12\" y2=\"869.57\" style=\"stroke:#FFFFFF;stroke-width:4.75\"/>\n",
       "\t<line x1=\"55.44\" y1=\"614.29\" x2=\"1324.12\" y2=\"614.29\" style=\"stroke:#FFFFFF;stroke-width:4.75\"/>\n",
       "\t<line x1=\"55.44\" y1=\"359.02\" x2=\"1324.12\" y2=\"359.02\" style=\"stroke:#FFFFFF;stroke-width:4.75\"/>\n",
       "\t<line x1=\"55.44\" y1=\"103.75\" x2=\"1324.12\" y2=\"103.75\" style=\"stroke:#FFFFFF;stroke-width:4.75\"/>\n",
       "\t<rect x=\"124.45\" y=\"1367.34\" width=\"119.00\" height=\"12.72\" style=\"fill:#CAC27E\"/>\n",
       "\t<rect x=\"126.82\" y=\"1369.71\" width=\"114.25\" height=\"7.97\" style=\"fill:none;stroke:#D7D29E;stroke-width:4.75\"/>\n",
       "\t<rect x=\"243.45\" y=\"1336.40\" width=\"119.05\" height=\"43.66\" style=\"fill:#CAC27E\"/>\n",
       "\t<rect x=\"245.82\" y=\"1338.78\" width=\"114.30\" height=\"38.91\" style=\"fill:none;stroke:#D7D29E;stroke-width:4.75\"/>\n",
       "\t<rect x=\"362.50\" y=\"1247.30\" width=\"119.00\" height=\"132.76\" style=\"fill:#CAC27E\"/>\n",
       "\t<rect x=\"364.88\" y=\"1249.68\" width=\"114.25\" height=\"128.01\" style=\"fill:none;stroke:#D7D29E;stroke-width:4.75\"/>\n",
       "\t<rect x=\"481.50\" y=\"1045.39\" width=\"119.00\" height=\"334.67\" style=\"fill:#CAC27E\"/>\n",
       "\t<rect x=\"483.88\" y=\"1047.77\" width=\"114.25\" height=\"329.92\" style=\"fill:none;stroke:#D7D29E;stroke-width:4.75\"/>\n",
       "\t<rect x=\"600.50\" y=\"848.92\" width=\"119.05\" height=\"531.13\" style=\"fill:#CAC27E\"/>\n",
       "\t<rect x=\"602.88\" y=\"851.30\" width=\"114.30\" height=\"526.38\" style=\"fill:none;stroke:#D7D29E;stroke-width:4.75\"/>\n",
       "\t<rect x=\"719.55\" y=\"312.35\" width=\"119.00\" height=\"1067.71\" style=\"fill:#CAC27E\"/>\n",
       "\t<rect x=\"721.93\" y=\"314.72\" width=\"114.25\" height=\"1062.96\" style=\"fill:none;stroke:#D7D29E;stroke-width:4.75\"/>\n",
       "\t<rect x=\"838.56\" y=\"64.99\" width=\"119.00\" height=\"1315.07\" style=\"fill:#CAC27E\"/>\n",
       "\t<rect x=\"840.93\" y=\"67.37\" width=\"114.25\" height=\"1310.31\" style=\"fill:none;stroke:#D7D29E;stroke-width:4.75\"/>\n",
       "\t<rect x=\"957.56\" y=\"534.25\" width=\"119.00\" height=\"845.81\" style=\"fill:#CAC27E\"/>\n",
       "\t<rect x=\"959.93\" y=\"536.63\" width=\"114.25\" height=\"841.05\" style=\"fill:none;stroke:#D7D29E;stroke-width:4.75\"/>\n",
       "\t<rect x=\"1076.56\" y=\"1123.60\" width=\"119.05\" height=\"256.46\" style=\"fill:#CAC27E\"/>\n",
       "\t<rect x=\"1078.94\" y=\"1125.98\" width=\"114.30\" height=\"251.71\" style=\"fill:none;stroke:#D7D29E;stroke-width:4.75\"/>\n",
       "\t<rect x=\"1195.61\" y=\"1361.89\" width=\"119.00\" height=\"18.17\" style=\"fill:#CAC27E\"/>\n",
       "\t<rect x=\"1197.99\" y=\"1364.27\" width=\"114.25\" height=\"13.41\" style=\"fill:none;stroke:#D7D29E;stroke-width:4.75\"/>\n",
       "\t<text x=\"1346.10\" y=\"1401.24\" style=\"font-family:'Helvetica';font-size:60.49px;fill:#000000\">0</text>\n",
       "\t<text x=\"1346.10\" y=\"1145.97\" style=\"font-family:'Helvetica';font-size:60.49px;fill:#000000\">.01</text>\n",
       "\t<text x=\"1346.10\" y=\"890.75\" style=\"font-family:'Helvetica';font-size:60.49px;fill:#000000\">.02</text>\n",
       "\t<text x=\"1346.10\" y=\"635.48\" style=\"font-family:'Helvetica';font-size:60.49px;fill:#000000\">.03</text>\n",
       "\t<text x=\"1346.10\" y=\"380.21\" style=\"font-family:'Helvetica';font-size:60.49px;fill:#000000\">.04</text>\n",
       "\t<text x=\"1346.10\" y=\"124.94\" style=\"font-family:'Helvetica';font-size:60.49px;fill:#000000\">.05</text>\n",
       "\t<text x=\"1499.40\" y=\"717.80\" style=\"font-family:'Helvetica';font-size:60.49px;fill:#000000\" transform=\"rotate(-90 1499.40,717.80)\" text-anchor=\"middle\">Density</text>\n",
       "\t<line x1=\"55.44\" y1=\"1380.06\" x2=\"1324.12\" y2=\"1380.06\" style=\"stroke:#000000;stroke-width:3.17\"/>\n",
       "\t<line x1=\"145.68\" y1=\"1358.08\" x2=\"145.68\" y2=\"1380.06\" style=\"stroke:#000000;stroke-width:3.17\"/>\n",
       "\t<text x=\"145.68\" y=\"1433.37\" style=\"font-family:'Helvetica';font-size:60.49px;fill:#000000\" text-anchor=\"middle\">10</text>\n",
       "\t<line x1=\"358.24\" y1=\"1358.08\" x2=\"358.24\" y2=\"1380.06\" style=\"stroke:#000000;stroke-width:3.17\"/>\n",
       "\t<text x=\"358.24\" y=\"1433.37\" style=\"font-family:'Helvetica';font-size:60.49px;fill:#000000\" text-anchor=\"middle\">20</text>\n",
       "\t<line x1=\"570.75\" y1=\"1358.08\" x2=\"570.75\" y2=\"1380.06\" style=\"stroke:#000000;stroke-width:3.17\"/>\n",
       "\t<text x=\"570.75\" y=\"1433.37\" style=\"font-family:'Helvetica';font-size:60.49px;fill:#000000\" text-anchor=\"middle\">30</text>\n",
       "\t<line x1=\"783.31\" y1=\"1358.08\" x2=\"783.31\" y2=\"1380.06\" style=\"stroke:#000000;stroke-width:3.17\"/>\n",
       "\t<text x=\"783.31\" y=\"1433.37\" style=\"font-family:'Helvetica';font-size:60.49px;fill:#000000\" text-anchor=\"middle\">40</text>\n",
       "\t<line x1=\"995.82\" y1=\"1358.08\" x2=\"995.82\" y2=\"1380.06\" style=\"stroke:#000000;stroke-width:3.17\"/>\n",
       "\t<text x=\"995.82\" y=\"1433.37\" style=\"font-family:'Helvetica';font-size:60.49px;fill:#000000\" text-anchor=\"middle\">50</text>\n",
       "\t<line x1=\"1208.33\" y1=\"1358.08\" x2=\"1208.33\" y2=\"1380.06\" style=\"stroke:#000000;stroke-width:3.17\"/>\n",
       "\t<text x=\"1208.33\" y=\"1433.37\" style=\"font-family:'Helvetica';font-size:60.49px;fill:#000000\" text-anchor=\"middle\">60</text>\n",
       "\t<text x=\"689.75\" y=\"1499.40\" style=\"font-family:'Helvetica';font-size:60.49px;fill:#000000\" text-anchor=\"middle\">% Medicare Beneficiaries Getting Flu Vaccine</text>\n",
       "</svg>\n"
      ],
      "text/html": [
       "                <iframe frameborder=\"0\" scrolling=\"no\" height=\"600\" width=\"600\"                srcdoc=\"<html><body>&lt;?xml version=&quot;1.0&quot; encoding=&quot;UTF-8&quot; standalone=&quot;no&quot;?&gt;\n",
       "&lt;!-- This is a Stata 16.0 generated SVG file (http://www.stata.com) --&gt;\n",
       "\n",
       "&lt;svg version=&quot;1.1&quot; width=&quot;600px&quot; height=&quot;600px&quot; viewBox=&quot;0 0 1584 1584&quot; xmlns=&quot;http://www.w3.org/2000/svg&quot; xmlns:xlink=&quot;http://www.w3.org/1999/xlink&quot;&gt;\n",
       "\t&lt;desc&gt;Stata Graph - Graph&lt;/desc&gt;\n",
       "\t&lt;rect x=&quot;0&quot; y=&quot;0&quot; width=&quot;1584&quot; height=&quot;1584&quot; style=&quot;fill:#C6D3DF;stroke:none&quot;/&gt;\n",
       "\t&lt;rect x=&quot;0.00&quot; y=&quot;0.05&quot; width=&quot;1584.00&quot; height=&quot;1583.95&quot; style=&quot;fill:#C6D3DF&quot;/&gt;\n",
       "\t&lt;rect x=&quot;1.58&quot; y=&quot;1.63&quot; width=&quot;1580.83&quot; height=&quot;1580.78&quot; style=&quot;fill:none;stroke:#C6D3DF;stroke-width:3.17&quot;/&gt;\n",
       "\t&lt;line x1=&quot;55.44&quot; y1=&quot;1380.06&quot; x2=&quot;1324.12&quot; y2=&quot;1380.06&quot; style=&quot;stroke:#FFFFFF;stroke-width:4.75&quot;/&gt;\n",
       "\t&lt;line x1=&quot;55.44&quot; y1=&quot;1124.79&quot; x2=&quot;1324.12&quot; y2=&quot;1124.79&quot; style=&quot;stroke:#FFFFFF;stroke-width:4.75&quot;/&gt;\n",
       "\t&lt;line x1=&quot;55.44&quot; y1=&quot;869.57&quot; x2=&quot;1324.12&quot; y2=&quot;869.57&quot; style=&quot;stroke:#FFFFFF;stroke-width:4.75&quot;/&gt;\n",
       "\t&lt;line x1=&quot;55.44&quot; y1=&quot;614.29&quot; x2=&quot;1324.12&quot; y2=&quot;614.29&quot; style=&quot;stroke:#FFFFFF;stroke-width:4.75&quot;/&gt;\n",
       "\t&lt;line x1=&quot;55.44&quot; y1=&quot;359.02&quot; x2=&quot;1324.12&quot; y2=&quot;359.02&quot; style=&quot;stroke:#FFFFFF;stroke-width:4.75&quot;/&gt;\n",
       "\t&lt;line x1=&quot;55.44&quot; y1=&quot;103.75&quot; x2=&quot;1324.12&quot; y2=&quot;103.75&quot; style=&quot;stroke:#FFFFFF;stroke-width:4.75&quot;/&gt;\n",
       "\t&lt;rect x=&quot;124.45&quot; y=&quot;1367.34&quot; width=&quot;119.00&quot; height=&quot;12.72&quot; style=&quot;fill:#CAC27E&quot;/&gt;\n",
       "\t&lt;rect x=&quot;126.82&quot; y=&quot;1369.71&quot; width=&quot;114.25&quot; height=&quot;7.97&quot; style=&quot;fill:none;stroke:#D7D29E;stroke-width:4.75&quot;/&gt;\n",
       "\t&lt;rect x=&quot;243.45&quot; y=&quot;1336.40&quot; width=&quot;119.05&quot; height=&quot;43.66&quot; style=&quot;fill:#CAC27E&quot;/&gt;\n",
       "\t&lt;rect x=&quot;245.82&quot; y=&quot;1338.78&quot; width=&quot;114.30&quot; height=&quot;38.91&quot; style=&quot;fill:none;stroke:#D7D29E;stroke-width:4.75&quot;/&gt;\n",
       "\t&lt;rect x=&quot;362.50&quot; y=&quot;1247.30&quot; width=&quot;119.00&quot; height=&quot;132.76&quot; style=&quot;fill:#CAC27E&quot;/&gt;\n",
       "\t&lt;rect x=&quot;364.88&quot; y=&quot;1249.68&quot; width=&quot;114.25&quot; height=&quot;128.01&quot; style=&quot;fill:none;stroke:#D7D29E;stroke-width:4.75&quot;/&gt;\n",
       "\t&lt;rect x=&quot;481.50&quot; y=&quot;1045.39&quot; width=&quot;119.00&quot; height=&quot;334.67&quot; style=&quot;fill:#CAC27E&quot;/&gt;\n",
       "\t&lt;rect x=&quot;483.88&quot; y=&quot;1047.77&quot; width=&quot;114.25&quot; height=&quot;329.92&quot; style=&quot;fill:none;stroke:#D7D29E;stroke-width:4.75&quot;/&gt;\n",
       "\t&lt;rect x=&quot;600.50&quot; y=&quot;848.92&quot; width=&quot;119.05&quot; height=&quot;531.13&quot; style=&quot;fill:#CAC27E&quot;/&gt;\n",
       "\t&lt;rect x=&quot;602.88&quot; y=&quot;851.30&quot; width=&quot;114.30&quot; height=&quot;526.38&quot; style=&quot;fill:none;stroke:#D7D29E;stroke-width:4.75&quot;/&gt;\n",
       "\t&lt;rect x=&quot;719.55&quot; y=&quot;312.35&quot; width=&quot;119.00&quot; height=&quot;1067.71&quot; style=&quot;fill:#CAC27E&quot;/&gt;\n",
       "\t&lt;rect x=&quot;721.93&quot; y=&quot;314.72&quot; width=&quot;114.25&quot; height=&quot;1062.96&quot; style=&quot;fill:none;stroke:#D7D29E;stroke-width:4.75&quot;/&gt;\n",
       "\t&lt;rect x=&quot;838.56&quot; y=&quot;64.99&quot; width=&quot;119.00&quot; height=&quot;1315.07&quot; style=&quot;fill:#CAC27E&quot;/&gt;\n",
       "\t&lt;rect x=&quot;840.93&quot; y=&quot;67.37&quot; width=&quot;114.25&quot; height=&quot;1310.31&quot; style=&quot;fill:none;stroke:#D7D29E;stroke-width:4.75&quot;/&gt;\n",
       "\t&lt;rect x=&quot;957.56&quot; y=&quot;534.25&quot; width=&quot;119.00&quot; height=&quot;845.81&quot; style=&quot;fill:#CAC27E&quot;/&gt;\n",
       "\t&lt;rect x=&quot;959.93&quot; y=&quot;536.63&quot; width=&quot;114.25&quot; height=&quot;841.05&quot; style=&quot;fill:none;stroke:#D7D29E;stroke-width:4.75&quot;/&gt;\n",
       "\t&lt;rect x=&quot;1076.56&quot; y=&quot;1123.60&quot; width=&quot;119.05&quot; height=&quot;256.46&quot; style=&quot;fill:#CAC27E&quot;/&gt;\n",
       "\t&lt;rect x=&quot;1078.94&quot; y=&quot;1125.98&quot; width=&quot;114.30&quot; height=&quot;251.71&quot; style=&quot;fill:none;stroke:#D7D29E;stroke-width:4.75&quot;/&gt;\n",
       "\t&lt;rect x=&quot;1195.61&quot; y=&quot;1361.89&quot; width=&quot;119.00&quot; height=&quot;18.17&quot; style=&quot;fill:#CAC27E&quot;/&gt;\n",
       "\t&lt;rect x=&quot;1197.99&quot; y=&quot;1364.27&quot; width=&quot;114.25&quot; height=&quot;13.41&quot; style=&quot;fill:none;stroke:#D7D29E;stroke-width:4.75&quot;/&gt;\n",
       "\t&lt;text x=&quot;1346.10&quot; y=&quot;1401.24&quot; style=&quot;font-family:&#x27;Helvetica&#x27;;font-size:60.49px;fill:#000000&quot;&gt;0&lt;/text&gt;\n",
       "\t&lt;text x=&quot;1346.10&quot; y=&quot;1145.97&quot; style=&quot;font-family:&#x27;Helvetica&#x27;;font-size:60.49px;fill:#000000&quot;&gt;.01&lt;/text&gt;\n",
       "\t&lt;text x=&quot;1346.10&quot; y=&quot;890.75&quot; style=&quot;font-family:&#x27;Helvetica&#x27;;font-size:60.49px;fill:#000000&quot;&gt;.02&lt;/text&gt;\n",
       "\t&lt;text x=&quot;1346.10&quot; y=&quot;635.48&quot; style=&quot;font-family:&#x27;Helvetica&#x27;;font-size:60.49px;fill:#000000&quot;&gt;.03&lt;/text&gt;\n",
       "\t&lt;text x=&quot;1346.10&quot; y=&quot;380.21&quot; style=&quot;font-family:&#x27;Helvetica&#x27;;font-size:60.49px;fill:#000000&quot;&gt;.04&lt;/text&gt;\n",
       "\t&lt;text x=&quot;1346.10&quot; y=&quot;124.94&quot; style=&quot;font-family:&#x27;Helvetica&#x27;;font-size:60.49px;fill:#000000&quot;&gt;.05&lt;/text&gt;\n",
       "\t&lt;text x=&quot;1499.40&quot; y=&quot;717.80&quot; style=&quot;font-family:&#x27;Helvetica&#x27;;font-size:60.49px;fill:#000000&quot; transform=&quot;rotate(-90 1499.40,717.80)&quot; text-anchor=&quot;middle&quot;&gt;Density&lt;/text&gt;\n",
       "\t&lt;line x1=&quot;55.44&quot; y1=&quot;1380.06&quot; x2=&quot;1324.12&quot; y2=&quot;1380.06&quot; style=&quot;stroke:#000000;stroke-width:3.17&quot;/&gt;\n",
       "\t&lt;line x1=&quot;145.68&quot; y1=&quot;1358.08&quot; x2=&quot;145.68&quot; y2=&quot;1380.06&quot; style=&quot;stroke:#000000;stroke-width:3.17&quot;/&gt;\n",
       "\t&lt;text x=&quot;145.68&quot; y=&quot;1433.37&quot; style=&quot;font-family:&#x27;Helvetica&#x27;;font-size:60.49px;fill:#000000&quot; text-anchor=&quot;middle&quot;&gt;10&lt;/text&gt;\n",
       "\t&lt;line x1=&quot;358.24&quot; y1=&quot;1358.08&quot; x2=&quot;358.24&quot; y2=&quot;1380.06&quot; style=&quot;stroke:#000000;stroke-width:3.17&quot;/&gt;\n",
       "\t&lt;text x=&quot;358.24&quot; y=&quot;1433.37&quot; style=&quot;font-family:&#x27;Helvetica&#x27;;font-size:60.49px;fill:#000000&quot; text-anchor=&quot;middle&quot;&gt;20&lt;/text&gt;\n",
       "\t&lt;line x1=&quot;570.75&quot; y1=&quot;1358.08&quot; x2=&quot;570.75&quot; y2=&quot;1380.06&quot; style=&quot;stroke:#000000;stroke-width:3.17&quot;/&gt;\n",
       "\t&lt;text x=&quot;570.75&quot; y=&quot;1433.37&quot; style=&quot;font-family:&#x27;Helvetica&#x27;;font-size:60.49px;fill:#000000&quot; text-anchor=&quot;middle&quot;&gt;30&lt;/text&gt;\n",
       "\t&lt;line x1=&quot;783.31&quot; y1=&quot;1358.08&quot; x2=&quot;783.31&quot; y2=&quot;1380.06&quot; style=&quot;stroke:#000000;stroke-width:3.17&quot;/&gt;\n",
       "\t&lt;text x=&quot;783.31&quot; y=&quot;1433.37&quot; style=&quot;font-family:&#x27;Helvetica&#x27;;font-size:60.49px;fill:#000000&quot; text-anchor=&quot;middle&quot;&gt;40&lt;/text&gt;\n",
       "\t&lt;line x1=&quot;995.82&quot; y1=&quot;1358.08&quot; x2=&quot;995.82&quot; y2=&quot;1380.06&quot; style=&quot;stroke:#000000;stroke-width:3.17&quot;/&gt;\n",
       "\t&lt;text x=&quot;995.82&quot; y=&quot;1433.37&quot; style=&quot;font-family:&#x27;Helvetica&#x27;;font-size:60.49px;fill:#000000&quot; text-anchor=&quot;middle&quot;&gt;50&lt;/text&gt;\n",
       "\t&lt;line x1=&quot;1208.33&quot; y1=&quot;1358.08&quot; x2=&quot;1208.33&quot; y2=&quot;1380.06&quot; style=&quot;stroke:#000000;stroke-width:3.17&quot;/&gt;\n",
       "\t&lt;text x=&quot;1208.33&quot; y=&quot;1433.37&quot; style=&quot;font-family:&#x27;Helvetica&#x27;;font-size:60.49px;fill:#000000&quot; text-anchor=&quot;middle&quot;&gt;60&lt;/text&gt;\n",
       "\t&lt;text x=&quot;689.75&quot; y=&quot;1499.40&quot; style=&quot;font-family:&#x27;Helvetica&#x27;;font-size:60.49px;fill:#000000&quot; text-anchor=&quot;middle&quot;&gt;% Medicare Beneficiaries Getting Flu Vaccine&lt;/text&gt;\n",
       "&lt;/svg&gt;\n",
       "</body></html>\"></iframe>\n"
      ],
      "text/plain": [
       "This front-end cannot display the desired image type."
      ]
     },
     "metadata": {
      "image/svg+xml": {
       "height": 600,
       "width": 600
      },
      "text/html": {
       "height": 600,
       "width": 600
      }
     },
     "output_type": "display_data"
    },
    {
     "name": "stdout",
     "output_type": "stream",
     "text": [
      "\n"
     ]
    }
   ],
   "source": [
    "// Basic descriptive on background influenza vaccine\n",
    "frame change default\n",
    "summ fluvaccine, d\n",
    "hist fluvaccine, bin(10)"
   ]
  },
  {
   "cell_type": "code",
   "execution_count": 49,
   "metadata": {},
   "outputs": [
    {
     "name": "stdout",
     "output_type": "stream",
     "text": [
      "\n",
      "\n",
      "----------------------------------------------------------\n",
      "Social    |\n",
      "Distancin |\n",
      "g: Lowest |\n",
      "(1) to    |\n",
      "Highest   |\n",
      "(5)       |    N(fluvac~e)  mean(fluvac~e)   sem(fluvac~e)\n",
      "----------+-----------------------------------------------\n",
      "        1 |            498       39.339359        .3682052\n",
      "        2 |            497       41.714287        .3583028\n",
      "        3 |            506       42.600792        .3745272\n",
      "        4 |            503       42.842941        .3787197\n",
      "        5 |            502       44.537849        .3723575\n",
      "----------------------------------------------------------\n"
     ]
    },
    {
     "data": {
      "application/pdf": "[encoded data removed]",
      "image/svg+xml": [
       "<?xml version=\"1.0\" encoding=\"UTF-8\" standalone=\"no\"?>\n",
       "<!-- This is a Stata 16.0 generated SVG file (http://www.stata.com) -->\n",
       "\n",
       "<svg version=\"1.1\" width=\"600px\" height=\"600px\" viewBox=\"0 0 1584 1584\" xmlns=\"http://www.w3.org/2000/svg\" xmlns:xlink=\"http://www.w3.org/1999/xlink\">\n",
       "\t<desc>Stata Graph - Graph</desc>\n",
       "\t<rect x=\"0\" y=\"0\" width=\"1584\" height=\"1584\" style=\"fill:#C6D3DF;stroke:none\"/>\n",
       "\t<rect x=\"0.00\" y=\"0.05\" width=\"1584.00\" height=\"1583.95\" style=\"fill:#C6D3DF\"/>\n",
       "\t<rect x=\"1.58\" y=\"1.63\" width=\"1580.83\" height=\"1580.78\" style=\"fill:none;stroke:#C6D3DF;stroke-width:3.17\"/>\n",
       "\t<line x1=\"55.44\" y1=\"1065.44\" x2=\"1342.53\" y2=\"1065.44\" style=\"stroke:#FFFFFF;stroke-width:4.75\"/>\n",
       "\t<line x1=\"55.44\" y1=\"760.27\" x2=\"1342.53\" y2=\"760.27\" style=\"stroke:#FFFFFF;stroke-width:4.75\"/>\n",
       "\t<line x1=\"55.44\" y1=\"455.15\" x2=\"1342.53\" y2=\"455.15\" style=\"stroke:#FFFFFF;stroke-width:4.75\"/>\n",
       "\t<path d=\" M64.90 1166.22 L381.95 803.88 L698.96 668.65 L1015.97 631.72 L1333.03 373.08\" stroke-linejoin=\"round\" style=\"fill:none;stroke:#3E647D;stroke-width:19.01\"/>\n",
       "\t<text x=\"1364.51\" y=\"1391.74\" style=\"font-family:'Helvetica';font-size:60.49px;fill:#000000\">38</text>\n",
       "\t<text x=\"1364.51\" y=\"1086.62\" style=\"font-family:'Helvetica';font-size:60.49px;fill:#000000\">40</text>\n",
       "\t<text x=\"1364.51\" y=\"781.45\" style=\"font-family:'Helvetica';font-size:60.49px;fill:#000000\">42</text>\n",
       "\t<text x=\"1364.51\" y=\"476.34\" style=\"font-family:'Helvetica';font-size:60.49px;fill:#000000\">44</text>\n",
       "\t<text x=\"1364.51\" y=\"171.17\" style=\"font-family:'Helvetica';font-size:60.49px;fill:#000000\">46</text>\n",
       "\t<text x=\"1499.40\" y=\"760.27\" style=\"font-family:'Helvetica';font-size:60.49px;fill:#000000\" transform=\"rotate(-90 1499.40,760.27)\" text-anchor=\"middle\">Medicare Beneficiary Flu Vaccination %</text>\n",
       "\t<line x1=\"55.44\" y1=\"1380.06\" x2=\"1342.53\" y2=\"1380.06\" style=\"stroke:#000000;stroke-width:3.17\"/>\n",
       "\t<line x1=\"64.95\" y1=\"1358.08\" x2=\"64.95\" y2=\"1380.06\" style=\"stroke:#000000;stroke-width:3.17\"/>\n",
       "\t<text x=\"64.95\" y=\"1433.37\" style=\"font-family:'Helvetica';font-size:60.49px;fill:#000000\" text-anchor=\"middle\">1</text>\n",
       "\t<line x1=\"381.95\" y1=\"1358.08\" x2=\"381.95\" y2=\"1380.06\" style=\"stroke:#000000;stroke-width:3.17\"/>\n",
       "\t<text x=\"381.95\" y=\"1433.37\" style=\"font-family:'Helvetica';font-size:60.49px;fill:#000000\" text-anchor=\"middle\">2</text>\n",
       "\t<line x1=\"699.01\" y1=\"1358.08\" x2=\"699.01\" y2=\"1380.06\" style=\"stroke:#000000;stroke-width:3.17\"/>\n",
       "\t<text x=\"699.01\" y=\"1433.37\" style=\"font-family:'Helvetica';font-size:60.49px;fill:#000000\" text-anchor=\"middle\">3</text>\n",
       "\t<line x1=\"1016.02\" y1=\"1358.08\" x2=\"1016.02\" y2=\"1380.06\" style=\"stroke:#000000;stroke-width:3.17\"/>\n",
       "\t<text x=\"1016.02\" y=\"1433.37\" style=\"font-family:'Helvetica';font-size:60.49px;fill:#000000\" text-anchor=\"middle\">4</text>\n",
       "\t<line x1=\"1333.03\" y1=\"1358.08\" x2=\"1333.03\" y2=\"1380.06\" style=\"stroke:#000000;stroke-width:3.17\"/>\n",
       "\t<text x=\"1333.03\" y=\"1433.37\" style=\"font-family:'Helvetica';font-size:60.49px;fill:#000000\" text-anchor=\"middle\">5</text>\n",
       "\t<text x=\"699.01\" y=\"1499.40\" style=\"font-family:'Helvetica';font-size:60.49px;fill:#000000\" text-anchor=\"middle\">Social Distancing: Lowest (1) to Highest (5)</text>\n",
       "\t<rect x=\"629.12\" y=\"55.49\" width=\"713.42\" height=\"84.99\" style=\"fill:#7B92A8\"/>\n",
       "\t<rect x=\"630.70\" y=\"57.07\" width=\"710.25\" height=\"81.82\" style=\"fill:none;stroke:#7B92A8;stroke-width:3.17\"/>\n",
       "\t<text x=\"1333.03\" y=\"121.12\" style=\"font-family:'Helvetica';font-size:65.99px;fill:#FFFFff\" text-anchor=\"end\">Elderly Flu Vaccination</text>\n",
       "</svg>\n"
      ],
      "text/html": [
       "                <iframe frameborder=\"0\" scrolling=\"no\" height=\"600\" width=\"600\"                srcdoc=\"<html><body>&lt;?xml version=&quot;1.0&quot; encoding=&quot;UTF-8&quot; standalone=&quot;no&quot;?&gt;\n",
       "&lt;!-- This is a Stata 16.0 generated SVG file (http://www.stata.com) --&gt;\n",
       "\n",
       "&lt;svg version=&quot;1.1&quot; width=&quot;600px&quot; height=&quot;600px&quot; viewBox=&quot;0 0 1584 1584&quot; xmlns=&quot;http://www.w3.org/2000/svg&quot; xmlns:xlink=&quot;http://www.w3.org/1999/xlink&quot;&gt;\n",
       "\t&lt;desc&gt;Stata Graph - Graph&lt;/desc&gt;\n",
       "\t&lt;rect x=&quot;0&quot; y=&quot;0&quot; width=&quot;1584&quot; height=&quot;1584&quot; style=&quot;fill:#C6D3DF;stroke:none&quot;/&gt;\n",
       "\t&lt;rect x=&quot;0.00&quot; y=&quot;0.05&quot; width=&quot;1584.00&quot; height=&quot;1583.95&quot; style=&quot;fill:#C6D3DF&quot;/&gt;\n",
       "\t&lt;rect x=&quot;1.58&quot; y=&quot;1.63&quot; width=&quot;1580.83&quot; height=&quot;1580.78&quot; style=&quot;fill:none;stroke:#C6D3DF;stroke-width:3.17&quot;/&gt;\n",
       "\t&lt;line x1=&quot;55.44&quot; y1=&quot;1065.44&quot; x2=&quot;1342.53&quot; y2=&quot;1065.44&quot; style=&quot;stroke:#FFFFFF;stroke-width:4.75&quot;/&gt;\n",
       "\t&lt;line x1=&quot;55.44&quot; y1=&quot;760.27&quot; x2=&quot;1342.53&quot; y2=&quot;760.27&quot; style=&quot;stroke:#FFFFFF;stroke-width:4.75&quot;/&gt;\n",
       "\t&lt;line x1=&quot;55.44&quot; y1=&quot;455.15&quot; x2=&quot;1342.53&quot; y2=&quot;455.15&quot; style=&quot;stroke:#FFFFFF;stroke-width:4.75&quot;/&gt;\n",
       "\t&lt;path d=&quot; M64.90 1166.22 L381.95 803.88 L698.96 668.65 L1015.97 631.72 L1333.03 373.08&quot; stroke-linejoin=&quot;round&quot; style=&quot;fill:none;stroke:#3E647D;stroke-width:19.01&quot;/&gt;\n",
       "\t&lt;text x=&quot;1364.51&quot; y=&quot;1391.74&quot; style=&quot;font-family:&#x27;Helvetica&#x27;;font-size:60.49px;fill:#000000&quot;&gt;38&lt;/text&gt;\n",
       "\t&lt;text x=&quot;1364.51&quot; y=&quot;1086.62&quot; style=&quot;font-family:&#x27;Helvetica&#x27;;font-size:60.49px;fill:#000000&quot;&gt;40&lt;/text&gt;\n",
       "\t&lt;text x=&quot;1364.51&quot; y=&quot;781.45&quot; style=&quot;font-family:&#x27;Helvetica&#x27;;font-size:60.49px;fill:#000000&quot;&gt;42&lt;/text&gt;\n",
       "\t&lt;text x=&quot;1364.51&quot; y=&quot;476.34&quot; style=&quot;font-family:&#x27;Helvetica&#x27;;font-size:60.49px;fill:#000000&quot;&gt;44&lt;/text&gt;\n",
       "\t&lt;text x=&quot;1364.51&quot; y=&quot;171.17&quot; style=&quot;font-family:&#x27;Helvetica&#x27;;font-size:60.49px;fill:#000000&quot;&gt;46&lt;/text&gt;\n",
       "\t&lt;text x=&quot;1499.40&quot; y=&quot;760.27&quot; style=&quot;font-family:&#x27;Helvetica&#x27;;font-size:60.49px;fill:#000000&quot; transform=&quot;rotate(-90 1499.40,760.27)&quot; text-anchor=&quot;middle&quot;&gt;Medicare Beneficiary Flu Vaccination %&lt;/text&gt;\n",
       "\t&lt;line x1=&quot;55.44&quot; y1=&quot;1380.06&quot; x2=&quot;1342.53&quot; y2=&quot;1380.06&quot; style=&quot;stroke:#000000;stroke-width:3.17&quot;/&gt;\n",
       "\t&lt;line x1=&quot;64.95&quot; y1=&quot;1358.08&quot; x2=&quot;64.95&quot; y2=&quot;1380.06&quot; style=&quot;stroke:#000000;stroke-width:3.17&quot;/&gt;\n",
       "\t&lt;text x=&quot;64.95&quot; y=&quot;1433.37&quot; style=&quot;font-family:&#x27;Helvetica&#x27;;font-size:60.49px;fill:#000000&quot; text-anchor=&quot;middle&quot;&gt;1&lt;/text&gt;\n",
       "\t&lt;line x1=&quot;381.95&quot; y1=&quot;1358.08&quot; x2=&quot;381.95&quot; y2=&quot;1380.06&quot; style=&quot;stroke:#000000;stroke-width:3.17&quot;/&gt;\n",
       "\t&lt;text x=&quot;381.95&quot; y=&quot;1433.37&quot; style=&quot;font-family:&#x27;Helvetica&#x27;;font-size:60.49px;fill:#000000&quot; text-anchor=&quot;middle&quot;&gt;2&lt;/text&gt;\n",
       "\t&lt;line x1=&quot;699.01&quot; y1=&quot;1358.08&quot; x2=&quot;699.01&quot; y2=&quot;1380.06&quot; style=&quot;stroke:#000000;stroke-width:3.17&quot;/&gt;\n",
       "\t&lt;text x=&quot;699.01&quot; y=&quot;1433.37&quot; style=&quot;font-family:&#x27;Helvetica&#x27;;font-size:60.49px;fill:#000000&quot; text-anchor=&quot;middle&quot;&gt;3&lt;/text&gt;\n",
       "\t&lt;line x1=&quot;1016.02&quot; y1=&quot;1358.08&quot; x2=&quot;1016.02&quot; y2=&quot;1380.06&quot; style=&quot;stroke:#000000;stroke-width:3.17&quot;/&gt;\n",
       "\t&lt;text x=&quot;1016.02&quot; y=&quot;1433.37&quot; style=&quot;font-family:&#x27;Helvetica&#x27;;font-size:60.49px;fill:#000000&quot; text-anchor=&quot;middle&quot;&gt;4&lt;/text&gt;\n",
       "\t&lt;line x1=&quot;1333.03&quot; y1=&quot;1358.08&quot; x2=&quot;1333.03&quot; y2=&quot;1380.06&quot; style=&quot;stroke:#000000;stroke-width:3.17&quot;/&gt;\n",
       "\t&lt;text x=&quot;1333.03&quot; y=&quot;1433.37&quot; style=&quot;font-family:&#x27;Helvetica&#x27;;font-size:60.49px;fill:#000000&quot; text-anchor=&quot;middle&quot;&gt;5&lt;/text&gt;\n",
       "\t&lt;text x=&quot;699.01&quot; y=&quot;1499.40&quot; style=&quot;font-family:&#x27;Helvetica&#x27;;font-size:60.49px;fill:#000000&quot; text-anchor=&quot;middle&quot;&gt;Social Distancing: Lowest (1) to Highest (5)&lt;/text&gt;\n",
       "\t&lt;rect x=&quot;629.12&quot; y=&quot;55.49&quot; width=&quot;713.42&quot; height=&quot;84.99&quot; style=&quot;fill:#7B92A8&quot;/&gt;\n",
       "\t&lt;rect x=&quot;630.70&quot; y=&quot;57.07&quot; width=&quot;710.25&quot; height=&quot;81.82&quot; style=&quot;fill:none;stroke:#7B92A8;stroke-width:3.17&quot;/&gt;\n",
       "\t&lt;text x=&quot;1333.03&quot; y=&quot;121.12&quot; style=&quot;font-family:&#x27;Helvetica&#x27;;font-size:65.99px;fill:#FFFFff&quot; text-anchor=&quot;end&quot;&gt;Elderly Flu Vaccination&lt;/text&gt;\n",
       "&lt;/svg&gt;\n",
       "</body></html>\"></iframe>\n"
      ],
      "text/plain": [
       "This front-end cannot display the desired image type."
      ]
     },
     "metadata": {
      "image/svg+xml": {
       "height": 600,
       "width": 600
      },
      "text/html": {
       "height": 600,
       "width": 600
      }
     },
     "output_type": "display_data"
    },
    {
     "name": "stdout",
     "output_type": "stream",
     "text": [
      "\n",
      "\n",
      "\n",
      "\n",
      "\n",
      "\n"
     ]
    }
   ],
   "source": [
    "// Comparing background flu vaccination with current social distancing\n",
    "table iso5, c(count fluvaccine mean fluvaccine sem fluvaccine)\n",
    "\n",
    "frame put fluvaccine iso5, into(flu)\n",
    "    frame change flu\n",
    "        collapse (mean) fluvaccine, by(iso5)\n",
    "            la var fluvaccine \"Medicare Beneficiary Flu Vaccination %\"\n",
    "                line fluvaccine iso5, note(\"Elderly Flu Vaccination\")"
   ]
  },
  {
   "cell_type": "markdown",
   "metadata": {},
   "source": [
    "--- \n",
    "# Income\n",
    "\n",
    "There is a trend emerging. So, since the places with more social distancing seem to have more health resources, perhaps there are trends in financial means? Income data are from the American Community Survey 5-year estimates via [RWJF](https://www.countyhealthrankings.org/explore-health-rankings/measures-data-sources/2020-measures)."
   ]
  },
  {
   "cell_type": "code",
   "execution_count": 50,
   "metadata": {},
   "outputs": [
    {
     "name": "stdout",
     "output_type": "stream",
     "text": [
      "\n",
      "\n",
      "\n",
      "----------------------------------------------------------\n",
      "Social    |\n",
      "Distancin |\n",
      "g: Lowest |\n",
      "(1) to    |\n",
      "Highest   |\n",
      "(5)       |    N(income80)  mean(income80)   sem(income80)\n",
      "----------+-----------------------------------------------\n",
      "        1 |            499       86193.695        636.8371\n",
      "        2 |            497       88885.761        652.4932\n",
      "        3 |            506       93321.575        671.9309\n",
      "        4 |            503       98127.835        856.1122\n",
      "        5 |            502       112882.41        1424.063\n",
      "----------------------------------------------------------\n"
     ]
    },
    {
     "data": {
      "application/pdf": "[encoded data removed]",
      "image/svg+xml": [
       "<?xml version=\"1.0\" encoding=\"UTF-8\" standalone=\"no\"?>\n",
       "<!-- This is a Stata 16.0 generated SVG file (http://www.stata.com) -->\n",
       "\n",
       "<svg version=\"1.1\" width=\"600px\" height=\"600px\" viewBox=\"0 0 1584 1584\" xmlns=\"http://www.w3.org/2000/svg\" xmlns:xlink=\"http://www.w3.org/1999/xlink\">\n",
       "\t<desc>Stata Graph - Graph</desc>\n",
       "\t<rect x=\"0\" y=\"0\" width=\"1584\" height=\"1584\" style=\"fill:#C6D3DF;stroke:none\"/>\n",
       "\t<rect x=\"0.00\" y=\"0.05\" width=\"1584.00\" height=\"1583.95\" style=\"fill:#C6D3DF\"/>\n",
       "\t<rect x=\"1.58\" y=\"1.63\" width=\"1580.83\" height=\"1580.78\" style=\"fill:none;stroke:#C6D3DF;stroke-width:3.17\"/>\n",
       "\t<line x1=\"55.44\" y1=\"1349.96\" x2=\"1205.31\" y2=\"1349.96\" style=\"stroke:#FFFFFF;stroke-width:4.75\"/>\n",
       "\t<line x1=\"55.44\" y1=\"1049.99\" x2=\"1205.31\" y2=\"1049.99\" style=\"stroke:#FFFFFF;stroke-width:4.75\"/>\n",
       "\t<line x1=\"55.44\" y1=\"749.97\" x2=\"1205.31\" y2=\"749.97\" style=\"stroke:#FFFFFF;stroke-width:4.75\"/>\n",
       "\t<line x1=\"55.44\" y1=\"450.00\" x2=\"1205.31\" y2=\"450.00\" style=\"stroke:#FFFFFF;stroke-width:4.75\"/>\n",
       "\t<line x1=\"55.44\" y1=\"149.98\" x2=\"1205.31\" y2=\"149.98\" style=\"stroke:#FFFFFF;stroke-width:4.75\"/>\n",
       "\t<path d=\" M64.90 1370.61 L347.65 1214.78 L630.35 932.38 L913.06 692.01 L1195.81 185.67\" stroke-linejoin=\"round\" style=\"fill:none;stroke:#3E647D;stroke-width:19.01\"/>\n",
       "\t<text x=\"1227.34\" y=\"1371.15\" style=\"font-family:'Helvetica';font-size:60.49px;fill:#000000\">85000</text>\n",
       "\t<text x=\"1227.34\" y=\"1071.18\" style=\"font-family:'Helvetica';font-size:60.49px;fill:#000000\">90000</text>\n",
       "\t<text x=\"1227.34\" y=\"771.16\" style=\"font-family:'Helvetica';font-size:60.49px;fill:#000000\">95000</text>\n",
       "\t<text x=\"1227.34\" y=\"471.19\" style=\"font-family:'Helvetica';font-size:60.49px;fill:#000000\">100000</text>\n",
       "\t<text x=\"1227.34\" y=\"171.17\" style=\"font-family:'Helvetica';font-size:60.49px;fill:#000000\">105000</text>\n",
       "\t<text x=\"1499.40\" y=\"760.27\" style=\"font-family:'Helvetica';font-size:60.49px;fill:#000000\" transform=\"rotate(-90 1499.40,760.27)\" text-anchor=\"middle\">80th Percentile Annual Income ($)</text>\n",
       "\t<line x1=\"55.44\" y1=\"1380.06\" x2=\"1205.31\" y2=\"1380.06\" style=\"stroke:#000000;stroke-width:3.17\"/>\n",
       "\t<line x1=\"64.95\" y1=\"1358.08\" x2=\"64.95\" y2=\"1380.06\" style=\"stroke:#000000;stroke-width:3.17\"/>\n",
       "\t<text x=\"64.95\" y=\"1433.37\" style=\"font-family:'Helvetica';font-size:60.49px;fill:#000000\" text-anchor=\"middle\">1</text>\n",
       "\t<line x1=\"347.65\" y1=\"1358.08\" x2=\"347.65\" y2=\"1380.06\" style=\"stroke:#000000;stroke-width:3.17\"/>\n",
       "\t<text x=\"347.65\" y=\"1433.37\" style=\"font-family:'Helvetica';font-size:60.49px;fill:#000000\" text-anchor=\"middle\">2</text>\n",
       "\t<line x1=\"630.40\" y1=\"1358.08\" x2=\"630.40\" y2=\"1380.06\" style=\"stroke:#000000;stroke-width:3.17\"/>\n",
       "\t<text x=\"630.40\" y=\"1433.37\" style=\"font-family:'Helvetica';font-size:60.49px;fill:#000000\" text-anchor=\"middle\">3</text>\n",
       "\t<line x1=\"913.11\" y1=\"1358.08\" x2=\"913.11\" y2=\"1380.06\" style=\"stroke:#000000;stroke-width:3.17\"/>\n",
       "\t<text x=\"913.11\" y=\"1433.37\" style=\"font-family:'Helvetica';font-size:60.49px;fill:#000000\" text-anchor=\"middle\">4</text>\n",
       "\t<line x1=\"1195.81\" y1=\"1358.08\" x2=\"1195.81\" y2=\"1380.06\" style=\"stroke:#000000;stroke-width:3.17\"/>\n",
       "\t<text x=\"1195.81\" y=\"1433.37\" style=\"font-family:'Helvetica';font-size:60.49px;fill:#000000\" text-anchor=\"middle\">5</text>\n",
       "\t<text x=\"630.40\" y=\"1499.40\" style=\"font-family:'Helvetica';font-size:60.49px;fill:#000000\" text-anchor=\"middle\">Social Distancing: Lowest (1) to Highest (5)</text>\n",
       "\t<rect x=\"627.04\" y=\"55.49\" width=\"578.28\" height=\"84.99\" style=\"fill:#7B92A8\"/>\n",
       "\t<rect x=\"628.62\" y=\"57.07\" width=\"575.11\" height=\"81.82\" style=\"fill:none;stroke:#7B92A8;stroke-width:3.17\"/>\n",
       "\t<text x=\"1195.81\" y=\"121.12\" style=\"font-family:'Helvetica';font-size:65.99px;fill:#FFFFff\" text-anchor=\"end\">Household Income</text>\n",
       "</svg>\n"
      ],
      "text/html": [
       "                <iframe frameborder=\"0\" scrolling=\"no\" height=\"600\" width=\"600\"                srcdoc=\"<html><body>&lt;?xml version=&quot;1.0&quot; encoding=&quot;UTF-8&quot; standalone=&quot;no&quot;?&gt;\n",
       "&lt;!-- This is a Stata 16.0 generated SVG file (http://www.stata.com) --&gt;\n",
       "\n",
       "&lt;svg version=&quot;1.1&quot; width=&quot;600px&quot; height=&quot;600px&quot; viewBox=&quot;0 0 1584 1584&quot; xmlns=&quot;http://www.w3.org/2000/svg&quot; xmlns:xlink=&quot;http://www.w3.org/1999/xlink&quot;&gt;\n",
       "\t&lt;desc&gt;Stata Graph - Graph&lt;/desc&gt;\n",
       "\t&lt;rect x=&quot;0&quot; y=&quot;0&quot; width=&quot;1584&quot; height=&quot;1584&quot; style=&quot;fill:#C6D3DF;stroke:none&quot;/&gt;\n",
       "\t&lt;rect x=&quot;0.00&quot; y=&quot;0.05&quot; width=&quot;1584.00&quot; height=&quot;1583.95&quot; style=&quot;fill:#C6D3DF&quot;/&gt;\n",
       "\t&lt;rect x=&quot;1.58&quot; y=&quot;1.63&quot; width=&quot;1580.83&quot; height=&quot;1580.78&quot; style=&quot;fill:none;stroke:#C6D3DF;stroke-width:3.17&quot;/&gt;\n",
       "\t&lt;line x1=&quot;55.44&quot; y1=&quot;1349.96&quot; x2=&quot;1205.31&quot; y2=&quot;1349.96&quot; style=&quot;stroke:#FFFFFF;stroke-width:4.75&quot;/&gt;\n",
       "\t&lt;line x1=&quot;55.44&quot; y1=&quot;1049.99&quot; x2=&quot;1205.31&quot; y2=&quot;1049.99&quot; style=&quot;stroke:#FFFFFF;stroke-width:4.75&quot;/&gt;\n",
       "\t&lt;line x1=&quot;55.44&quot; y1=&quot;749.97&quot; x2=&quot;1205.31&quot; y2=&quot;749.97&quot; style=&quot;stroke:#FFFFFF;stroke-width:4.75&quot;/&gt;\n",
       "\t&lt;line x1=&quot;55.44&quot; y1=&quot;450.00&quot; x2=&quot;1205.31&quot; y2=&quot;450.00&quot; style=&quot;stroke:#FFFFFF;stroke-width:4.75&quot;/&gt;\n",
       "\t&lt;line x1=&quot;55.44&quot; y1=&quot;149.98&quot; x2=&quot;1205.31&quot; y2=&quot;149.98&quot; style=&quot;stroke:#FFFFFF;stroke-width:4.75&quot;/&gt;\n",
       "\t&lt;path d=&quot; M64.90 1370.61 L347.65 1214.78 L630.35 932.38 L913.06 692.01 L1195.81 185.67&quot; stroke-linejoin=&quot;round&quot; style=&quot;fill:none;stroke:#3E647D;stroke-width:19.01&quot;/&gt;\n",
       "\t&lt;text x=&quot;1227.34&quot; y=&quot;1371.15&quot; style=&quot;font-family:&#x27;Helvetica&#x27;;font-size:60.49px;fill:#000000&quot;&gt;85000&lt;/text&gt;\n",
       "\t&lt;text x=&quot;1227.34&quot; y=&quot;1071.18&quot; style=&quot;font-family:&#x27;Helvetica&#x27;;font-size:60.49px;fill:#000000&quot;&gt;90000&lt;/text&gt;\n",
       "\t&lt;text x=&quot;1227.34&quot; y=&quot;771.16&quot; style=&quot;font-family:&#x27;Helvetica&#x27;;font-size:60.49px;fill:#000000&quot;&gt;95000&lt;/text&gt;\n",
       "\t&lt;text x=&quot;1227.34&quot; y=&quot;471.19&quot; style=&quot;font-family:&#x27;Helvetica&#x27;;font-size:60.49px;fill:#000000&quot;&gt;100000&lt;/text&gt;\n",
       "\t&lt;text x=&quot;1227.34&quot; y=&quot;171.17&quot; style=&quot;font-family:&#x27;Helvetica&#x27;;font-size:60.49px;fill:#000000&quot;&gt;105000&lt;/text&gt;\n",
       "\t&lt;text x=&quot;1499.40&quot; y=&quot;760.27&quot; style=&quot;font-family:&#x27;Helvetica&#x27;;font-size:60.49px;fill:#000000&quot; transform=&quot;rotate(-90 1499.40,760.27)&quot; text-anchor=&quot;middle&quot;&gt;80th Percentile Annual Income ($)&lt;/text&gt;\n",
       "\t&lt;line x1=&quot;55.44&quot; y1=&quot;1380.06&quot; x2=&quot;1205.31&quot; y2=&quot;1380.06&quot; style=&quot;stroke:#000000;stroke-width:3.17&quot;/&gt;\n",
       "\t&lt;line x1=&quot;64.95&quot; y1=&quot;1358.08&quot; x2=&quot;64.95&quot; y2=&quot;1380.06&quot; style=&quot;stroke:#000000;stroke-width:3.17&quot;/&gt;\n",
       "\t&lt;text x=&quot;64.95&quot; y=&quot;1433.37&quot; style=&quot;font-family:&#x27;Helvetica&#x27;;font-size:60.49px;fill:#000000&quot; text-anchor=&quot;middle&quot;&gt;1&lt;/text&gt;\n",
       "\t&lt;line x1=&quot;347.65&quot; y1=&quot;1358.08&quot; x2=&quot;347.65&quot; y2=&quot;1380.06&quot; style=&quot;stroke:#000000;stroke-width:3.17&quot;/&gt;\n",
       "\t&lt;text x=&quot;347.65&quot; y=&quot;1433.37&quot; style=&quot;font-family:&#x27;Helvetica&#x27;;font-size:60.49px;fill:#000000&quot; text-anchor=&quot;middle&quot;&gt;2&lt;/text&gt;\n",
       "\t&lt;line x1=&quot;630.40&quot; y1=&quot;1358.08&quot; x2=&quot;630.40&quot; y2=&quot;1380.06&quot; style=&quot;stroke:#000000;stroke-width:3.17&quot;/&gt;\n",
       "\t&lt;text x=&quot;630.40&quot; y=&quot;1433.37&quot; style=&quot;font-family:&#x27;Helvetica&#x27;;font-size:60.49px;fill:#000000&quot; text-anchor=&quot;middle&quot;&gt;3&lt;/text&gt;\n",
       "\t&lt;line x1=&quot;913.11&quot; y1=&quot;1358.08&quot; x2=&quot;913.11&quot; y2=&quot;1380.06&quot; style=&quot;stroke:#000000;stroke-width:3.17&quot;/&gt;\n",
       "\t&lt;text x=&quot;913.11&quot; y=&quot;1433.37&quot; style=&quot;font-family:&#x27;Helvetica&#x27;;font-size:60.49px;fill:#000000&quot; text-anchor=&quot;middle&quot;&gt;4&lt;/text&gt;\n",
       "\t&lt;line x1=&quot;1195.81&quot; y1=&quot;1358.08&quot; x2=&quot;1195.81&quot; y2=&quot;1380.06&quot; style=&quot;stroke:#000000;stroke-width:3.17&quot;/&gt;\n",
       "\t&lt;text x=&quot;1195.81&quot; y=&quot;1433.37&quot; style=&quot;font-family:&#x27;Helvetica&#x27;;font-size:60.49px;fill:#000000&quot; text-anchor=&quot;middle&quot;&gt;5&lt;/text&gt;\n",
       "\t&lt;text x=&quot;630.40&quot; y=&quot;1499.40&quot; style=&quot;font-family:&#x27;Helvetica&#x27;;font-size:60.49px;fill:#000000&quot; text-anchor=&quot;middle&quot;&gt;Social Distancing: Lowest (1) to Highest (5)&lt;/text&gt;\n",
       "\t&lt;rect x=&quot;627.04&quot; y=&quot;55.49&quot; width=&quot;578.28&quot; height=&quot;84.99&quot; style=&quot;fill:#7B92A8&quot;/&gt;\n",
       "\t&lt;rect x=&quot;628.62&quot; y=&quot;57.07&quot; width=&quot;575.11&quot; height=&quot;81.82&quot; style=&quot;fill:none;stroke:#7B92A8;stroke-width:3.17&quot;/&gt;\n",
       "\t&lt;text x=&quot;1195.81&quot; y=&quot;121.12&quot; style=&quot;font-family:&#x27;Helvetica&#x27;;font-size:65.99px;fill:#FFFFff&quot; text-anchor=&quot;end&quot;&gt;Household Income&lt;/text&gt;\n",
       "&lt;/svg&gt;\n",
       "</body></html>\"></iframe>\n"
      ],
      "text/plain": [
       "This front-end cannot display the desired image type."
      ]
     },
     "metadata": {
      "image/svg+xml": {
       "height": 600,
       "width": 600
      },
      "text/html": {
       "height": 600,
       "width": 600
      }
     },
     "output_type": "display_data"
    }
   ],
   "source": [
    "// Comparing income inequality to social distancing\n",
    "frame change default\n",
    "foreach var of varlist income80 {\n",
    "    table iso5, c(count `var' mean `var' sem `var')\n",
    "        frame put `var' iso5, into(`var')\n",
    "            frame change `var'\n",
    "                collapse (median) `var', by(iso5)\n",
    "                    la var `var' \"80th Percentile Annual Income ($)\"\n",
    "                        line `var' iso5, note(\"Household Income\")          \n",
    "}"
   ]
  },
  {
   "cell_type": "markdown",
   "metadata": {},
   "source": [
    "---\n",
    "# Income Inequality\n",
    "\n",
    "So places with more social distancing tend to be wealthier. What about income inequality? Is this merely a matter of have and have-nots? Or does the overall structure of society tell us something. There are many compelling ways to measure income inequality. We are using the ratio of the 80th percentile of income to the 20th percentile. Loosely interpreted, the closer to 4.0, the less inequality there is. Income data are from the American Community Survey 5-year estimates via [RWJF](https://www.countyhealthrankings.org/explore-health-rankings/measures-data-sources/2020-measures)."
   ]
  },
  {
   "cell_type": "code",
   "execution_count": 51,
   "metadata": {},
   "outputs": [
    {
     "name": "stdout",
     "output_type": "stream",
     "text": [
      "\n",
      "\n",
      "\n",
      "----------------------------------------------------------\n",
      "Social    |\n",
      "Distancin |\n",
      "g: Lowest |\n",
      "(1) to    |\n",
      "Highest   |\n",
      "(5)       |    N(income~o)  mean(income~o)   sem(income~o)\n",
      "----------+-----------------------------------------------\n",
      "        1 |            499       4.8361004        .0371413\n",
      "        2 |            497        4.628354        .0297515\n",
      "        3 |            506       4.4730893        .0277805\n",
      "        4 |            503       4.3748814        .0270911\n",
      "        5 |            502       4.3956305        .0311182\n",
      "----------------------------------------------------------\n"
     ]
    },
    {
     "data": {
      "application/pdf": "[encoded data removed]",
      "image/svg+xml": [
       "<?xml version=\"1.0\" encoding=\"UTF-8\" standalone=\"no\"?>\n",
       "<!-- This is a Stata 16.0 generated SVG file (http://www.stata.com) -->\n",
       "\n",
       "<svg version=\"1.1\" width=\"600px\" height=\"600px\" viewBox=\"0 0 1584 1584\" xmlns=\"http://www.w3.org/2000/svg\" xmlns:xlink=\"http://www.w3.org/1999/xlink\">\n",
       "\t<desc>Stata Graph - Graph</desc>\n",
       "\t<rect x=\"0\" y=\"0\" width=\"1584\" height=\"1584\" style=\"fill:#C6D3DF;stroke:none\"/>\n",
       "\t<rect x=\"0.00\" y=\"0.05\" width=\"1584.00\" height=\"1583.95\" style=\"fill:#C6D3DF\"/>\n",
       "\t<rect x=\"1.58\" y=\"1.63\" width=\"1580.83\" height=\"1580.78\" style=\"fill:none;stroke:#C6D3DF;stroke-width:3.17\"/>\n",
       "\t<line x1=\"55.44\" y1=\"1304.08\" x2=\"1324.12\" y2=\"1304.08\" style=\"stroke:#FFFFFF;stroke-width:4.75\"/>\n",
       "\t<line x1=\"55.44\" y1=\"1039.45\" x2=\"1324.12\" y2=\"1039.45\" style=\"stroke:#FFFFFF;stroke-width:4.75\"/>\n",
       "\t<line x1=\"55.44\" y1=\"774.82\" x2=\"1324.12\" y2=\"774.82\" style=\"stroke:#FFFFFF;stroke-width:4.75\"/>\n",
       "\t<line x1=\"55.44\" y1=\"510.20\" x2=\"1324.12\" y2=\"510.20\" style=\"stroke:#FFFFFF;stroke-width:4.75\"/>\n",
       "\t<line x1=\"55.44\" y1=\"245.52\" x2=\"1324.12\" y2=\"245.52\" style=\"stroke:#FFFFFF;stroke-width:4.75\"/>\n",
       "\t<path d=\" M64.90 150.03 L377.35 699.78 L689.75 1110.68 L1002.16 1370.61 L1314.56 1315.66\" stroke-linejoin=\"round\" style=\"fill:none;stroke:#3E647D;stroke-width:19.01\"/>\n",
       "\t<text x=\"1346.10\" y=\"1325.26\" style=\"font-family:'Helvetica';font-size:60.49px;fill:#000000\">4.4</text>\n",
       "\t<text x=\"1346.10\" y=\"1060.63\" style=\"font-family:'Helvetica';font-size:60.49px;fill:#000000\">4.5</text>\n",
       "\t<text x=\"1346.10\" y=\"796.01\" style=\"font-family:'Helvetica';font-size:60.49px;fill:#000000\">4.6</text>\n",
       "\t<text x=\"1346.10\" y=\"531.38\" style=\"font-family:'Helvetica';font-size:60.49px;fill:#000000\">4.7</text>\n",
       "\t<text x=\"1346.10\" y=\"266.70\" style=\"font-family:'Helvetica';font-size:60.49px;fill:#000000\">4.8</text>\n",
       "\t<text x=\"1499.40\" y=\"760.27\" style=\"font-family:'Helvetica';font-size:60.49px;fill:#000000\" transform=\"rotate(-90 1499.40,760.27)\" text-anchor=\"middle\">Income inequality (80:20)</text>\n",
       "\t<line x1=\"55.44\" y1=\"1380.06\" x2=\"1324.12\" y2=\"1380.06\" style=\"stroke:#000000;stroke-width:3.17\"/>\n",
       "\t<line x1=\"64.95\" y1=\"1358.08\" x2=\"64.95\" y2=\"1380.06\" style=\"stroke:#000000;stroke-width:3.17\"/>\n",
       "\t<text x=\"64.95\" y=\"1433.37\" style=\"font-family:'Helvetica';font-size:60.49px;fill:#000000\" text-anchor=\"middle\">1</text>\n",
       "\t<line x1=\"377.35\" y1=\"1358.08\" x2=\"377.35\" y2=\"1380.06\" style=\"stroke:#000000;stroke-width:3.17\"/>\n",
       "\t<text x=\"377.35\" y=\"1433.37\" style=\"font-family:'Helvetica';font-size:60.49px;fill:#000000\" text-anchor=\"middle\">2</text>\n",
       "\t<line x1=\"689.75\" y1=\"1358.08\" x2=\"689.75\" y2=\"1380.06\" style=\"stroke:#000000;stroke-width:3.17\"/>\n",
       "\t<text x=\"689.75\" y=\"1433.37\" style=\"font-family:'Helvetica';font-size:60.49px;fill:#000000\" text-anchor=\"middle\">3</text>\n",
       "\t<line x1=\"1002.21\" y1=\"1358.08\" x2=\"1002.21\" y2=\"1380.06\" style=\"stroke:#000000;stroke-width:3.17\"/>\n",
       "\t<text x=\"1002.21\" y=\"1433.37\" style=\"font-family:'Helvetica';font-size:60.49px;fill:#000000\" text-anchor=\"middle\">4</text>\n",
       "\t<line x1=\"1314.61\" y1=\"1358.08\" x2=\"1314.61\" y2=\"1380.06\" style=\"stroke:#000000;stroke-width:3.17\"/>\n",
       "\t<text x=\"1314.61\" y=\"1433.37\" style=\"font-family:'Helvetica';font-size:60.49px;fill:#000000\" text-anchor=\"middle\">5</text>\n",
       "\t<text x=\"689.75\" y=\"1499.40\" style=\"font-family:'Helvetica';font-size:60.49px;fill:#000000\" text-anchor=\"middle\">Social Distancing: Lowest (1) to Highest (5)</text>\n",
       "\t<rect x=\"781.18\" y=\"55.49\" width=\"542.93\" height=\"84.99\" style=\"fill:#7B92A8\"/>\n",
       "\t<rect x=\"782.77\" y=\"57.07\" width=\"539.76\" height=\"81.82\" style=\"fill:none;stroke:#7B92A8;stroke-width:3.17\"/>\n",
       "\t<text x=\"1314.61\" y=\"121.12\" style=\"font-family:'Helvetica';font-size:65.99px;fill:#FFFFff\" text-anchor=\"end\">Income Inequality</text>\n",
       "</svg>\n"
      ],
      "text/html": [
       "                <iframe frameborder=\"0\" scrolling=\"no\" height=\"600\" width=\"600\"                srcdoc=\"<html><body>&lt;?xml version=&quot;1.0&quot; encoding=&quot;UTF-8&quot; standalone=&quot;no&quot;?&gt;\n",
       "&lt;!-- This is a Stata 16.0 generated SVG file (http://www.stata.com) --&gt;\n",
       "\n",
       "&lt;svg version=&quot;1.1&quot; width=&quot;600px&quot; height=&quot;600px&quot; viewBox=&quot;0 0 1584 1584&quot; xmlns=&quot;http://www.w3.org/2000/svg&quot; xmlns:xlink=&quot;http://www.w3.org/1999/xlink&quot;&gt;\n",
       "\t&lt;desc&gt;Stata Graph - Graph&lt;/desc&gt;\n",
       "\t&lt;rect x=&quot;0&quot; y=&quot;0&quot; width=&quot;1584&quot; height=&quot;1584&quot; style=&quot;fill:#C6D3DF;stroke:none&quot;/&gt;\n",
       "\t&lt;rect x=&quot;0.00&quot; y=&quot;0.05&quot; width=&quot;1584.00&quot; height=&quot;1583.95&quot; style=&quot;fill:#C6D3DF&quot;/&gt;\n",
       "\t&lt;rect x=&quot;1.58&quot; y=&quot;1.63&quot; width=&quot;1580.83&quot; height=&quot;1580.78&quot; style=&quot;fill:none;stroke:#C6D3DF;stroke-width:3.17&quot;/&gt;\n",
       "\t&lt;line x1=&quot;55.44&quot; y1=&quot;1304.08&quot; x2=&quot;1324.12&quot; y2=&quot;1304.08&quot; style=&quot;stroke:#FFFFFF;stroke-width:4.75&quot;/&gt;\n",
       "\t&lt;line x1=&quot;55.44&quot; y1=&quot;1039.45&quot; x2=&quot;1324.12&quot; y2=&quot;1039.45&quot; style=&quot;stroke:#FFFFFF;stroke-width:4.75&quot;/&gt;\n",
       "\t&lt;line x1=&quot;55.44&quot; y1=&quot;774.82&quot; x2=&quot;1324.12&quot; y2=&quot;774.82&quot; style=&quot;stroke:#FFFFFF;stroke-width:4.75&quot;/&gt;\n",
       "\t&lt;line x1=&quot;55.44&quot; y1=&quot;510.20&quot; x2=&quot;1324.12&quot; y2=&quot;510.20&quot; style=&quot;stroke:#FFFFFF;stroke-width:4.75&quot;/&gt;\n",
       "\t&lt;line x1=&quot;55.44&quot; y1=&quot;245.52&quot; x2=&quot;1324.12&quot; y2=&quot;245.52&quot; style=&quot;stroke:#FFFFFF;stroke-width:4.75&quot;/&gt;\n",
       "\t&lt;path d=&quot; M64.90 150.03 L377.35 699.78 L689.75 1110.68 L1002.16 1370.61 L1314.56 1315.66&quot; stroke-linejoin=&quot;round&quot; style=&quot;fill:none;stroke:#3E647D;stroke-width:19.01&quot;/&gt;\n",
       "\t&lt;text x=&quot;1346.10&quot; y=&quot;1325.26&quot; style=&quot;font-family:&#x27;Helvetica&#x27;;font-size:60.49px;fill:#000000&quot;&gt;4.4&lt;/text&gt;\n",
       "\t&lt;text x=&quot;1346.10&quot; y=&quot;1060.63&quot; style=&quot;font-family:&#x27;Helvetica&#x27;;font-size:60.49px;fill:#000000&quot;&gt;4.5&lt;/text&gt;\n",
       "\t&lt;text x=&quot;1346.10&quot; y=&quot;796.01&quot; style=&quot;font-family:&#x27;Helvetica&#x27;;font-size:60.49px;fill:#000000&quot;&gt;4.6&lt;/text&gt;\n",
       "\t&lt;text x=&quot;1346.10&quot; y=&quot;531.38&quot; style=&quot;font-family:&#x27;Helvetica&#x27;;font-size:60.49px;fill:#000000&quot;&gt;4.7&lt;/text&gt;\n",
       "\t&lt;text x=&quot;1346.10&quot; y=&quot;266.70&quot; style=&quot;font-family:&#x27;Helvetica&#x27;;font-size:60.49px;fill:#000000&quot;&gt;4.8&lt;/text&gt;\n",
       "\t&lt;text x=&quot;1499.40&quot; y=&quot;760.27&quot; style=&quot;font-family:&#x27;Helvetica&#x27;;font-size:60.49px;fill:#000000&quot; transform=&quot;rotate(-90 1499.40,760.27)&quot; text-anchor=&quot;middle&quot;&gt;Income inequality (80:20)&lt;/text&gt;\n",
       "\t&lt;line x1=&quot;55.44&quot; y1=&quot;1380.06&quot; x2=&quot;1324.12&quot; y2=&quot;1380.06&quot; style=&quot;stroke:#000000;stroke-width:3.17&quot;/&gt;\n",
       "\t&lt;line x1=&quot;64.95&quot; y1=&quot;1358.08&quot; x2=&quot;64.95&quot; y2=&quot;1380.06&quot; style=&quot;stroke:#000000;stroke-width:3.17&quot;/&gt;\n",
       "\t&lt;text x=&quot;64.95&quot; y=&quot;1433.37&quot; style=&quot;font-family:&#x27;Helvetica&#x27;;font-size:60.49px;fill:#000000&quot; text-anchor=&quot;middle&quot;&gt;1&lt;/text&gt;\n",
       "\t&lt;line x1=&quot;377.35&quot; y1=&quot;1358.08&quot; x2=&quot;377.35&quot; y2=&quot;1380.06&quot; style=&quot;stroke:#000000;stroke-width:3.17&quot;/&gt;\n",
       "\t&lt;text x=&quot;377.35&quot; y=&quot;1433.37&quot; style=&quot;font-family:&#x27;Helvetica&#x27;;font-size:60.49px;fill:#000000&quot; text-anchor=&quot;middle&quot;&gt;2&lt;/text&gt;\n",
       "\t&lt;line x1=&quot;689.75&quot; y1=&quot;1358.08&quot; x2=&quot;689.75&quot; y2=&quot;1380.06&quot; style=&quot;stroke:#000000;stroke-width:3.17&quot;/&gt;\n",
       "\t&lt;text x=&quot;689.75&quot; y=&quot;1433.37&quot; style=&quot;font-family:&#x27;Helvetica&#x27;;font-size:60.49px;fill:#000000&quot; text-anchor=&quot;middle&quot;&gt;3&lt;/text&gt;\n",
       "\t&lt;line x1=&quot;1002.21&quot; y1=&quot;1358.08&quot; x2=&quot;1002.21&quot; y2=&quot;1380.06&quot; style=&quot;stroke:#000000;stroke-width:3.17&quot;/&gt;\n",
       "\t&lt;text x=&quot;1002.21&quot; y=&quot;1433.37&quot; style=&quot;font-family:&#x27;Helvetica&#x27;;font-size:60.49px;fill:#000000&quot; text-anchor=&quot;middle&quot;&gt;4&lt;/text&gt;\n",
       "\t&lt;line x1=&quot;1314.61&quot; y1=&quot;1358.08&quot; x2=&quot;1314.61&quot; y2=&quot;1380.06&quot; style=&quot;stroke:#000000;stroke-width:3.17&quot;/&gt;\n",
       "\t&lt;text x=&quot;1314.61&quot; y=&quot;1433.37&quot; style=&quot;font-family:&#x27;Helvetica&#x27;;font-size:60.49px;fill:#000000&quot; text-anchor=&quot;middle&quot;&gt;5&lt;/text&gt;\n",
       "\t&lt;text x=&quot;689.75&quot; y=&quot;1499.40&quot; style=&quot;font-family:&#x27;Helvetica&#x27;;font-size:60.49px;fill:#000000&quot; text-anchor=&quot;middle&quot;&gt;Social Distancing: Lowest (1) to Highest (5)&lt;/text&gt;\n",
       "\t&lt;rect x=&quot;781.18&quot; y=&quot;55.49&quot; width=&quot;542.93&quot; height=&quot;84.99&quot; style=&quot;fill:#7B92A8&quot;/&gt;\n",
       "\t&lt;rect x=&quot;782.77&quot; y=&quot;57.07&quot; width=&quot;539.76&quot; height=&quot;81.82&quot; style=&quot;fill:none;stroke:#7B92A8;stroke-width:3.17&quot;/&gt;\n",
       "\t&lt;text x=&quot;1314.61&quot; y=&quot;121.12&quot; style=&quot;font-family:&#x27;Helvetica&#x27;;font-size:65.99px;fill:#FFFFff&quot; text-anchor=&quot;end&quot;&gt;Income Inequality&lt;/text&gt;\n",
       "&lt;/svg&gt;\n",
       "</body></html>\"></iframe>\n"
      ],
      "text/plain": [
       "This front-end cannot display the desired image type."
      ]
     },
     "metadata": {
      "image/svg+xml": {
       "height": 600,
       "width": 600
      },
      "text/html": {
       "height": 600,
       "width": 600
      }
     },
     "output_type": "display_data"
    }
   ],
   "source": [
    "// Comparing income inequality to social distancing\n",
    "frame change default\n",
    "foreach var of varlist incomeratio {\n",
    "    table iso5, c(count `var' mean `var' sem `var')\n",
    "        frame put `var' iso5, into(`var')\n",
    "            frame change `var'\n",
    "                collapse (mean) `var', by(iso5)\n",
    "                    la var `var' \"Income inequality (80:20)\"\n",
    "                        line `var' iso5, note(\"Income Inequality\")     \n",
    "}"
   ]
  },
  {
   "cell_type": "markdown",
   "metadata": {},
   "source": [
    "\n",
    "---\n",
    "*fin.*"
   ]
  },
  {
   "cell_type": "code",
   "execution_count": 52,
   "metadata": {},
   "outputs": [
    {
     "name": "stdout",
     "output_type": "stream",
     "text": [
      "\n",
      "\n",
      "\n",
      "----------------------------------------------------\n",
      "Social    |\n",
      "Distancin |\n",
      "g: Lowest |\n",
      "(1) to    |\n",
      "Highest   |\n",
      "(5)       |    N(airpol)  mean(airpol)   sem(airpol)\n",
      "----------+-----------------------------------------\n",
      "        1 |          498     9.2487952       .077229\n",
      "        2 |          496     9.6044355      .0674843\n",
      "        3 |          505          9.72      .0686454\n",
      "        4 |          502     9.6527888      .0863977\n",
      "        5 |          502     8.9537849      .0825815\n",
      "----------------------------------------------------\n"
     ]
    },
    {
     "data": {
      "application/pdf": "[encoded data removed]",
      "image/svg+xml": [
       "<?xml version=\"1.0\" encoding=\"UTF-8\" standalone=\"no\"?>\n",
       "<!-- This is a Stata 16.0 generated SVG file (http://www.stata.com) -->\n",
       "\n",
       "<svg version=\"1.1\" width=\"600px\" height=\"600px\" viewBox=\"0 0 1584 1584\" xmlns=\"http://www.w3.org/2000/svg\" xmlns:xlink=\"http://www.w3.org/1999/xlink\">\n",
       "\t<desc>Stata Graph - Graph</desc>\n",
       "\t<rect x=\"0\" y=\"0\" width=\"1584\" height=\"1584\" style=\"fill:#C6D3DF;stroke:none\"/>\n",
       "\t<rect x=\"0.00\" y=\"0.05\" width=\"1584.00\" height=\"1583.95\" style=\"fill:#C6D3DF\"/>\n",
       "\t<rect x=\"1.58\" y=\"1.63\" width=\"1580.83\" height=\"1580.78\" style=\"fill:none;stroke:#C6D3DF;stroke-width:3.17\"/>\n",
       "\t<line x1=\"55.44\" y1=\"1303.93\" x2=\"1324.12\" y2=\"1303.93\" style=\"stroke:#FFFFFF;stroke-width:4.75\"/>\n",
       "\t<line x1=\"55.44\" y1=\"1015.44\" x2=\"1324.12\" y2=\"1015.44\" style=\"stroke:#FFFFFF;stroke-width:4.75\"/>\n",
       "\t<line x1=\"55.44\" y1=\"726.96\" x2=\"1324.12\" y2=\"726.96\" style=\"stroke:#FFFFFF;stroke-width:4.75\"/>\n",
       "\t<line x1=\"55.44\" y1=\"438.47\" x2=\"1324.12\" y2=\"438.47\" style=\"stroke:#FFFFFF;stroke-width:4.75\"/>\n",
       "\t<line x1=\"55.44\" y1=\"149.98\" x2=\"1324.12\" y2=\"149.98\" style=\"stroke:#FFFFFF;stroke-width:4.75\"/>\n",
       "\t<path d=\" M64.90 945.05 L377.35 432.09 L689.75 265.42 L1002.16 362.34 L1314.56 1370.61\" stroke-linejoin=\"round\" style=\"fill:none;stroke:#3E647D;stroke-width:19.01\"/>\n",
       "\t<text x=\"1346.10\" y=\"1325.11\" style=\"font-family:'Helvetica';font-size:60.49px;fill:#000000\">9</text>\n",
       "\t<text x=\"1346.10\" y=\"1036.63\" style=\"font-family:'Helvetica';font-size:60.49px;fill:#000000\">9.2</text>\n",
       "\t<text x=\"1346.10\" y=\"748.14\" style=\"font-family:'Helvetica';font-size:60.49px;fill:#000000\">9.4</text>\n",
       "\t<text x=\"1346.10\" y=\"459.65\" style=\"font-family:'Helvetica';font-size:60.49px;fill:#000000\">9.6</text>\n",
       "\t<text x=\"1346.10\" y=\"171.17\" style=\"font-family:'Helvetica';font-size:60.49px;fill:#000000\">9.8</text>\n",
       "\t<text x=\"1499.40\" y=\"760.27\" style=\"font-family:'Helvetica';font-size:60.49px;fill:#000000\" transform=\"rotate(-90 1499.40,760.27)\" text-anchor=\"middle\">Income inequality (80:20)</text>\n",
       "\t<line x1=\"55.44\" y1=\"1380.06\" x2=\"1324.12\" y2=\"1380.06\" style=\"stroke:#000000;stroke-width:3.17\"/>\n",
       "\t<line x1=\"64.95\" y1=\"1358.08\" x2=\"64.95\" y2=\"1380.06\" style=\"stroke:#000000;stroke-width:3.17\"/>\n",
       "\t<text x=\"64.95\" y=\"1433.37\" style=\"font-family:'Helvetica';font-size:60.49px;fill:#000000\" text-anchor=\"middle\">1</text>\n",
       "\t<line x1=\"377.35\" y1=\"1358.08\" x2=\"377.35\" y2=\"1380.06\" style=\"stroke:#000000;stroke-width:3.17\"/>\n",
       "\t<text x=\"377.35\" y=\"1433.37\" style=\"font-family:'Helvetica';font-size:60.49px;fill:#000000\" text-anchor=\"middle\">2</text>\n",
       "\t<line x1=\"689.75\" y1=\"1358.08\" x2=\"689.75\" y2=\"1380.06\" style=\"stroke:#000000;stroke-width:3.17\"/>\n",
       "\t<text x=\"689.75\" y=\"1433.37\" style=\"font-family:'Helvetica';font-size:60.49px;fill:#000000\" text-anchor=\"middle\">3</text>\n",
       "\t<line x1=\"1002.21\" y1=\"1358.08\" x2=\"1002.21\" y2=\"1380.06\" style=\"stroke:#000000;stroke-width:3.17\"/>\n",
       "\t<text x=\"1002.21\" y=\"1433.37\" style=\"font-family:'Helvetica';font-size:60.49px;fill:#000000\" text-anchor=\"middle\">4</text>\n",
       "\t<line x1=\"1314.61\" y1=\"1358.08\" x2=\"1314.61\" y2=\"1380.06\" style=\"stroke:#000000;stroke-width:3.17\"/>\n",
       "\t<text x=\"1314.61\" y=\"1433.37\" style=\"font-family:'Helvetica';font-size:60.49px;fill:#000000\" text-anchor=\"middle\">5</text>\n",
       "\t<text x=\"689.75\" y=\"1499.40\" style=\"font-family:'Helvetica';font-size:60.49px;fill:#000000\" text-anchor=\"middle\">Social Distancing: Lowest (1) to Highest (5)</text>\n",
       "\t<rect x=\"955.13\" y=\"55.49\" width=\"368.98\" height=\"84.99\" style=\"fill:#7B92A8\"/>\n",
       "\t<rect x=\"956.72\" y=\"57.07\" width=\"365.82\" height=\"81.82\" style=\"fill:none;stroke:#7B92A8;stroke-width:3.17\"/>\n",
       "\t<text x=\"1314.61\" y=\"121.12\" style=\"font-family:'Helvetica';font-size:65.99px;fill:#FFFFff\" text-anchor=\"end\">Air Polution</text>\n",
       "</svg>\n"
      ],
      "text/html": [
       "                <iframe frameborder=\"0\" scrolling=\"no\" height=\"600\" width=\"600\"                srcdoc=\"<html><body>&lt;?xml version=&quot;1.0&quot; encoding=&quot;UTF-8&quot; standalone=&quot;no&quot;?&gt;\n",
       "&lt;!-- This is a Stata 16.0 generated SVG file (http://www.stata.com) --&gt;\n",
       "\n",
       "&lt;svg version=&quot;1.1&quot; width=&quot;600px&quot; height=&quot;600px&quot; viewBox=&quot;0 0 1584 1584&quot; xmlns=&quot;http://www.w3.org/2000/svg&quot; xmlns:xlink=&quot;http://www.w3.org/1999/xlink&quot;&gt;\n",
       "\t&lt;desc&gt;Stata Graph - Graph&lt;/desc&gt;\n",
       "\t&lt;rect x=&quot;0&quot; y=&quot;0&quot; width=&quot;1584&quot; height=&quot;1584&quot; style=&quot;fill:#C6D3DF;stroke:none&quot;/&gt;\n",
       "\t&lt;rect x=&quot;0.00&quot; y=&quot;0.05&quot; width=&quot;1584.00&quot; height=&quot;1583.95&quot; style=&quot;fill:#C6D3DF&quot;/&gt;\n",
       "\t&lt;rect x=&quot;1.58&quot; y=&quot;1.63&quot; width=&quot;1580.83&quot; height=&quot;1580.78&quot; style=&quot;fill:none;stroke:#C6D3DF;stroke-width:3.17&quot;/&gt;\n",
       "\t&lt;line x1=&quot;55.44&quot; y1=&quot;1303.93&quot; x2=&quot;1324.12&quot; y2=&quot;1303.93&quot; style=&quot;stroke:#FFFFFF;stroke-width:4.75&quot;/&gt;\n",
       "\t&lt;line x1=&quot;55.44&quot; y1=&quot;1015.44&quot; x2=&quot;1324.12&quot; y2=&quot;1015.44&quot; style=&quot;stroke:#FFFFFF;stroke-width:4.75&quot;/&gt;\n",
       "\t&lt;line x1=&quot;55.44&quot; y1=&quot;726.96&quot; x2=&quot;1324.12&quot; y2=&quot;726.96&quot; style=&quot;stroke:#FFFFFF;stroke-width:4.75&quot;/&gt;\n",
       "\t&lt;line x1=&quot;55.44&quot; y1=&quot;438.47&quot; x2=&quot;1324.12&quot; y2=&quot;438.47&quot; style=&quot;stroke:#FFFFFF;stroke-width:4.75&quot;/&gt;\n",
       "\t&lt;line x1=&quot;55.44&quot; y1=&quot;149.98&quot; x2=&quot;1324.12&quot; y2=&quot;149.98&quot; style=&quot;stroke:#FFFFFF;stroke-width:4.75&quot;/&gt;\n",
       "\t&lt;path d=&quot; M64.90 945.05 L377.35 432.09 L689.75 265.42 L1002.16 362.34 L1314.56 1370.61&quot; stroke-linejoin=&quot;round&quot; style=&quot;fill:none;stroke:#3E647D;stroke-width:19.01&quot;/&gt;\n",
       "\t&lt;text x=&quot;1346.10&quot; y=&quot;1325.11&quot; style=&quot;font-family:&#x27;Helvetica&#x27;;font-size:60.49px;fill:#000000&quot;&gt;9&lt;/text&gt;\n",
       "\t&lt;text x=&quot;1346.10&quot; y=&quot;1036.63&quot; style=&quot;font-family:&#x27;Helvetica&#x27;;font-size:60.49px;fill:#000000&quot;&gt;9.2&lt;/text&gt;\n",
       "\t&lt;text x=&quot;1346.10&quot; y=&quot;748.14&quot; style=&quot;font-family:&#x27;Helvetica&#x27;;font-size:60.49px;fill:#000000&quot;&gt;9.4&lt;/text&gt;\n",
       "\t&lt;text x=&quot;1346.10&quot; y=&quot;459.65&quot; style=&quot;font-family:&#x27;Helvetica&#x27;;font-size:60.49px;fill:#000000&quot;&gt;9.6&lt;/text&gt;\n",
       "\t&lt;text x=&quot;1346.10&quot; y=&quot;171.17&quot; style=&quot;font-family:&#x27;Helvetica&#x27;;font-size:60.49px;fill:#000000&quot;&gt;9.8&lt;/text&gt;\n",
       "\t&lt;text x=&quot;1499.40&quot; y=&quot;760.27&quot; style=&quot;font-family:&#x27;Helvetica&#x27;;font-size:60.49px;fill:#000000&quot; transform=&quot;rotate(-90 1499.40,760.27)&quot; text-anchor=&quot;middle&quot;&gt;Income inequality (80:20)&lt;/text&gt;\n",
       "\t&lt;line x1=&quot;55.44&quot; y1=&quot;1380.06&quot; x2=&quot;1324.12&quot; y2=&quot;1380.06&quot; style=&quot;stroke:#000000;stroke-width:3.17&quot;/&gt;\n",
       "\t&lt;line x1=&quot;64.95&quot; y1=&quot;1358.08&quot; x2=&quot;64.95&quot; y2=&quot;1380.06&quot; style=&quot;stroke:#000000;stroke-width:3.17&quot;/&gt;\n",
       "\t&lt;text x=&quot;64.95&quot; y=&quot;1433.37&quot; style=&quot;font-family:&#x27;Helvetica&#x27;;font-size:60.49px;fill:#000000&quot; text-anchor=&quot;middle&quot;&gt;1&lt;/text&gt;\n",
       "\t&lt;line x1=&quot;377.35&quot; y1=&quot;1358.08&quot; x2=&quot;377.35&quot; y2=&quot;1380.06&quot; style=&quot;stroke:#000000;stroke-width:3.17&quot;/&gt;\n",
       "\t&lt;text x=&quot;377.35&quot; y=&quot;1433.37&quot; style=&quot;font-family:&#x27;Helvetica&#x27;;font-size:60.49px;fill:#000000&quot; text-anchor=&quot;middle&quot;&gt;2&lt;/text&gt;\n",
       "\t&lt;line x1=&quot;689.75&quot; y1=&quot;1358.08&quot; x2=&quot;689.75&quot; y2=&quot;1380.06&quot; style=&quot;stroke:#000000;stroke-width:3.17&quot;/&gt;\n",
       "\t&lt;text x=&quot;689.75&quot; y=&quot;1433.37&quot; style=&quot;font-family:&#x27;Helvetica&#x27;;font-size:60.49px;fill:#000000&quot; text-anchor=&quot;middle&quot;&gt;3&lt;/text&gt;\n",
       "\t&lt;line x1=&quot;1002.21&quot; y1=&quot;1358.08&quot; x2=&quot;1002.21&quot; y2=&quot;1380.06&quot; style=&quot;stroke:#000000;stroke-width:3.17&quot;/&gt;\n",
       "\t&lt;text x=&quot;1002.21&quot; y=&quot;1433.37&quot; style=&quot;font-family:&#x27;Helvetica&#x27;;font-size:60.49px;fill:#000000&quot; text-anchor=&quot;middle&quot;&gt;4&lt;/text&gt;\n",
       "\t&lt;line x1=&quot;1314.61&quot; y1=&quot;1358.08&quot; x2=&quot;1314.61&quot; y2=&quot;1380.06&quot; style=&quot;stroke:#000000;stroke-width:3.17&quot;/&gt;\n",
       "\t&lt;text x=&quot;1314.61&quot; y=&quot;1433.37&quot; style=&quot;font-family:&#x27;Helvetica&#x27;;font-size:60.49px;fill:#000000&quot; text-anchor=&quot;middle&quot;&gt;5&lt;/text&gt;\n",
       "\t&lt;text x=&quot;689.75&quot; y=&quot;1499.40&quot; style=&quot;font-family:&#x27;Helvetica&#x27;;font-size:60.49px;fill:#000000&quot; text-anchor=&quot;middle&quot;&gt;Social Distancing: Lowest (1) to Highest (5)&lt;/text&gt;\n",
       "\t&lt;rect x=&quot;955.13&quot; y=&quot;55.49&quot; width=&quot;368.98&quot; height=&quot;84.99&quot; style=&quot;fill:#7B92A8&quot;/&gt;\n",
       "\t&lt;rect x=&quot;956.72&quot; y=&quot;57.07&quot; width=&quot;365.82&quot; height=&quot;81.82&quot; style=&quot;fill:none;stroke:#7B92A8;stroke-width:3.17&quot;/&gt;\n",
       "\t&lt;text x=&quot;1314.61&quot; y=&quot;121.12&quot; style=&quot;font-family:&#x27;Helvetica&#x27;;font-size:65.99px;fill:#FFFFff&quot; text-anchor=&quot;end&quot;&gt;Air Polution&lt;/text&gt;\n",
       "&lt;/svg&gt;\n",
       "</body></html>\"></iframe>\n"
      ],
      "text/plain": [
       "This front-end cannot display the desired image type."
      ]
     },
     "metadata": {
      "image/svg+xml": {
       "height": 600,
       "width": 600
      },
      "text/html": {
       "height": 600,
       "width": 600
      }
     },
     "output_type": "display_data"
    }
   ],
   "source": [
    "// Comparing income inequality to social distancing\n",
    "frame change default\n",
    "foreach var of varlist airpol {\n",
    "    table iso5, c(count `var' mean `var' sem `var')\n",
    "        frame put `var' iso5, into(`var')\n",
    "            frame change `var'\n",
    "                collapse (mean) `var', by(iso5)\n",
    "                    la var `var' \"Income inequality (80:20)\"\n",
    "                        line `var' iso5, note(\"Air Polution\")     \n",
    "}\n",
    "\n"
   ]
  },
  {
   "cell_type": "code",
   "execution_count": 53,
   "metadata": {},
   "outputs": [
    {
     "name": "stdout",
     "output_type": "stream",
     "text": [
      "\n",
      "\n",
      "\n",
      "----------------------------------------------------------\n",
      "Social    |\n",
      "Distancin |\n",
      "g: Lowest |\n",
      "(1) to    |\n",
      "Highest   |\n",
      "(5)       |    N(drivea~p)  mean(drivea~p)   sem(drivea~p)\n",
      "----------+-----------------------------------------------\n",
      "        1 |            499       81.686508        .2380425\n",
      "        2 |            497       82.117582        .1866779\n",
      "        3 |            506       81.641934        .2033302\n",
      "        4 |            503       81.161365        .1792528\n",
      "        5 |            502       78.121491        .3679001\n",
      "----------------------------------------------------------\n"
     ]
    },
    {
     "data": {
      "application/pdf": "[encoded data removed]",
      "image/svg+xml": [
       "<?xml version=\"1.0\" encoding=\"UTF-8\" standalone=\"no\"?>\n",
       "<!-- This is a Stata 16.0 generated SVG file (http://www.stata.com) -->\n",
       "\n",
       "<svg version=\"1.1\" width=\"600px\" height=\"600px\" viewBox=\"0 0 1584 1584\" xmlns=\"http://www.w3.org/2000/svg\" xmlns:xlink=\"http://www.w3.org/1999/xlink\">\n",
       "\t<desc>Stata Graph - Graph</desc>\n",
       "\t<rect x=\"0\" y=\"0\" width=\"1584\" height=\"1584\" style=\"fill:#C6D3DF;stroke:none\"/>\n",
       "\t<rect x=\"0.00\" y=\"0.05\" width=\"1584.00\" height=\"1583.95\" style=\"fill:#C6D3DF\"/>\n",
       "\t<rect x=\"1.58\" y=\"1.63\" width=\"1580.83\" height=\"1580.78\" style=\"fill:none;stroke:#C6D3DF;stroke-width:3.17\"/>\n",
       "\t<line x1=\"55.44\" y1=\"1370.56\" x2=\"1342.53\" y2=\"1370.56\" style=\"stroke:#FFFFFF;stroke-width:4.75\"/>\n",
       "\t<line x1=\"55.44\" y1=\"1074.15\" x2=\"1342.53\" y2=\"1074.15\" style=\"stroke:#FFFFFF;stroke-width:4.75\"/>\n",
       "\t<line x1=\"55.44\" y1=\"777.69\" x2=\"1342.53\" y2=\"777.69\" style=\"stroke:#FFFFFF;stroke-width:4.75\"/>\n",
       "\t<line x1=\"55.44\" y1=\"481.29\" x2=\"1342.53\" y2=\"481.29\" style=\"stroke:#FFFFFF;stroke-width:4.75\"/>\n",
       "\t<line x1=\"55.44\" y1=\"184.83\" x2=\"1342.53\" y2=\"184.83\" style=\"stroke:#FFFFFF;stroke-width:4.75\"/>\n",
       "\t<path d=\" M64.90 277.79 L381.95 150.03 L698.96 291.01 L1015.97 433.47 L1333.03 1334.57\" stroke-linejoin=\"round\" style=\"fill:none;stroke:#3E647D;stroke-width:19.01\"/>\n",
       "\t<text x=\"1364.51\" y=\"1391.74\" style=\"font-family:'Helvetica';font-size:60.49px;fill:#000000\">78</text>\n",
       "\t<text x=\"1364.51\" y=\"1095.33\" style=\"font-family:'Helvetica';font-size:60.49px;fill:#000000\">79</text>\n",
       "\t<text x=\"1364.51\" y=\"798.88\" style=\"font-family:'Helvetica';font-size:60.49px;fill:#000000\">80</text>\n",
       "\t<text x=\"1364.51\" y=\"502.47\" style=\"font-family:'Helvetica';font-size:60.49px;fill:#000000\">81</text>\n",
       "\t<text x=\"1364.51\" y=\"206.02\" style=\"font-family:'Helvetica';font-size:60.49px;fill:#000000\">82</text>\n",
       "\t<text x=\"1499.40\" y=\"760.27\" style=\"font-family:'Helvetica';font-size:60.49px;fill:#000000\" transform=\"rotate(-90 1499.40,760.27)\" text-anchor=\"middle\">% of Drivers</text>\n",
       "\t<line x1=\"55.44\" y1=\"1380.06\" x2=\"1342.53\" y2=\"1380.06\" style=\"stroke:#000000;stroke-width:3.17\"/>\n",
       "\t<line x1=\"64.95\" y1=\"1358.08\" x2=\"64.95\" y2=\"1380.06\" style=\"stroke:#000000;stroke-width:3.17\"/>\n",
       "\t<text x=\"64.95\" y=\"1433.37\" style=\"font-family:'Helvetica';font-size:60.49px;fill:#000000\" text-anchor=\"middle\">1</text>\n",
       "\t<line x1=\"381.95\" y1=\"1358.08\" x2=\"381.95\" y2=\"1380.06\" style=\"stroke:#000000;stroke-width:3.17\"/>\n",
       "\t<text x=\"381.95\" y=\"1433.37\" style=\"font-family:'Helvetica';font-size:60.49px;fill:#000000\" text-anchor=\"middle\">2</text>\n",
       "\t<line x1=\"699.01\" y1=\"1358.08\" x2=\"699.01\" y2=\"1380.06\" style=\"stroke:#000000;stroke-width:3.17\"/>\n",
       "\t<text x=\"699.01\" y=\"1433.37\" style=\"font-family:'Helvetica';font-size:60.49px;fill:#000000\" text-anchor=\"middle\">3</text>\n",
       "\t<line x1=\"1016.02\" y1=\"1358.08\" x2=\"1016.02\" y2=\"1380.06\" style=\"stroke:#000000;stroke-width:3.17\"/>\n",
       "\t<text x=\"1016.02\" y=\"1433.37\" style=\"font-family:'Helvetica';font-size:60.49px;fill:#000000\" text-anchor=\"middle\">4</text>\n",
       "\t<line x1=\"1333.03\" y1=\"1358.08\" x2=\"1333.03\" y2=\"1380.06\" style=\"stroke:#000000;stroke-width:3.17\"/>\n",
       "\t<text x=\"1333.03\" y=\"1433.37\" style=\"font-family:'Helvetica';font-size:60.49px;fill:#000000\" text-anchor=\"middle\">5</text>\n",
       "\t<text x=\"699.01\" y=\"1499.40\" style=\"font-family:'Helvetica';font-size:60.49px;fill:#000000\" text-anchor=\"middle\">Social Distancing: Lowest (1) to Highest (5)</text>\n",
       "\t<rect x=\"453.78\" y=\"55.49\" width=\"888.75\" height=\"84.99\" style=\"fill:#7B92A8\"/>\n",
       "\t<rect x=\"455.36\" y=\"57.07\" width=\"885.58\" height=\"81.82\" style=\"fill:none;stroke:#7B92A8;stroke-width:3.17\"/>\n",
       "\t<text x=\"1333.03\" y=\"121.12\" style=\"font-family:'Helvetica';font-size:65.99px;fill:#FFFFff\" text-anchor=\"end\">Commuting Alone by Vehicle</text>\n",
       "</svg>\n"
      ],
      "text/html": [
       "                <iframe frameborder=\"0\" scrolling=\"no\" height=\"600\" width=\"600\"                srcdoc=\"<html><body>&lt;?xml version=&quot;1.0&quot; encoding=&quot;UTF-8&quot; standalone=&quot;no&quot;?&gt;\n",
       "&lt;!-- This is a Stata 16.0 generated SVG file (http://www.stata.com) --&gt;\n",
       "\n",
       "&lt;svg version=&quot;1.1&quot; width=&quot;600px&quot; height=&quot;600px&quot; viewBox=&quot;0 0 1584 1584&quot; xmlns=&quot;http://www.w3.org/2000/svg&quot; xmlns:xlink=&quot;http://www.w3.org/1999/xlink&quot;&gt;\n",
       "\t&lt;desc&gt;Stata Graph - Graph&lt;/desc&gt;\n",
       "\t&lt;rect x=&quot;0&quot; y=&quot;0&quot; width=&quot;1584&quot; height=&quot;1584&quot; style=&quot;fill:#C6D3DF;stroke:none&quot;/&gt;\n",
       "\t&lt;rect x=&quot;0.00&quot; y=&quot;0.05&quot; width=&quot;1584.00&quot; height=&quot;1583.95&quot; style=&quot;fill:#C6D3DF&quot;/&gt;\n",
       "\t&lt;rect x=&quot;1.58&quot; y=&quot;1.63&quot; width=&quot;1580.83&quot; height=&quot;1580.78&quot; style=&quot;fill:none;stroke:#C6D3DF;stroke-width:3.17&quot;/&gt;\n",
       "\t&lt;line x1=&quot;55.44&quot; y1=&quot;1370.56&quot; x2=&quot;1342.53&quot; y2=&quot;1370.56&quot; style=&quot;stroke:#FFFFFF;stroke-width:4.75&quot;/&gt;\n",
       "\t&lt;line x1=&quot;55.44&quot; y1=&quot;1074.15&quot; x2=&quot;1342.53&quot; y2=&quot;1074.15&quot; style=&quot;stroke:#FFFFFF;stroke-width:4.75&quot;/&gt;\n",
       "\t&lt;line x1=&quot;55.44&quot; y1=&quot;777.69&quot; x2=&quot;1342.53&quot; y2=&quot;777.69&quot; style=&quot;stroke:#FFFFFF;stroke-width:4.75&quot;/&gt;\n",
       "\t&lt;line x1=&quot;55.44&quot; y1=&quot;481.29&quot; x2=&quot;1342.53&quot; y2=&quot;481.29&quot; style=&quot;stroke:#FFFFFF;stroke-width:4.75&quot;/&gt;\n",
       "\t&lt;line x1=&quot;55.44&quot; y1=&quot;184.83&quot; x2=&quot;1342.53&quot; y2=&quot;184.83&quot; style=&quot;stroke:#FFFFFF;stroke-width:4.75&quot;/&gt;\n",
       "\t&lt;path d=&quot; M64.90 277.79 L381.95 150.03 L698.96 291.01 L1015.97 433.47 L1333.03 1334.57&quot; stroke-linejoin=&quot;round&quot; style=&quot;fill:none;stroke:#3E647D;stroke-width:19.01&quot;/&gt;\n",
       "\t&lt;text x=&quot;1364.51&quot; y=&quot;1391.74&quot; style=&quot;font-family:&#x27;Helvetica&#x27;;font-size:60.49px;fill:#000000&quot;&gt;78&lt;/text&gt;\n",
       "\t&lt;text x=&quot;1364.51&quot; y=&quot;1095.33&quot; style=&quot;font-family:&#x27;Helvetica&#x27;;font-size:60.49px;fill:#000000&quot;&gt;79&lt;/text&gt;\n",
       "\t&lt;text x=&quot;1364.51&quot; y=&quot;798.88&quot; style=&quot;font-family:&#x27;Helvetica&#x27;;font-size:60.49px;fill:#000000&quot;&gt;80&lt;/text&gt;\n",
       "\t&lt;text x=&quot;1364.51&quot; y=&quot;502.47&quot; style=&quot;font-family:&#x27;Helvetica&#x27;;font-size:60.49px;fill:#000000&quot;&gt;81&lt;/text&gt;\n",
       "\t&lt;text x=&quot;1364.51&quot; y=&quot;206.02&quot; style=&quot;font-family:&#x27;Helvetica&#x27;;font-size:60.49px;fill:#000000&quot;&gt;82&lt;/text&gt;\n",
       "\t&lt;text x=&quot;1499.40&quot; y=&quot;760.27&quot; style=&quot;font-family:&#x27;Helvetica&#x27;;font-size:60.49px;fill:#000000&quot; transform=&quot;rotate(-90 1499.40,760.27)&quot; text-anchor=&quot;middle&quot;&gt;% of Drivers&lt;/text&gt;\n",
       "\t&lt;line x1=&quot;55.44&quot; y1=&quot;1380.06&quot; x2=&quot;1342.53&quot; y2=&quot;1380.06&quot; style=&quot;stroke:#000000;stroke-width:3.17&quot;/&gt;\n",
       "\t&lt;line x1=&quot;64.95&quot; y1=&quot;1358.08&quot; x2=&quot;64.95&quot; y2=&quot;1380.06&quot; style=&quot;stroke:#000000;stroke-width:3.17&quot;/&gt;\n",
       "\t&lt;text x=&quot;64.95&quot; y=&quot;1433.37&quot; style=&quot;font-family:&#x27;Helvetica&#x27;;font-size:60.49px;fill:#000000&quot; text-anchor=&quot;middle&quot;&gt;1&lt;/text&gt;\n",
       "\t&lt;line x1=&quot;381.95&quot; y1=&quot;1358.08&quot; x2=&quot;381.95&quot; y2=&quot;1380.06&quot; style=&quot;stroke:#000000;stroke-width:3.17&quot;/&gt;\n",
       "\t&lt;text x=&quot;381.95&quot; y=&quot;1433.37&quot; style=&quot;font-family:&#x27;Helvetica&#x27;;font-size:60.49px;fill:#000000&quot; text-anchor=&quot;middle&quot;&gt;2&lt;/text&gt;\n",
       "\t&lt;line x1=&quot;699.01&quot; y1=&quot;1358.08&quot; x2=&quot;699.01&quot; y2=&quot;1380.06&quot; style=&quot;stroke:#000000;stroke-width:3.17&quot;/&gt;\n",
       "\t&lt;text x=&quot;699.01&quot; y=&quot;1433.37&quot; style=&quot;font-family:&#x27;Helvetica&#x27;;font-size:60.49px;fill:#000000&quot; text-anchor=&quot;middle&quot;&gt;3&lt;/text&gt;\n",
       "\t&lt;line x1=&quot;1016.02&quot; y1=&quot;1358.08&quot; x2=&quot;1016.02&quot; y2=&quot;1380.06&quot; style=&quot;stroke:#000000;stroke-width:3.17&quot;/&gt;\n",
       "\t&lt;text x=&quot;1016.02&quot; y=&quot;1433.37&quot; style=&quot;font-family:&#x27;Helvetica&#x27;;font-size:60.49px;fill:#000000&quot; text-anchor=&quot;middle&quot;&gt;4&lt;/text&gt;\n",
       "\t&lt;line x1=&quot;1333.03&quot; y1=&quot;1358.08&quot; x2=&quot;1333.03&quot; y2=&quot;1380.06&quot; style=&quot;stroke:#000000;stroke-width:3.17&quot;/&gt;\n",
       "\t&lt;text x=&quot;1333.03&quot; y=&quot;1433.37&quot; style=&quot;font-family:&#x27;Helvetica&#x27;;font-size:60.49px;fill:#000000&quot; text-anchor=&quot;middle&quot;&gt;5&lt;/text&gt;\n",
       "\t&lt;text x=&quot;699.01&quot; y=&quot;1499.40&quot; style=&quot;font-family:&#x27;Helvetica&#x27;;font-size:60.49px;fill:#000000&quot; text-anchor=&quot;middle&quot;&gt;Social Distancing: Lowest (1) to Highest (5)&lt;/text&gt;\n",
       "\t&lt;rect x=&quot;453.78&quot; y=&quot;55.49&quot; width=&quot;888.75&quot; height=&quot;84.99&quot; style=&quot;fill:#7B92A8&quot;/&gt;\n",
       "\t&lt;rect x=&quot;455.36&quot; y=&quot;57.07&quot; width=&quot;885.58&quot; height=&quot;81.82&quot; style=&quot;fill:none;stroke:#7B92A8;stroke-width:3.17&quot;/&gt;\n",
       "\t&lt;text x=&quot;1333.03&quot; y=&quot;121.12&quot; style=&quot;font-family:&#x27;Helvetica&#x27;;font-size:65.99px;fill:#FFFFff&quot; text-anchor=&quot;end&quot;&gt;Commuting Alone by Vehicle&lt;/text&gt;\n",
       "&lt;/svg&gt;\n",
       "</body></html>\"></iframe>\n"
      ],
      "text/plain": [
       "This front-end cannot display the desired image type."
      ]
     },
     "metadata": {
      "image/svg+xml": {
       "height": 600,
       "width": 600
      },
      "text/html": {
       "height": 600,
       "width": 600
      }
     },
     "output_type": "display_data"
    }
   ],
   "source": [
    "\n",
    "frame change default\n",
    "foreach var of varlist drivealone_p {\n",
    "    table iso5, c(count `var' mean `var' sem `var')\n",
    "        frame put `var' iso5, into(`var')\n",
    "            frame change `var'\n",
    "                collapse (mean) `var', by(iso5)\n",
    "                    la var `var' \"% of Drivers\"\n",
    "                        line `var' iso5, note(\"Commuting Alone by Vehicle\")     \n",
    "}"
   ]
  },
  {
   "cell_type": "markdown",
   "metadata": {},
   "source": [
    "---\n"
   ]
  },
  {
   "cell_type": "code",
   "execution_count": 54,
   "metadata": {},
   "outputs": [
    {
     "name": "stdout",
     "output_type": "stream",
     "text": [
      "\n",
      "\n",
      "variable rucc not found\n"
     ]
    },
    {
     "name": "stderr",
     "output_type": "stream",
     "text": [
      "r(111);\n",
      "r(111);\n"
     ]
    },
    {
     "name": "stdout",
     "output_type": "stream",
     "text": [
      "\n",
      "\n"
     ]
    }
   ],
   "source": [
    "frame change default\n",
    "foreach var of varlist rucc {\n",
    "    table iso5, c(count `var' mean `var' sem `var')\n",
    "        frame put `var' iso5, into(`var')\n",
    "            frame change `var'\n",
    "                collapse (median) `var', by(iso5)\n",
    "                    la var `var' \"Average RUCC\"\n",
    "                        line `var' iso5, note(\"Urban-Rural\")     \n",
    "}"
   ]
  },
  {
   "cell_type": "code",
   "execution_count": null,
   "metadata": {},
   "outputs": [],
   "source": [
    "frame change default\n",
    "foreach var of varlist longcommute_p {\n",
    "    table iso5, c(count `var' mean `var' sem `var')\n",
    "        frame put `var' iso5, into(`var')\n",
    "            frame change `var'\n",
    "                collapse (mean) `var', by(iso5)\n",
    "                    la var `var' \"% of Solo Commuters Driving 30+ mins\"\n",
    "                        line `var' iso5, note(\"Long Solo Commute\")     \n",
    "}"
   ]
  },
  {
   "cell_type": "code",
   "execution_count": null,
   "metadata": {},
   "outputs": [],
   "source": [
    "frame change default\n",
    "hist overcrowding\n",
    "summ overcrowding, d\n",
    "foreach var of varlist overcrowding {\n",
    "    table iso5, c(count `var' mean `var' sem `var')\n",
    "        frame put `var' iso5, into(`var')\n",
    "            frame change `var'\n",
    "                collapse (mean) `var', by(iso5)\n",
    "                    la var `var' \"% of Households Overcrowded\"\n",
    "                        line `var' iso5, note(\"Overcrowding\")     \n",
    "}"
   ]
  },
  {
   "cell_type": "code",
   "execution_count": null,
   "metadata": {},
   "outputs": [],
   "source": [
    "frame change default\n",
    "hist housingprob\n",
    "foreach var of varlist housingprob {\n",
    "    table iso5, c(count `var' mean `var' sem `var')\n",
    "        frame put `var' iso5, into(`var')\n",
    "            frame change `var'\n",
    "                collapse (mean) `var', by(iso5)\n",
    "                    la var `var' \"% of Households with overcrowding, high cost, no kitchen/plumbing\"\n",
    "                        line `var' iso5, note(\"Housing Problems\")     \n",
    "}"
   ]
  }
 ],
 "metadata": {
  "kernelspec": {
   "display_name": "Stata",
   "language": "stata",
   "name": "stata"
  },
  "language_info": {
   "codemirror_mode": "stata",
   "file_extension": ".do",
   "mimetype": "text/x-stata",
   "name": "stata",
   "version": "15.1"
  }
 },
 "nbformat": 4,
 "nbformat_minor": 4
}
