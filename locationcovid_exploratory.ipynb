{
 "cells": [
  {
   "cell_type": "markdown",
   "metadata": {},
   "source": [
    "<font size=7> Early social distancing: evidence of privilege in a pandemic from smartphone data </font><br>\n",
    "Nabarun Dasgupta, MPH, PhD | nab@unc.edu | @nabarund<br>\n",
    "*Dr. Dasgupta is an epidemiologist at the University of North Carolina in Chapel Hill. He studies population level patterns of infectious disease, medication safety, and opioids.*<br>\n",
    "Thanks to Ben White for data munging help. Code available on [GitHub](https://github.com/opioiddatalab/covid)."
   ]
  },
  {
   "cell_type": "code",
   "execution_count": 19,
   "metadata": {},
   "outputs": [
    {
     "name": "stdout",
     "output_type": "stream",
     "text": [
      "Notebook generated on 15 Apr 2020 at 16:20:53 ET\n"
     ]
    }
   ],
   "source": [
    "display \"Notebook generated on $S_DATE at $S_TIME ET\""
   ]
  },
  {
   "cell_type": "markdown",
   "metadata": {},
   "source": [
    "On March 23, 2020 Stuart Thompson and Yaryna Serkez of *The New York Times* [published](https://www.nytimes.com/interactive/2020/03/23/opinion/coronavirus-economy-recession.html) a fascinating use of cell phone GPS signal information to gauge movement and commuting, during the advent of social distancing. They compared the state-level data in a [slick graphic](https://www.nytimes.com/interactive/2020/03/23/opinion/coronavirus-economy-recession.html) to political leanings. But we wanted to understand more about other community level characteristics of slow versus fast adopters.<br>\n",
    "<br>\n",
    "We were provided access to the same location dataset on social distancing published today in the. We used a data merging approach we have [previously published](https://www.ncbi.nlm.nih.gov/pmc/articles/PMC6339867/). Repurposing code from an ongoing project, we merged in community-level data from the Robert Wood Johnson Foundation's [County Health Rankings](https://www.countyhealthrankings.org/). This very rich dataset contains dozens of explanatory variables about health, social, and economic indicators.<br>\n"
   ]
  },
  {
   "cell_type": "code",
   "execution_count": 20,
   "metadata": {},
   "outputs": [
    {
     "name": "stdout",
     "output_type": "stream",
     "text": [
      "\n",
      "\n",
      "\n",
      "\n",
      "\n",
      "       |        Observations\n",
      "       |      total   distinct\n",
      "-------+----------------------\n",
      "  fips |       2121       2121\n",
      "\n",
      "\n",
      "  RUCC_2013 |      Freq.     Percent        Cum.\n",
      "------------+-----------------------------------\n",
      "          1 |        341       16.08       16.08\n",
      "          2 |        302       14.24       30.32\n",
      "          3 |        280       13.20       43.52\n",
      "          4 |        171        8.06       51.58\n",
      "          5 |         80        3.77       55.35\n",
      "          6 |        441       20.79       76.14\n",
      "          7 |        319       15.04       91.18\n",
      "          8 |         96        4.53       95.71\n",
      "          9 |         91        4.29      100.00\n",
      "------------+-----------------------------------\n",
      "      Total |      2,121      100.00\n"
     ]
    }
   ],
   "source": [
    "// Load procesed and merged data\n",
    "clear all\n",
    "set scheme economist\n",
    "use \"https://github.com/opioiddatalab/covid/blob/master/analysiset.dta?raw=true\"\n",
    "distinct fips\n",
    "tab rucc"
   ]
  },
  {
   "cell_type": "markdown",
   "metadata": {},
   "source": [
    "---\n",
    "# Primary Care Providers\n",
    "\n",
    "We wanted to see if places with more social distancing had better healthcare resources. So we looked at primary care providers per 100,000 population. \n"
   ]
  },
  {
   "cell_type": "code",
   "execution_count": 21,
   "metadata": {},
   "outputs": [
    {
     "name": "stdout",
     "output_type": "stream",
     "text": [
      "\n",
      "\n",
      "\n",
      "----------------------------------------------------------\n",
      "Distancin |\n",
      "g: Lowest |\n",
      "(1) to    |\n",
      "Highest   |\n",
      "(5)       |    N(pcp_rate)  mean(pcp_rate)   sem(pcp_rate)\n",
      "----------+-----------------------------------------------\n",
      "        1 |            394       50.673288        1.475644\n",
      "        2 |            409       48.546454        1.292011\n",
      "        3 |            424       53.749911        1.509134\n",
      "        4 |            417       57.357213        1.489985\n",
      "        5 |            429       69.975209        2.059602\n",
      "----------------------------------------------------------\n"
     ]
    },
    {
     "data": {
      "application/pdf": "[encoded data removed]",
      "image/svg+xml": [
       "<?xml version=\"1.0\" encoding=\"UTF-8\" standalone=\"no\"?>\n",
       "<!-- This is a Stata 16.0 generated SVG file (http://www.stata.com) -->\n",
       "\n",
       "<svg version=\"1.1\" width=\"600px\" height=\"600px\" viewBox=\"0 0 1584 1584\" xmlns=\"http://www.w3.org/2000/svg\" xmlns:xlink=\"http://www.w3.org/1999/xlink\">\n",
       "\t<desc>Stata Graph - Graph</desc>\n",
       "\t<rect x=\"0\" y=\"0\" width=\"1584\" height=\"1584\" style=\"fill:#C6D3DF;stroke:none\"/>\n",
       "\t<rect x=\"0.00\" y=\"0.05\" width=\"1584.00\" height=\"1583.95\" style=\"fill:#C6D3DF\"/>\n",
       "\t<rect x=\"1.58\" y=\"1.63\" width=\"1580.83\" height=\"1580.78\" style=\"fill:none;stroke:#C6D3DF;stroke-width:3.17\"/>\n",
       "\t<line x1=\"55.44\" y1=\"1287.89\" x2=\"1342.53\" y2=\"1287.89\" style=\"stroke:#FFFFFF;stroke-width:4.75\"/>\n",
       "\t<line x1=\"55.44\" y1=\"1003.41\" x2=\"1342.53\" y2=\"1003.41\" style=\"stroke:#FFFFFF;stroke-width:4.75\"/>\n",
       "\t<line x1=\"55.44\" y1=\"718.94\" x2=\"1342.53\" y2=\"718.94\" style=\"stroke:#FFFFFF;stroke-width:4.75\"/>\n",
       "\t<line x1=\"55.44\" y1=\"434.46\" x2=\"1342.53\" y2=\"434.46\" style=\"stroke:#FFFFFF;stroke-width:4.75\"/>\n",
       "\t<line x1=\"55.44\" y1=\"149.98\" x2=\"1342.53\" y2=\"149.98\" style=\"stroke:#FFFFFF;stroke-width:4.75\"/>\n",
       "\t<path d=\" M64.90 1249.58 L381.95 1370.61 L698.96 1074.55 L1015.97 869.32 L1333.03 151.42\" stroke-linejoin=\"round\" style=\"fill:none;stroke:#3E647D;stroke-width:19.01\"/>\n",
       "\t<text x=\"1364.51\" y=\"1309.07\" style=\"font-family:'Helvetica';font-size:60.49px;fill:#000000\">50</text>\n",
       "\t<text x=\"1364.51\" y=\"1024.60\" style=\"font-family:'Helvetica';font-size:60.49px;fill:#000000\">55</text>\n",
       "\t<text x=\"1364.51\" y=\"740.12\" style=\"font-family:'Helvetica';font-size:60.49px;fill:#000000\">60</text>\n",
       "\t<text x=\"1364.51\" y=\"455.65\" style=\"font-family:'Helvetica';font-size:60.49px;fill:#000000\">65</text>\n",
       "\t<text x=\"1364.51\" y=\"171.17\" style=\"font-family:'Helvetica';font-size:60.49px;fill:#000000\">70</text>\n",
       "\t<text x=\"1499.40\" y=\"760.27\" style=\"font-family:'Helvetica';font-size:60.49px;fill:#000000\" transform=\"rotate(-90 1499.40,760.27)\" text-anchor=\"middle\">PCP per 100k Population</text>\n",
       "\t<line x1=\"55.44\" y1=\"1380.06\" x2=\"1342.53\" y2=\"1380.06\" style=\"stroke:#000000;stroke-width:3.17\"/>\n",
       "\t<line x1=\"64.95\" y1=\"1358.08\" x2=\"64.95\" y2=\"1380.06\" style=\"stroke:#000000;stroke-width:3.17\"/>\n",
       "\t<text x=\"64.95\" y=\"1433.37\" style=\"font-family:'Helvetica';font-size:60.49px;fill:#000000\" text-anchor=\"middle\">1</text>\n",
       "\t<line x1=\"381.95\" y1=\"1358.08\" x2=\"381.95\" y2=\"1380.06\" style=\"stroke:#000000;stroke-width:3.17\"/>\n",
       "\t<text x=\"381.95\" y=\"1433.37\" style=\"font-family:'Helvetica';font-size:60.49px;fill:#000000\" text-anchor=\"middle\">2</text>\n",
       "\t<line x1=\"699.01\" y1=\"1358.08\" x2=\"699.01\" y2=\"1380.06\" style=\"stroke:#000000;stroke-width:3.17\"/>\n",
       "\t<text x=\"699.01\" y=\"1433.37\" style=\"font-family:'Helvetica';font-size:60.49px;fill:#000000\" text-anchor=\"middle\">3</text>\n",
       "\t<line x1=\"1016.02\" y1=\"1358.08\" x2=\"1016.02\" y2=\"1380.06\" style=\"stroke:#000000;stroke-width:3.17\"/>\n",
       "\t<text x=\"1016.02\" y=\"1433.37\" style=\"font-family:'Helvetica';font-size:60.49px;fill:#000000\" text-anchor=\"middle\">4</text>\n",
       "\t<line x1=\"1333.03\" y1=\"1358.08\" x2=\"1333.03\" y2=\"1380.06\" style=\"stroke:#000000;stroke-width:3.17\"/>\n",
       "\t<text x=\"1333.03\" y=\"1433.37\" style=\"font-family:'Helvetica';font-size:60.49px;fill:#000000\" text-anchor=\"middle\">5</text>\n",
       "\t<text x=\"699.01\" y=\"1499.40\" style=\"font-family:'Helvetica';font-size:60.49px;fill:#000000\" text-anchor=\"middle\">Distancing: Lowest (1) to Highest (5)</text>\n",
       "\t<rect x=\"618.03\" y=\"55.49\" width=\"724.50\" height=\"84.99\" style=\"fill:#7B92A8\"/>\n",
       "\t<rect x=\"619.61\" y=\"57.07\" width=\"721.34\" height=\"81.82\" style=\"fill:none;stroke:#7B92A8;stroke-width:3.17\"/>\n",
       "\t<text x=\"1333.03\" y=\"121.12\" style=\"font-family:'Helvetica';font-size:65.99px;fill:#FFFFff\" text-anchor=\"end\">Primary Care Providers</text>\n",
       "</svg>\n"
      ],
      "text/html": [
       "                <iframe frameborder=\"0\" scrolling=\"no\" height=\"600\" width=\"600\"                srcdoc=\"<html><body>&lt;?xml version=&quot;1.0&quot; encoding=&quot;UTF-8&quot; standalone=&quot;no&quot;?&gt;\n",
       "&lt;!-- This is a Stata 16.0 generated SVG file (http://www.stata.com) --&gt;\n",
       "\n",
       "&lt;svg version=&quot;1.1&quot; width=&quot;600px&quot; height=&quot;600px&quot; viewBox=&quot;0 0 1584 1584&quot; xmlns=&quot;http://www.w3.org/2000/svg&quot; xmlns:xlink=&quot;http://www.w3.org/1999/xlink&quot;&gt;\n",
       "\t&lt;desc&gt;Stata Graph - Graph&lt;/desc&gt;\n",
       "\t&lt;rect x=&quot;0&quot; y=&quot;0&quot; width=&quot;1584&quot; height=&quot;1584&quot; style=&quot;fill:#C6D3DF;stroke:none&quot;/&gt;\n",
       "\t&lt;rect x=&quot;0.00&quot; y=&quot;0.05&quot; width=&quot;1584.00&quot; height=&quot;1583.95&quot; style=&quot;fill:#C6D3DF&quot;/&gt;\n",
       "\t&lt;rect x=&quot;1.58&quot; y=&quot;1.63&quot; width=&quot;1580.83&quot; height=&quot;1580.78&quot; style=&quot;fill:none;stroke:#C6D3DF;stroke-width:3.17&quot;/&gt;\n",
       "\t&lt;line x1=&quot;55.44&quot; y1=&quot;1287.89&quot; x2=&quot;1342.53&quot; y2=&quot;1287.89&quot; style=&quot;stroke:#FFFFFF;stroke-width:4.75&quot;/&gt;\n",
       "\t&lt;line x1=&quot;55.44&quot; y1=&quot;1003.41&quot; x2=&quot;1342.53&quot; y2=&quot;1003.41&quot; style=&quot;stroke:#FFFFFF;stroke-width:4.75&quot;/&gt;\n",
       "\t&lt;line x1=&quot;55.44&quot; y1=&quot;718.94&quot; x2=&quot;1342.53&quot; y2=&quot;718.94&quot; style=&quot;stroke:#FFFFFF;stroke-width:4.75&quot;/&gt;\n",
       "\t&lt;line x1=&quot;55.44&quot; y1=&quot;434.46&quot; x2=&quot;1342.53&quot; y2=&quot;434.46&quot; style=&quot;stroke:#FFFFFF;stroke-width:4.75&quot;/&gt;\n",
       "\t&lt;line x1=&quot;55.44&quot; y1=&quot;149.98&quot; x2=&quot;1342.53&quot; y2=&quot;149.98&quot; style=&quot;stroke:#FFFFFF;stroke-width:4.75&quot;/&gt;\n",
       "\t&lt;path d=&quot; M64.90 1249.58 L381.95 1370.61 L698.96 1074.55 L1015.97 869.32 L1333.03 151.42&quot; stroke-linejoin=&quot;round&quot; style=&quot;fill:none;stroke:#3E647D;stroke-width:19.01&quot;/&gt;\n",
       "\t&lt;text x=&quot;1364.51&quot; y=&quot;1309.07&quot; style=&quot;font-family:&#x27;Helvetica&#x27;;font-size:60.49px;fill:#000000&quot;&gt;50&lt;/text&gt;\n",
       "\t&lt;text x=&quot;1364.51&quot; y=&quot;1024.60&quot; style=&quot;font-family:&#x27;Helvetica&#x27;;font-size:60.49px;fill:#000000&quot;&gt;55&lt;/text&gt;\n",
       "\t&lt;text x=&quot;1364.51&quot; y=&quot;740.12&quot; style=&quot;font-family:&#x27;Helvetica&#x27;;font-size:60.49px;fill:#000000&quot;&gt;60&lt;/text&gt;\n",
       "\t&lt;text x=&quot;1364.51&quot; y=&quot;455.65&quot; style=&quot;font-family:&#x27;Helvetica&#x27;;font-size:60.49px;fill:#000000&quot;&gt;65&lt;/text&gt;\n",
       "\t&lt;text x=&quot;1364.51&quot; y=&quot;171.17&quot; style=&quot;font-family:&#x27;Helvetica&#x27;;font-size:60.49px;fill:#000000&quot;&gt;70&lt;/text&gt;\n",
       "\t&lt;text x=&quot;1499.40&quot; y=&quot;760.27&quot; style=&quot;font-family:&#x27;Helvetica&#x27;;font-size:60.49px;fill:#000000&quot; transform=&quot;rotate(-90 1499.40,760.27)&quot; text-anchor=&quot;middle&quot;&gt;PCP per 100k Population&lt;/text&gt;\n",
       "\t&lt;line x1=&quot;55.44&quot; y1=&quot;1380.06&quot; x2=&quot;1342.53&quot; y2=&quot;1380.06&quot; style=&quot;stroke:#000000;stroke-width:3.17&quot;/&gt;\n",
       "\t&lt;line x1=&quot;64.95&quot; y1=&quot;1358.08&quot; x2=&quot;64.95&quot; y2=&quot;1380.06&quot; style=&quot;stroke:#000000;stroke-width:3.17&quot;/&gt;\n",
       "\t&lt;text x=&quot;64.95&quot; y=&quot;1433.37&quot; style=&quot;font-family:&#x27;Helvetica&#x27;;font-size:60.49px;fill:#000000&quot; text-anchor=&quot;middle&quot;&gt;1&lt;/text&gt;\n",
       "\t&lt;line x1=&quot;381.95&quot; y1=&quot;1358.08&quot; x2=&quot;381.95&quot; y2=&quot;1380.06&quot; style=&quot;stroke:#000000;stroke-width:3.17&quot;/&gt;\n",
       "\t&lt;text x=&quot;381.95&quot; y=&quot;1433.37&quot; style=&quot;font-family:&#x27;Helvetica&#x27;;font-size:60.49px;fill:#000000&quot; text-anchor=&quot;middle&quot;&gt;2&lt;/text&gt;\n",
       "\t&lt;line x1=&quot;699.01&quot; y1=&quot;1358.08&quot; x2=&quot;699.01&quot; y2=&quot;1380.06&quot; style=&quot;stroke:#000000;stroke-width:3.17&quot;/&gt;\n",
       "\t&lt;text x=&quot;699.01&quot; y=&quot;1433.37&quot; style=&quot;font-family:&#x27;Helvetica&#x27;;font-size:60.49px;fill:#000000&quot; text-anchor=&quot;middle&quot;&gt;3&lt;/text&gt;\n",
       "\t&lt;line x1=&quot;1016.02&quot; y1=&quot;1358.08&quot; x2=&quot;1016.02&quot; y2=&quot;1380.06&quot; style=&quot;stroke:#000000;stroke-width:3.17&quot;/&gt;\n",
       "\t&lt;text x=&quot;1016.02&quot; y=&quot;1433.37&quot; style=&quot;font-family:&#x27;Helvetica&#x27;;font-size:60.49px;fill:#000000&quot; text-anchor=&quot;middle&quot;&gt;4&lt;/text&gt;\n",
       "\t&lt;line x1=&quot;1333.03&quot; y1=&quot;1358.08&quot; x2=&quot;1333.03&quot; y2=&quot;1380.06&quot; style=&quot;stroke:#000000;stroke-width:3.17&quot;/&gt;\n",
       "\t&lt;text x=&quot;1333.03&quot; y=&quot;1433.37&quot; style=&quot;font-family:&#x27;Helvetica&#x27;;font-size:60.49px;fill:#000000&quot; text-anchor=&quot;middle&quot;&gt;5&lt;/text&gt;\n",
       "\t&lt;text x=&quot;699.01&quot; y=&quot;1499.40&quot; style=&quot;font-family:&#x27;Helvetica&#x27;;font-size:60.49px;fill:#000000&quot; text-anchor=&quot;middle&quot;&gt;Distancing: Lowest (1) to Highest (5)&lt;/text&gt;\n",
       "\t&lt;rect x=&quot;618.03&quot; y=&quot;55.49&quot; width=&quot;724.50&quot; height=&quot;84.99&quot; style=&quot;fill:#7B92A8&quot;/&gt;\n",
       "\t&lt;rect x=&quot;619.61&quot; y=&quot;57.07&quot; width=&quot;721.34&quot; height=&quot;81.82&quot; style=&quot;fill:none;stroke:#7B92A8;stroke-width:3.17&quot;/&gt;\n",
       "\t&lt;text x=&quot;1333.03&quot; y=&quot;121.12&quot; style=&quot;font-family:&#x27;Helvetica&#x27;;font-size:65.99px;fill:#FFFFff&quot; text-anchor=&quot;end&quot;&gt;Primary Care Providers&lt;/text&gt;\n",
       "&lt;/svg&gt;\n",
       "</body></html>\"></iframe>\n"
      ],
      "text/plain": [
       "This front-end cannot display the desired image type."
      ]
     },
     "metadata": {
      "image/svg+xml": {
       "height": 600,
       "width": 600
      },
      "text/html": {
       "height": 600,
       "width": 600
      }
     },
     "output_type": "display_data"
    }
   ],
   "source": [
    "// Comparing Primary Care Physicians per 100,000 population to social distancing\n",
    "frame change default\n",
    "foreach var of varlist pcp_rate {\n",
    "    table iso5, c(count `var' mean `var' sem `var')\n",
    "        frame put `var' iso5, into(`var')\n",
    "            frame change `var'\n",
    "                collapse (mean) `var', by(iso5)\n",
    "                    la var `var' \"PCP per 100k Population\"\n",
    "                        line `var' iso5 , note(\"Primary Care Providers\") \n",
    "}"
   ]
  },
  {
   "cell_type": "markdown",
   "metadata": {},
   "source": [
    "---\n",
    "\n",
    "# Mental Health Providers\n",
    "\n",
    "For people sequestered at home, mental health providers may play an emerging role. These data are from CMS National Provider Identification (NPI) via [RWJF](https://www.countyhealthrankings.org/explore-health-rankings/measures-data-sources/2020-measures). It is expressed in rates per 100,000 population."
   ]
  },
  {
   "cell_type": "code",
   "execution_count": 22,
   "metadata": {},
   "outputs": [
    {
     "name": "stdout",
     "output_type": "stream",
     "text": [
      "\n",
      "\n",
      "\n",
      "       Mental Health Providers per 100,000 population\n",
      "-------------------------------------------------------------\n",
      "      Percentiles      Smallest\n",
      " 1%      7.85916              0\n",
      " 5%     13.88375          4.153\n",
      "10%     22.67574         4.2155       Obs               2,065\n",
      "25%     48.69076        4.41326       Sum of Wgt.       2,065\n",
      "\n",
      "50%     116.2791                      Mean           160.3365\n",
      "                        Largest       Std. Dev.      164.3297\n",
      "75%     214.4129       1355.829\n",
      "90%     345.1704       1419.854       Variance       27004.25\n",
      "95%     462.7516        1420.66       Skewness        2.72275\n",
      "99%      799.601       1557.914       Kurtosis       15.14359\n"
     ]
    }
   ],
   "source": [
    "// Basic descriptive on commuting alone\n",
    "frame change default\n",
    "summ mhproviders_rate, d"
   ]
  },
  {
   "cell_type": "code",
   "execution_count": 23,
   "metadata": {},
   "outputs": [
    {
     "name": "stdout",
     "output_type": "stream",
     "text": [
      "\n",
      "\n",
      "----------------------------------------------------------\n",
      "Distancin |\n",
      "g: Lowest |\n",
      "(1) to    |\n",
      "Highest   |\n",
      "(5)       |    N(mhprov~e)  mean(mhprov~e)   sem(mhprov~e)\n",
      "----------+-----------------------------------------------\n",
      "        1 |            385       151.94966        8.470459\n",
      "        2 |            411       138.29242        7.864046\n",
      "        3 |            428       141.19138         7.76445\n",
      "        4 |            413       153.25776         7.27073\n",
      "        5 |            428       215.02519        8.437608\n",
      "----------------------------------------------------------\n"
     ]
    },
    {
     "data": {
      "application/pdf": "[encoded data removed]",
      "image/svg+xml": [
       "<?xml version=\"1.0\" encoding=\"UTF-8\" standalone=\"no\"?>\n",
       "<!-- This is a Stata 16.0 generated SVG file (http://www.stata.com) -->\n",
       "\n",
       "<svg version=\"1.1\" width=\"600px\" height=\"600px\" viewBox=\"0 0 1584 1584\" xmlns=\"http://www.w3.org/2000/svg\" xmlns:xlink=\"http://www.w3.org/1999/xlink\">\n",
       "\t<desc>Stata Graph - Graph</desc>\n",
       "\t<rect x=\"0\" y=\"0\" width=\"1584\" height=\"1584\" style=\"fill:#C6D3DF;stroke:none\"/>\n",
       "\t<rect x=\"0.00\" y=\"0.05\" width=\"1584.00\" height=\"1583.95\" style=\"fill:#C6D3DF\"/>\n",
       "\t<rect x=\"1.58\" y=\"1.63\" width=\"1580.83\" height=\"1580.78\" style=\"fill:none;stroke:#C6D3DF;stroke-width:3.17\"/>\n",
       "\t<line x1=\"55.44\" y1=\"1345.06\" x2=\"1308.23\" y2=\"1345.06\" style=\"stroke:#FFFFFF;stroke-width:4.75\"/>\n",
       "\t<line x1=\"55.44\" y1=\"1046.28\" x2=\"1308.23\" y2=\"1046.28\" style=\"stroke:#FFFFFF;stroke-width:4.75\"/>\n",
       "\t<line x1=\"55.44\" y1=\"747.55\" x2=\"1308.23\" y2=\"747.55\" style=\"stroke:#FFFFFF;stroke-width:4.75\"/>\n",
       "\t<line x1=\"55.44\" y1=\"448.77\" x2=\"1308.23\" y2=\"448.77\" style=\"stroke:#FFFFFF;stroke-width:4.75\"/>\n",
       "\t<line x1=\"55.44\" y1=\"149.98\" x2=\"1308.23\" y2=\"149.98\" style=\"stroke:#FFFFFF;stroke-width:4.75\"/>\n",
       "\t<path d=\" M64.90 1166.57 L373.34 1370.61 L681.83 1327.29 L990.28 1147.01 L1298.72 224.33\" stroke-linejoin=\"round\" style=\"fill:none;stroke:#3E647D;stroke-width:19.01\"/>\n",
       "\t<text x=\"1330.26\" y=\"1366.25\" style=\"font-family:'Helvetica';font-size:60.49px;fill:#000000\">140</text>\n",
       "\t<text x=\"1330.26\" y=\"1067.47\" style=\"font-family:'Helvetica';font-size:60.49px;fill:#000000\">160</text>\n",
       "\t<text x=\"1330.26\" y=\"768.73\" style=\"font-family:'Helvetica';font-size:60.49px;fill:#000000\">180</text>\n",
       "\t<text x=\"1330.26\" y=\"469.95\" style=\"font-family:'Helvetica';font-size:60.49px;fill:#000000\">200</text>\n",
       "\t<text x=\"1330.26\" y=\"171.17\" style=\"font-family:'Helvetica';font-size:60.49px;fill:#000000\">220</text>\n",
       "\t<text x=\"1499.40\" y=\"760.27\" style=\"font-family:'Helvetica';font-size:60.49px;fill:#000000\" transform=\"rotate(-90 1499.40,760.27)\" text-anchor=\"middle\">Mental Health Proviers per 100k population</text>\n",
       "\t<line x1=\"55.44\" y1=\"1380.06\" x2=\"1308.23\" y2=\"1380.06\" style=\"stroke:#000000;stroke-width:3.17\"/>\n",
       "\t<line x1=\"64.95\" y1=\"1358.08\" x2=\"64.95\" y2=\"1380.06\" style=\"stroke:#000000;stroke-width:3.17\"/>\n",
       "\t<text x=\"64.95\" y=\"1433.37\" style=\"font-family:'Helvetica';font-size:60.49px;fill:#000000\" text-anchor=\"middle\">1</text>\n",
       "\t<line x1=\"373.39\" y1=\"1358.08\" x2=\"373.39\" y2=\"1380.06\" style=\"stroke:#000000;stroke-width:3.17\"/>\n",
       "\t<text x=\"373.39\" y=\"1433.37\" style=\"font-family:'Helvetica';font-size:60.49px;fill:#000000\" text-anchor=\"middle\">2</text>\n",
       "\t<line x1=\"681.83\" y1=\"1358.08\" x2=\"681.83\" y2=\"1380.06\" style=\"stroke:#000000;stroke-width:3.17\"/>\n",
       "\t<text x=\"681.83\" y=\"1433.37\" style=\"font-family:'Helvetica';font-size:60.49px;fill:#000000\" text-anchor=\"middle\">3</text>\n",
       "\t<line x1=\"990.28\" y1=\"1358.08\" x2=\"990.28\" y2=\"1380.06\" style=\"stroke:#000000;stroke-width:3.17\"/>\n",
       "\t<text x=\"990.28\" y=\"1433.37\" style=\"font-family:'Helvetica';font-size:60.49px;fill:#000000\" text-anchor=\"middle\">4</text>\n",
       "\t<line x1=\"1298.72\" y1=\"1358.08\" x2=\"1298.72\" y2=\"1380.06\" style=\"stroke:#000000;stroke-width:3.17\"/>\n",
       "\t<text x=\"1298.72\" y=\"1433.37\" style=\"font-family:'Helvetica';font-size:60.49px;fill:#000000\" text-anchor=\"middle\">5</text>\n",
       "\t<text x=\"681.83\" y=\"1499.40\" style=\"font-family:'Helvetica';font-size:60.49px;fill:#000000\" text-anchor=\"middle\">Distancing: Lowest (1) to Highest (5)</text>\n",
       "\t<rect x=\"565.70\" y=\"55.49\" width=\"742.52\" height=\"84.99\" style=\"fill:#7B92A8\"/>\n",
       "\t<rect x=\"567.29\" y=\"57.07\" width=\"739.36\" height=\"81.82\" style=\"fill:none;stroke:#7B92A8;stroke-width:3.17\"/>\n",
       "\t<text x=\"1298.72\" y=\"121.12\" style=\"font-family:'Helvetica';font-size:65.99px;fill:#FFFFff\" text-anchor=\"end\">Mental Health Providers</text>\n",
       "</svg>\n"
      ],
      "text/html": [
       "                <iframe frameborder=\"0\" scrolling=\"no\" height=\"600\" width=\"600\"                srcdoc=\"<html><body>&lt;?xml version=&quot;1.0&quot; encoding=&quot;UTF-8&quot; standalone=&quot;no&quot;?&gt;\n",
       "&lt;!-- This is a Stata 16.0 generated SVG file (http://www.stata.com) --&gt;\n",
       "\n",
       "&lt;svg version=&quot;1.1&quot; width=&quot;600px&quot; height=&quot;600px&quot; viewBox=&quot;0 0 1584 1584&quot; xmlns=&quot;http://www.w3.org/2000/svg&quot; xmlns:xlink=&quot;http://www.w3.org/1999/xlink&quot;&gt;\n",
       "\t&lt;desc&gt;Stata Graph - Graph&lt;/desc&gt;\n",
       "\t&lt;rect x=&quot;0&quot; y=&quot;0&quot; width=&quot;1584&quot; height=&quot;1584&quot; style=&quot;fill:#C6D3DF;stroke:none&quot;/&gt;\n",
       "\t&lt;rect x=&quot;0.00&quot; y=&quot;0.05&quot; width=&quot;1584.00&quot; height=&quot;1583.95&quot; style=&quot;fill:#C6D3DF&quot;/&gt;\n",
       "\t&lt;rect x=&quot;1.58&quot; y=&quot;1.63&quot; width=&quot;1580.83&quot; height=&quot;1580.78&quot; style=&quot;fill:none;stroke:#C6D3DF;stroke-width:3.17&quot;/&gt;\n",
       "\t&lt;line x1=&quot;55.44&quot; y1=&quot;1345.06&quot; x2=&quot;1308.23&quot; y2=&quot;1345.06&quot; style=&quot;stroke:#FFFFFF;stroke-width:4.75&quot;/&gt;\n",
       "\t&lt;line x1=&quot;55.44&quot; y1=&quot;1046.28&quot; x2=&quot;1308.23&quot; y2=&quot;1046.28&quot; style=&quot;stroke:#FFFFFF;stroke-width:4.75&quot;/&gt;\n",
       "\t&lt;line x1=&quot;55.44&quot; y1=&quot;747.55&quot; x2=&quot;1308.23&quot; y2=&quot;747.55&quot; style=&quot;stroke:#FFFFFF;stroke-width:4.75&quot;/&gt;\n",
       "\t&lt;line x1=&quot;55.44&quot; y1=&quot;448.77&quot; x2=&quot;1308.23&quot; y2=&quot;448.77&quot; style=&quot;stroke:#FFFFFF;stroke-width:4.75&quot;/&gt;\n",
       "\t&lt;line x1=&quot;55.44&quot; y1=&quot;149.98&quot; x2=&quot;1308.23&quot; y2=&quot;149.98&quot; style=&quot;stroke:#FFFFFF;stroke-width:4.75&quot;/&gt;\n",
       "\t&lt;path d=&quot; M64.90 1166.57 L373.34 1370.61 L681.83 1327.29 L990.28 1147.01 L1298.72 224.33&quot; stroke-linejoin=&quot;round&quot; style=&quot;fill:none;stroke:#3E647D;stroke-width:19.01&quot;/&gt;\n",
       "\t&lt;text x=&quot;1330.26&quot; y=&quot;1366.25&quot; style=&quot;font-family:&#x27;Helvetica&#x27;;font-size:60.49px;fill:#000000&quot;&gt;140&lt;/text&gt;\n",
       "\t&lt;text x=&quot;1330.26&quot; y=&quot;1067.47&quot; style=&quot;font-family:&#x27;Helvetica&#x27;;font-size:60.49px;fill:#000000&quot;&gt;160&lt;/text&gt;\n",
       "\t&lt;text x=&quot;1330.26&quot; y=&quot;768.73&quot; style=&quot;font-family:&#x27;Helvetica&#x27;;font-size:60.49px;fill:#000000&quot;&gt;180&lt;/text&gt;\n",
       "\t&lt;text x=&quot;1330.26&quot; y=&quot;469.95&quot; style=&quot;font-family:&#x27;Helvetica&#x27;;font-size:60.49px;fill:#000000&quot;&gt;200&lt;/text&gt;\n",
       "\t&lt;text x=&quot;1330.26&quot; y=&quot;171.17&quot; style=&quot;font-family:&#x27;Helvetica&#x27;;font-size:60.49px;fill:#000000&quot;&gt;220&lt;/text&gt;\n",
       "\t&lt;text x=&quot;1499.40&quot; y=&quot;760.27&quot; style=&quot;font-family:&#x27;Helvetica&#x27;;font-size:60.49px;fill:#000000&quot; transform=&quot;rotate(-90 1499.40,760.27)&quot; text-anchor=&quot;middle&quot;&gt;Mental Health Proviers per 100k population&lt;/text&gt;\n",
       "\t&lt;line x1=&quot;55.44&quot; y1=&quot;1380.06&quot; x2=&quot;1308.23&quot; y2=&quot;1380.06&quot; style=&quot;stroke:#000000;stroke-width:3.17&quot;/&gt;\n",
       "\t&lt;line x1=&quot;64.95&quot; y1=&quot;1358.08&quot; x2=&quot;64.95&quot; y2=&quot;1380.06&quot; style=&quot;stroke:#000000;stroke-width:3.17&quot;/&gt;\n",
       "\t&lt;text x=&quot;64.95&quot; y=&quot;1433.37&quot; style=&quot;font-family:&#x27;Helvetica&#x27;;font-size:60.49px;fill:#000000&quot; text-anchor=&quot;middle&quot;&gt;1&lt;/text&gt;\n",
       "\t&lt;line x1=&quot;373.39&quot; y1=&quot;1358.08&quot; x2=&quot;373.39&quot; y2=&quot;1380.06&quot; style=&quot;stroke:#000000;stroke-width:3.17&quot;/&gt;\n",
       "\t&lt;text x=&quot;373.39&quot; y=&quot;1433.37&quot; style=&quot;font-family:&#x27;Helvetica&#x27;;font-size:60.49px;fill:#000000&quot; text-anchor=&quot;middle&quot;&gt;2&lt;/text&gt;\n",
       "\t&lt;line x1=&quot;681.83&quot; y1=&quot;1358.08&quot; x2=&quot;681.83&quot; y2=&quot;1380.06&quot; style=&quot;stroke:#000000;stroke-width:3.17&quot;/&gt;\n",
       "\t&lt;text x=&quot;681.83&quot; y=&quot;1433.37&quot; style=&quot;font-family:&#x27;Helvetica&#x27;;font-size:60.49px;fill:#000000&quot; text-anchor=&quot;middle&quot;&gt;3&lt;/text&gt;\n",
       "\t&lt;line x1=&quot;990.28&quot; y1=&quot;1358.08&quot; x2=&quot;990.28&quot; y2=&quot;1380.06&quot; style=&quot;stroke:#000000;stroke-width:3.17&quot;/&gt;\n",
       "\t&lt;text x=&quot;990.28&quot; y=&quot;1433.37&quot; style=&quot;font-family:&#x27;Helvetica&#x27;;font-size:60.49px;fill:#000000&quot; text-anchor=&quot;middle&quot;&gt;4&lt;/text&gt;\n",
       "\t&lt;line x1=&quot;1298.72&quot; y1=&quot;1358.08&quot; x2=&quot;1298.72&quot; y2=&quot;1380.06&quot; style=&quot;stroke:#000000;stroke-width:3.17&quot;/&gt;\n",
       "\t&lt;text x=&quot;1298.72&quot; y=&quot;1433.37&quot; style=&quot;font-family:&#x27;Helvetica&#x27;;font-size:60.49px;fill:#000000&quot; text-anchor=&quot;middle&quot;&gt;5&lt;/text&gt;\n",
       "\t&lt;text x=&quot;681.83&quot; y=&quot;1499.40&quot; style=&quot;font-family:&#x27;Helvetica&#x27;;font-size:60.49px;fill:#000000&quot; text-anchor=&quot;middle&quot;&gt;Distancing: Lowest (1) to Highest (5)&lt;/text&gt;\n",
       "\t&lt;rect x=&quot;565.70&quot; y=&quot;55.49&quot; width=&quot;742.52&quot; height=&quot;84.99&quot; style=&quot;fill:#7B92A8&quot;/&gt;\n",
       "\t&lt;rect x=&quot;567.29&quot; y=&quot;57.07&quot; width=&quot;739.36&quot; height=&quot;81.82&quot; style=&quot;fill:none;stroke:#7B92A8;stroke-width:3.17&quot;/&gt;\n",
       "\t&lt;text x=&quot;1298.72&quot; y=&quot;121.12&quot; style=&quot;font-family:&#x27;Helvetica&#x27;;font-size:65.99px;fill:#FFFFff&quot; text-anchor=&quot;end&quot;&gt;Mental Health Providers&lt;/text&gt;\n",
       "&lt;/svg&gt;\n",
       "</body></html>\"></iframe>\n"
      ],
      "text/plain": [
       "This front-end cannot display the desired image type."
      ]
     },
     "metadata": {
      "image/svg+xml": {
       "height": 600,
       "width": 600
      },
      "text/html": {
       "height": 600,
       "width": 600
      }
     },
     "output_type": "display_data"
    }
   ],
   "source": [
    "// Comparing mental health provider rate to social distancing\n",
    "foreach var of varlist mhproviders_rate {\n",
    "    frame change default\n",
    "        table iso5, c(count `var' mean `var' sem `var')\n",
    "            frame put `var' iso5, into(`var')\n",
    "                frame change `var'\n",
    "                    collapse (mean) `var', by(iso5)\n",
    "                        la var mhproviders_rate \"Mental Health Proviers per 100k population\"\n",
    "                            line `var' iso5, note(\"Mental Health Providers\")           \n",
    "}"
   ]
  },
  {
   "cell_type": "markdown",
   "metadata": {},
   "source": [
    "---\n",
    "# Health Insurance\n",
    "\n",
    "Getting hospitalized for Covid-19 is sure to be expensive. After hearing that even some front line nurses in pulmonary infectious disease units in North Carolina do not have health insurance, we wanted to see if there was any association between health insurance status and social distancing. "
   ]
  },
  {
   "cell_type": "code",
   "execution_count": 24,
   "metadata": {},
   "outputs": [
    {
     "name": "stdout",
     "output_type": "stream",
     "text": [
      "\n",
      "\n",
      "\n",
      "----------------------------------------------------------\n",
      "Distancin |\n",
      "g: Lowest |\n",
      "(1) to    |\n",
      "Highest   |\n",
      "(5)       |    N(uninsu~p)  mean(uninsu~p)   sem(uninsu~p)\n",
      "----------+-----------------------------------------------\n",
      "        1 |            411       12.953806        .2351323\n",
      "        2 |            419       12.281451        .2263736\n",
      "        3 |            436       11.216858        .2392373\n",
      "        4 |            422       10.373401        .2278884\n",
      "        5 |            433       8.4981123        .1955759\n",
      "----------------------------------------------------------\n"
     ]
    },
    {
     "data": {
      "application/pdf": "[encoded data removed]",
      "image/svg+xml": [
       "<?xml version=\"1.0\" encoding=\"UTF-8\" standalone=\"no\"?>\n",
       "<!-- This is a Stata 16.0 generated SVG file (http://www.stata.com) -->\n",
       "\n",
       "<svg version=\"1.1\" width=\"600px\" height=\"600px\" viewBox=\"0 0 1584 1584\" xmlns=\"http://www.w3.org/2000/svg\" xmlns:xlink=\"http://www.w3.org/1999/xlink\">\n",
       "\t<desc>Stata Graph - Graph</desc>\n",
       "\t<rect x=\"0\" y=\"0\" width=\"1584\" height=\"1584\" style=\"fill:#C6D3DF;stroke:none\"/>\n",
       "\t<rect x=\"0.00\" y=\"0.05\" width=\"1584.00\" height=\"1583.95\" style=\"fill:#C6D3DF\"/>\n",
       "\t<rect x=\"1.58\" y=\"1.63\" width=\"1580.83\" height=\"1580.78\" style=\"fill:none;stroke:#C6D3DF;stroke-width:3.17\"/>\n",
       "\t<line x1=\"55.44\" y1=\"1370.56\" x2=\"1342.53\" y2=\"1370.56\" style=\"stroke:#FFFFFF;stroke-width:4.75\"/>\n",
       "\t<line x1=\"55.44\" y1=\"1126.47\" x2=\"1342.53\" y2=\"1126.47\" style=\"stroke:#FFFFFF;stroke-width:4.75\"/>\n",
       "\t<line x1=\"55.44\" y1=\"882.34\" x2=\"1342.53\" y2=\"882.34\" style=\"stroke:#FFFFFF;stroke-width:4.75\"/>\n",
       "\t<line x1=\"55.44\" y1=\"638.20\" x2=\"1342.53\" y2=\"638.20\" style=\"stroke:#FFFFFF;stroke-width:4.75\"/>\n",
       "\t<line x1=\"55.44\" y1=\"394.12\" x2=\"1342.53\" y2=\"394.12\" style=\"stroke:#FFFFFF;stroke-width:4.75\"/>\n",
       "\t<line x1=\"55.44\" y1=\"149.98\" x2=\"1342.53\" y2=\"149.98\" style=\"stroke:#FFFFFF;stroke-width:4.75\"/>\n",
       "\t<path d=\" M64.90 161.32 L381.95 325.41 L698.96 585.29 L1015.97 791.21 L1333.03 1248.98\" stroke-linejoin=\"round\" style=\"fill:none;stroke:#3E647D;stroke-width:19.01\"/>\n",
       "\t<text x=\"1364.51\" y=\"1391.74\" style=\"font-family:'Helvetica';font-size:60.49px;fill:#000000\">8</text>\n",
       "\t<text x=\"1364.51\" y=\"1147.66\" style=\"font-family:'Helvetica';font-size:60.49px;fill:#000000\">9</text>\n",
       "\t<text x=\"1364.51\" y=\"903.52\" style=\"font-family:'Helvetica';font-size:60.49px;fill:#000000\">10</text>\n",
       "\t<text x=\"1364.51\" y=\"659.39\" style=\"font-family:'Helvetica';font-size:60.49px;fill:#000000\">11</text>\n",
       "\t<text x=\"1364.51\" y=\"415.30\" style=\"font-family:'Helvetica';font-size:60.49px;fill:#000000\">12</text>\n",
       "\t<text x=\"1364.51\" y=\"171.17\" style=\"font-family:'Helvetica';font-size:60.49px;fill:#000000\">13</text>\n",
       "\t<text x=\"1499.40\" y=\"760.27\" style=\"font-family:'Helvetica';font-size:60.49px;fill:#000000\" transform=\"rotate(-90 1499.40,760.27)\" text-anchor=\"middle\">% Uninsured</text>\n",
       "\t<line x1=\"55.44\" y1=\"1380.06\" x2=\"1342.53\" y2=\"1380.06\" style=\"stroke:#000000;stroke-width:3.17\"/>\n",
       "\t<line x1=\"64.95\" y1=\"1358.08\" x2=\"64.95\" y2=\"1380.06\" style=\"stroke:#000000;stroke-width:3.17\"/>\n",
       "\t<text x=\"64.95\" y=\"1433.37\" style=\"font-family:'Helvetica';font-size:60.49px;fill:#000000\" text-anchor=\"middle\">1</text>\n",
       "\t<line x1=\"381.95\" y1=\"1358.08\" x2=\"381.95\" y2=\"1380.06\" style=\"stroke:#000000;stroke-width:3.17\"/>\n",
       "\t<text x=\"381.95\" y=\"1433.37\" style=\"font-family:'Helvetica';font-size:60.49px;fill:#000000\" text-anchor=\"middle\">2</text>\n",
       "\t<line x1=\"699.01\" y1=\"1358.08\" x2=\"699.01\" y2=\"1380.06\" style=\"stroke:#000000;stroke-width:3.17\"/>\n",
       "\t<text x=\"699.01\" y=\"1433.37\" style=\"font-family:'Helvetica';font-size:60.49px;fill:#000000\" text-anchor=\"middle\">3</text>\n",
       "\t<line x1=\"1016.02\" y1=\"1358.08\" x2=\"1016.02\" y2=\"1380.06\" style=\"stroke:#000000;stroke-width:3.17\"/>\n",
       "\t<text x=\"1016.02\" y=\"1433.37\" style=\"font-family:'Helvetica';font-size:60.49px;fill:#000000\" text-anchor=\"middle\">4</text>\n",
       "\t<line x1=\"1333.03\" y1=\"1358.08\" x2=\"1333.03\" y2=\"1380.06\" style=\"stroke:#000000;stroke-width:3.17\"/>\n",
       "\t<text x=\"1333.03\" y=\"1433.37\" style=\"font-family:'Helvetica';font-size:60.49px;fill:#000000\" text-anchor=\"middle\">5</text>\n",
       "\t<text x=\"699.01\" y=\"1499.40\" style=\"font-family:'Helvetica';font-size:60.49px;fill:#000000\" text-anchor=\"middle\">Distancing: Lowest (1) to Highest (5)</text>\n",
       "\t<rect x=\"511.99\" y=\"55.49\" width=\"830.54\" height=\"84.99\" style=\"fill:#7B92A8\"/>\n",
       "\t<rect x=\"513.58\" y=\"57.07\" width=\"827.37\" height=\"81.82\" style=\"fill:none;stroke:#7B92A8;stroke-width:3.17\"/>\n",
       "\t<text x=\"1333.03\" y=\"121.12\" style=\"font-family:'Helvetica';font-size:65.99px;fill:#FFFFff\" text-anchor=\"end\">Uninsured Adults Under 65</text>\n",
       "</svg>\n"
      ],
      "text/html": [
       "                <iframe frameborder=\"0\" scrolling=\"no\" height=\"600\" width=\"600\"                srcdoc=\"<html><body>&lt;?xml version=&quot;1.0&quot; encoding=&quot;UTF-8&quot; standalone=&quot;no&quot;?&gt;\n",
       "&lt;!-- This is a Stata 16.0 generated SVG file (http://www.stata.com) --&gt;\n",
       "\n",
       "&lt;svg version=&quot;1.1&quot; width=&quot;600px&quot; height=&quot;600px&quot; viewBox=&quot;0 0 1584 1584&quot; xmlns=&quot;http://www.w3.org/2000/svg&quot; xmlns:xlink=&quot;http://www.w3.org/1999/xlink&quot;&gt;\n",
       "\t&lt;desc&gt;Stata Graph - Graph&lt;/desc&gt;\n",
       "\t&lt;rect x=&quot;0&quot; y=&quot;0&quot; width=&quot;1584&quot; height=&quot;1584&quot; style=&quot;fill:#C6D3DF;stroke:none&quot;/&gt;\n",
       "\t&lt;rect x=&quot;0.00&quot; y=&quot;0.05&quot; width=&quot;1584.00&quot; height=&quot;1583.95&quot; style=&quot;fill:#C6D3DF&quot;/&gt;\n",
       "\t&lt;rect x=&quot;1.58&quot; y=&quot;1.63&quot; width=&quot;1580.83&quot; height=&quot;1580.78&quot; style=&quot;fill:none;stroke:#C6D3DF;stroke-width:3.17&quot;/&gt;\n",
       "\t&lt;line x1=&quot;55.44&quot; y1=&quot;1370.56&quot; x2=&quot;1342.53&quot; y2=&quot;1370.56&quot; style=&quot;stroke:#FFFFFF;stroke-width:4.75&quot;/&gt;\n",
       "\t&lt;line x1=&quot;55.44&quot; y1=&quot;1126.47&quot; x2=&quot;1342.53&quot; y2=&quot;1126.47&quot; style=&quot;stroke:#FFFFFF;stroke-width:4.75&quot;/&gt;\n",
       "\t&lt;line x1=&quot;55.44&quot; y1=&quot;882.34&quot; x2=&quot;1342.53&quot; y2=&quot;882.34&quot; style=&quot;stroke:#FFFFFF;stroke-width:4.75&quot;/&gt;\n",
       "\t&lt;line x1=&quot;55.44&quot; y1=&quot;638.20&quot; x2=&quot;1342.53&quot; y2=&quot;638.20&quot; style=&quot;stroke:#FFFFFF;stroke-width:4.75&quot;/&gt;\n",
       "\t&lt;line x1=&quot;55.44&quot; y1=&quot;394.12&quot; x2=&quot;1342.53&quot; y2=&quot;394.12&quot; style=&quot;stroke:#FFFFFF;stroke-width:4.75&quot;/&gt;\n",
       "\t&lt;line x1=&quot;55.44&quot; y1=&quot;149.98&quot; x2=&quot;1342.53&quot; y2=&quot;149.98&quot; style=&quot;stroke:#FFFFFF;stroke-width:4.75&quot;/&gt;\n",
       "\t&lt;path d=&quot; M64.90 161.32 L381.95 325.41 L698.96 585.29 L1015.97 791.21 L1333.03 1248.98&quot; stroke-linejoin=&quot;round&quot; style=&quot;fill:none;stroke:#3E647D;stroke-width:19.01&quot;/&gt;\n",
       "\t&lt;text x=&quot;1364.51&quot; y=&quot;1391.74&quot; style=&quot;font-family:&#x27;Helvetica&#x27;;font-size:60.49px;fill:#000000&quot;&gt;8&lt;/text&gt;\n",
       "\t&lt;text x=&quot;1364.51&quot; y=&quot;1147.66&quot; style=&quot;font-family:&#x27;Helvetica&#x27;;font-size:60.49px;fill:#000000&quot;&gt;9&lt;/text&gt;\n",
       "\t&lt;text x=&quot;1364.51&quot; y=&quot;903.52&quot; style=&quot;font-family:&#x27;Helvetica&#x27;;font-size:60.49px;fill:#000000&quot;&gt;10&lt;/text&gt;\n",
       "\t&lt;text x=&quot;1364.51&quot; y=&quot;659.39&quot; style=&quot;font-family:&#x27;Helvetica&#x27;;font-size:60.49px;fill:#000000&quot;&gt;11&lt;/text&gt;\n",
       "\t&lt;text x=&quot;1364.51&quot; y=&quot;415.30&quot; style=&quot;font-family:&#x27;Helvetica&#x27;;font-size:60.49px;fill:#000000&quot;&gt;12&lt;/text&gt;\n",
       "\t&lt;text x=&quot;1364.51&quot; y=&quot;171.17&quot; style=&quot;font-family:&#x27;Helvetica&#x27;;font-size:60.49px;fill:#000000&quot;&gt;13&lt;/text&gt;\n",
       "\t&lt;text x=&quot;1499.40&quot; y=&quot;760.27&quot; style=&quot;font-family:&#x27;Helvetica&#x27;;font-size:60.49px;fill:#000000&quot; transform=&quot;rotate(-90 1499.40,760.27)&quot; text-anchor=&quot;middle&quot;&gt;% Uninsured&lt;/text&gt;\n",
       "\t&lt;line x1=&quot;55.44&quot; y1=&quot;1380.06&quot; x2=&quot;1342.53&quot; y2=&quot;1380.06&quot; style=&quot;stroke:#000000;stroke-width:3.17&quot;/&gt;\n",
       "\t&lt;line x1=&quot;64.95&quot; y1=&quot;1358.08&quot; x2=&quot;64.95&quot; y2=&quot;1380.06&quot; style=&quot;stroke:#000000;stroke-width:3.17&quot;/&gt;\n",
       "\t&lt;text x=&quot;64.95&quot; y=&quot;1433.37&quot; style=&quot;font-family:&#x27;Helvetica&#x27;;font-size:60.49px;fill:#000000&quot; text-anchor=&quot;middle&quot;&gt;1&lt;/text&gt;\n",
       "\t&lt;line x1=&quot;381.95&quot; y1=&quot;1358.08&quot; x2=&quot;381.95&quot; y2=&quot;1380.06&quot; style=&quot;stroke:#000000;stroke-width:3.17&quot;/&gt;\n",
       "\t&lt;text x=&quot;381.95&quot; y=&quot;1433.37&quot; style=&quot;font-family:&#x27;Helvetica&#x27;;font-size:60.49px;fill:#000000&quot; text-anchor=&quot;middle&quot;&gt;2&lt;/text&gt;\n",
       "\t&lt;line x1=&quot;699.01&quot; y1=&quot;1358.08&quot; x2=&quot;699.01&quot; y2=&quot;1380.06&quot; style=&quot;stroke:#000000;stroke-width:3.17&quot;/&gt;\n",
       "\t&lt;text x=&quot;699.01&quot; y=&quot;1433.37&quot; style=&quot;font-family:&#x27;Helvetica&#x27;;font-size:60.49px;fill:#000000&quot; text-anchor=&quot;middle&quot;&gt;3&lt;/text&gt;\n",
       "\t&lt;line x1=&quot;1016.02&quot; y1=&quot;1358.08&quot; x2=&quot;1016.02&quot; y2=&quot;1380.06&quot; style=&quot;stroke:#000000;stroke-width:3.17&quot;/&gt;\n",
       "\t&lt;text x=&quot;1016.02&quot; y=&quot;1433.37&quot; style=&quot;font-family:&#x27;Helvetica&#x27;;font-size:60.49px;fill:#000000&quot; text-anchor=&quot;middle&quot;&gt;4&lt;/text&gt;\n",
       "\t&lt;line x1=&quot;1333.03&quot; y1=&quot;1358.08&quot; x2=&quot;1333.03&quot; y2=&quot;1380.06&quot; style=&quot;stroke:#000000;stroke-width:3.17&quot;/&gt;\n",
       "\t&lt;text x=&quot;1333.03&quot; y=&quot;1433.37&quot; style=&quot;font-family:&#x27;Helvetica&#x27;;font-size:60.49px;fill:#000000&quot; text-anchor=&quot;middle&quot;&gt;5&lt;/text&gt;\n",
       "\t&lt;text x=&quot;699.01&quot; y=&quot;1499.40&quot; style=&quot;font-family:&#x27;Helvetica&#x27;;font-size:60.49px;fill:#000000&quot; text-anchor=&quot;middle&quot;&gt;Distancing: Lowest (1) to Highest (5)&lt;/text&gt;\n",
       "\t&lt;rect x=&quot;511.99&quot; y=&quot;55.49&quot; width=&quot;830.54&quot; height=&quot;84.99&quot; style=&quot;fill:#7B92A8&quot;/&gt;\n",
       "\t&lt;rect x=&quot;513.58&quot; y=&quot;57.07&quot; width=&quot;827.37&quot; height=&quot;81.82&quot; style=&quot;fill:none;stroke:#7B92A8;stroke-width:3.17&quot;/&gt;\n",
       "\t&lt;text x=&quot;1333.03&quot; y=&quot;121.12&quot; style=&quot;font-family:&#x27;Helvetica&#x27;;font-size:65.99px;fill:#FFFFff&quot; text-anchor=&quot;end&quot;&gt;Uninsured Adults Under 65&lt;/text&gt;\n",
       "&lt;/svg&gt;\n",
       "</body></html>\"></iframe>\n"
      ],
      "text/plain": [
       "This front-end cannot display the desired image type."
      ]
     },
     "metadata": {
      "image/svg+xml": {
       "height": 600,
       "width": 600
      },
      "text/html": {
       "height": 600,
       "width": 600
      }
     },
     "output_type": "display_data"
    }
   ],
   "source": [
    "// Comparing percent uninsured to social distancing\n",
    "frame change default\n",
    "foreach var of varlist uninsured_p {\n",
    "    table iso5, c(count `var' mean `var' sem `var')\n",
    "        frame put `var' iso5, into(`var')\n",
    "            frame change `var'\n",
    "                collapse (mean) `var', by(iso5)\n",
    "                    la var `var' \"% Uninsured\"\n",
    "                        line `var' iso5 , note(\"Uninsured Adults Under 65\") \n",
    "}"
   ]
  },
  {
   "cell_type": "markdown",
   "metadata": {},
   "source": [
    "Alarmingly, counties with lower social distancing also had more uninsured residents!"
   ]
  },
  {
   "cell_type": "markdown",
   "metadata": {},
   "source": [
    "---\n",
    "# Flu Vaccination\n",
    "\n",
    "We had a hypothesis that counties that were more involved in preventative behaviors would be more likely to self-isolate more thoroughly. To test this, we examined whether earlier flu vaccination rates impacted how much the county was likely to slow down in the current coronavirus outbreak. This is quantified as the percent of annual Medicare enrollees having an annual flu vaccination, as reported by the Robert Wood Johnson Foundation. Since the flu vaccine is free to all Medicare beneficiaries, and this is the elderly age group with the most influenza mortality, this is a convenient metric to test *a priori* how conscientious the population was, on average."
   ]
  },
  {
   "cell_type": "code",
   "execution_count": 25,
   "metadata": {},
   "outputs": [
    {
     "name": "stdout",
     "output_type": "stream",
     "text": [
      "\n",
      "\n",
      "\n",
      "        % Medicare Beneficiaries Getting Flu Vaccine\n",
      "-------------------------------------------------------------\n",
      "      Percentiles      Smallest\n",
      " 1%           18              9\n",
      " 5%           26              9\n",
      "10%           30             12       Obs               2,118\n",
      "25%           37             12       Sum of Wgt.       2,118\n",
      "\n",
      "50%           43                      Mean           41.94145\n",
      "                        Largest       Std. Dev.      8.642338\n",
      "75%           48             62\n",
      "90%           52             62       Variance          74.69\n",
      "95%           54             63       Skewness      -.6060023\n",
      "99%           57             65       Kurtosis        3.25627\n",
      "\n",
      "(bin=10, start=9, width=5.6)\n"
     ]
    },
    {
     "data": {
      "application/pdf": "[encoded data removed]",
      "image/svg+xml": [
       "<?xml version=\"1.0\" encoding=\"UTF-8\" standalone=\"no\"?>\n",
       "<!-- This is a Stata 16.0 generated SVG file (http://www.stata.com) -->\n",
       "\n",
       "<svg version=\"1.1\" width=\"600px\" height=\"600px\" viewBox=\"0 0 1584 1584\" xmlns=\"http://www.w3.org/2000/svg\" xmlns:xlink=\"http://www.w3.org/1999/xlink\">\n",
       "\t<desc>Stata Graph - Graph</desc>\n",
       "\t<rect x=\"0\" y=\"0\" width=\"1584\" height=\"1584\" style=\"fill:#C6D3DF;stroke:none\"/>\n",
       "\t<rect x=\"0.00\" y=\"0.05\" width=\"1584.00\" height=\"1583.95\" style=\"fill:#C6D3DF\"/>\n",
       "\t<rect x=\"1.58\" y=\"1.63\" width=\"1580.83\" height=\"1580.78\" style=\"fill:none;stroke:#C6D3DF;stroke-width:3.17\"/>\n",
       "\t<line x1=\"55.44\" y1=\"1380.06\" x2=\"1324.12\" y2=\"1380.06\" style=\"stroke:#FFFFFF;stroke-width:4.75\"/>\n",
       "\t<line x1=\"55.44\" y1=\"1117.46\" x2=\"1324.12\" y2=\"1117.46\" style=\"stroke:#FFFFFF;stroke-width:4.75\"/>\n",
       "\t<line x1=\"55.44\" y1=\"854.87\" x2=\"1324.12\" y2=\"854.87\" style=\"stroke:#FFFFFF;stroke-width:4.75\"/>\n",
       "\t<line x1=\"55.44\" y1=\"592.32\" x2=\"1324.12\" y2=\"592.32\" style=\"stroke:#FFFFFF;stroke-width:4.75\"/>\n",
       "\t<line x1=\"55.44\" y1=\"329.72\" x2=\"1324.12\" y2=\"329.72\" style=\"stroke:#FFFFFF;stroke-width:4.75\"/>\n",
       "\t<line x1=\"55.44\" y1=\"67.12\" x2=\"1324.12\" y2=\"67.12\" style=\"stroke:#FFFFFF;stroke-width:4.75\"/>\n",
       "\t<rect x=\"124.45\" y=\"1360.16\" width=\"119.00\" height=\"19.90\" style=\"fill:#CAC27E\"/>\n",
       "\t<rect x=\"126.82\" y=\"1362.54\" width=\"114.25\" height=\"15.15\" style=\"fill:none;stroke:#D7D29E;stroke-width:4.75\"/>\n",
       "\t<rect x=\"243.45\" y=\"1326.95\" width=\"119.05\" height=\"53.11\" style=\"fill:#CAC27E\"/>\n",
       "\t<rect x=\"245.82\" y=\"1329.32\" width=\"114.30\" height=\"48.36\" style=\"fill:none;stroke:#D7D29E;stroke-width:4.75\"/>\n",
       "\t<rect x=\"362.50\" y=\"1231.76\" width=\"119.00\" height=\"148.30\" style=\"fill:#CAC27E\"/>\n",
       "\t<rect x=\"364.88\" y=\"1234.13\" width=\"114.25\" height=\"143.55\" style=\"fill:none;stroke:#D7D29E;stroke-width:4.75\"/>\n",
       "\t<rect x=\"481.50\" y=\"1025.84\" width=\"119.00\" height=\"354.22\" style=\"fill:#CAC27E\"/>\n",
       "\t<rect x=\"483.88\" y=\"1028.21\" width=\"114.25\" height=\"349.47\" style=\"fill:none;stroke:#D7D29E;stroke-width:4.75\"/>\n",
       "\t<rect x=\"600.50\" y=\"813.28\" width=\"119.05\" height=\"566.77\" style=\"fill:#CAC27E\"/>\n",
       "\t<rect x=\"602.88\" y=\"815.66\" width=\"114.30\" height=\"562.02\" style=\"fill:none;stroke:#D7D29E;stroke-width:4.75\"/>\n",
       "\t<rect x=\"719.55\" y=\"270.86\" width=\"119.00\" height=\"1109.20\" style=\"fill:#CAC27E\"/>\n",
       "\t<rect x=\"721.93\" y=\"273.24\" width=\"114.25\" height=\"1104.44\" style=\"fill:none;stroke:#D7D29E;stroke-width:4.75\"/>\n",
       "\t<rect x=\"838.56\" y=\"64.99\" width=\"119.00\" height=\"1315.07\" style=\"fill:#CAC27E\"/>\n",
       "\t<rect x=\"840.93\" y=\"67.37\" width=\"114.25\" height=\"1310.31\" style=\"fill:none;stroke:#D7D29E;stroke-width:4.75\"/>\n",
       "\t<rect x=\"957.56\" y=\"529.90\" width=\"119.00\" height=\"850.16\" style=\"fill:#CAC27E\"/>\n",
       "\t<rect x=\"959.93\" y=\"532.27\" width=\"114.25\" height=\"845.41\" style=\"fill:none;stroke:#D7D29E;stroke-width:4.75\"/>\n",
       "\t<rect x=\"1076.56\" y=\"1129.89\" width=\"119.05\" height=\"250.17\" style=\"fill:#CAC27E\"/>\n",
       "\t<rect x=\"1078.94\" y=\"1132.26\" width=\"114.30\" height=\"245.42\" style=\"fill:none;stroke:#D7D29E;stroke-width:4.75\"/>\n",
       "\t<rect x=\"1195.61\" y=\"1357.93\" width=\"119.00\" height=\"22.13\" style=\"fill:#CAC27E\"/>\n",
       "\t<rect x=\"1197.99\" y=\"1360.31\" width=\"114.25\" height=\"17.37\" style=\"fill:none;stroke:#D7D29E;stroke-width:4.75\"/>\n",
       "\t<text x=\"1346.10\" y=\"1401.24\" style=\"font-family:'Helvetica';font-size:60.49px;fill:#000000\">0</text>\n",
       "\t<text x=\"1346.10\" y=\"1138.65\" style=\"font-family:'Helvetica';font-size:60.49px;fill:#000000\">.01</text>\n",
       "\t<text x=\"1346.10\" y=\"876.05\" style=\"font-family:'Helvetica';font-size:60.49px;fill:#000000\">.02</text>\n",
       "\t<text x=\"1346.10\" y=\"613.50\" style=\"font-family:'Helvetica';font-size:60.49px;fill:#000000\">.03</text>\n",
       "\t<text x=\"1346.10\" y=\"350.90\" style=\"font-family:'Helvetica';font-size:60.49px;fill:#000000\">.04</text>\n",
       "\t<text x=\"1346.10\" y=\"88.31\" style=\"font-family:'Helvetica';font-size:60.49px;fill:#000000\">.05</text>\n",
       "\t<text x=\"1499.40\" y=\"717.80\" style=\"font-family:'Helvetica';font-size:60.49px;fill:#000000\" transform=\"rotate(-90 1499.40,717.80)\" text-anchor=\"middle\">Density</text>\n",
       "\t<line x1=\"55.44\" y1=\"1380.06\" x2=\"1324.12\" y2=\"1380.06\" style=\"stroke:#000000;stroke-width:3.17\"/>\n",
       "\t<line x1=\"145.68\" y1=\"1358.08\" x2=\"145.68\" y2=\"1380.06\" style=\"stroke:#000000;stroke-width:3.17\"/>\n",
       "\t<text x=\"145.68\" y=\"1433.37\" style=\"font-family:'Helvetica';font-size:60.49px;fill:#000000\" text-anchor=\"middle\">10</text>\n",
       "\t<line x1=\"358.24\" y1=\"1358.08\" x2=\"358.24\" y2=\"1380.06\" style=\"stroke:#000000;stroke-width:3.17\"/>\n",
       "\t<text x=\"358.24\" y=\"1433.37\" style=\"font-family:'Helvetica';font-size:60.49px;fill:#000000\" text-anchor=\"middle\">20</text>\n",
       "\t<line x1=\"570.75\" y1=\"1358.08\" x2=\"570.75\" y2=\"1380.06\" style=\"stroke:#000000;stroke-width:3.17\"/>\n",
       "\t<text x=\"570.75\" y=\"1433.37\" style=\"font-family:'Helvetica';font-size:60.49px;fill:#000000\" text-anchor=\"middle\">30</text>\n",
       "\t<line x1=\"783.31\" y1=\"1358.08\" x2=\"783.31\" y2=\"1380.06\" style=\"stroke:#000000;stroke-width:3.17\"/>\n",
       "\t<text x=\"783.31\" y=\"1433.37\" style=\"font-family:'Helvetica';font-size:60.49px;fill:#000000\" text-anchor=\"middle\">40</text>\n",
       "\t<line x1=\"995.82\" y1=\"1358.08\" x2=\"995.82\" y2=\"1380.06\" style=\"stroke:#000000;stroke-width:3.17\"/>\n",
       "\t<text x=\"995.82\" y=\"1433.37\" style=\"font-family:'Helvetica';font-size:60.49px;fill:#000000\" text-anchor=\"middle\">50</text>\n",
       "\t<line x1=\"1208.33\" y1=\"1358.08\" x2=\"1208.33\" y2=\"1380.06\" style=\"stroke:#000000;stroke-width:3.17\"/>\n",
       "\t<text x=\"1208.33\" y=\"1433.37\" style=\"font-family:'Helvetica';font-size:60.49px;fill:#000000\" text-anchor=\"middle\">60</text>\n",
       "\t<text x=\"689.75\" y=\"1499.40\" style=\"font-family:'Helvetica';font-size:60.49px;fill:#000000\" text-anchor=\"middle\">% Medicare Beneficiaries Getting Flu Vaccine</text>\n",
       "</svg>\n"
      ],
      "text/html": [
       "                <iframe frameborder=\"0\" scrolling=\"no\" height=\"600\" width=\"600\"                srcdoc=\"<html><body>&lt;?xml version=&quot;1.0&quot; encoding=&quot;UTF-8&quot; standalone=&quot;no&quot;?&gt;\n",
       "&lt;!-- This is a Stata 16.0 generated SVG file (http://www.stata.com) --&gt;\n",
       "\n",
       "&lt;svg version=&quot;1.1&quot; width=&quot;600px&quot; height=&quot;600px&quot; viewBox=&quot;0 0 1584 1584&quot; xmlns=&quot;http://www.w3.org/2000/svg&quot; xmlns:xlink=&quot;http://www.w3.org/1999/xlink&quot;&gt;\n",
       "\t&lt;desc&gt;Stata Graph - Graph&lt;/desc&gt;\n",
       "\t&lt;rect x=&quot;0&quot; y=&quot;0&quot; width=&quot;1584&quot; height=&quot;1584&quot; style=&quot;fill:#C6D3DF;stroke:none&quot;/&gt;\n",
       "\t&lt;rect x=&quot;0.00&quot; y=&quot;0.05&quot; width=&quot;1584.00&quot; height=&quot;1583.95&quot; style=&quot;fill:#C6D3DF&quot;/&gt;\n",
       "\t&lt;rect x=&quot;1.58&quot; y=&quot;1.63&quot; width=&quot;1580.83&quot; height=&quot;1580.78&quot; style=&quot;fill:none;stroke:#C6D3DF;stroke-width:3.17&quot;/&gt;\n",
       "\t&lt;line x1=&quot;55.44&quot; y1=&quot;1380.06&quot; x2=&quot;1324.12&quot; y2=&quot;1380.06&quot; style=&quot;stroke:#FFFFFF;stroke-width:4.75&quot;/&gt;\n",
       "\t&lt;line x1=&quot;55.44&quot; y1=&quot;1117.46&quot; x2=&quot;1324.12&quot; y2=&quot;1117.46&quot; style=&quot;stroke:#FFFFFF;stroke-width:4.75&quot;/&gt;\n",
       "\t&lt;line x1=&quot;55.44&quot; y1=&quot;854.87&quot; x2=&quot;1324.12&quot; y2=&quot;854.87&quot; style=&quot;stroke:#FFFFFF;stroke-width:4.75&quot;/&gt;\n",
       "\t&lt;line x1=&quot;55.44&quot; y1=&quot;592.32&quot; x2=&quot;1324.12&quot; y2=&quot;592.32&quot; style=&quot;stroke:#FFFFFF;stroke-width:4.75&quot;/&gt;\n",
       "\t&lt;line x1=&quot;55.44&quot; y1=&quot;329.72&quot; x2=&quot;1324.12&quot; y2=&quot;329.72&quot; style=&quot;stroke:#FFFFFF;stroke-width:4.75&quot;/&gt;\n",
       "\t&lt;line x1=&quot;55.44&quot; y1=&quot;67.12&quot; x2=&quot;1324.12&quot; y2=&quot;67.12&quot; style=&quot;stroke:#FFFFFF;stroke-width:4.75&quot;/&gt;\n",
       "\t&lt;rect x=&quot;124.45&quot; y=&quot;1360.16&quot; width=&quot;119.00&quot; height=&quot;19.90&quot; style=&quot;fill:#CAC27E&quot;/&gt;\n",
       "\t&lt;rect x=&quot;126.82&quot; y=&quot;1362.54&quot; width=&quot;114.25&quot; height=&quot;15.15&quot; style=&quot;fill:none;stroke:#D7D29E;stroke-width:4.75&quot;/&gt;\n",
       "\t&lt;rect x=&quot;243.45&quot; y=&quot;1326.95&quot; width=&quot;119.05&quot; height=&quot;53.11&quot; style=&quot;fill:#CAC27E&quot;/&gt;\n",
       "\t&lt;rect x=&quot;245.82&quot; y=&quot;1329.32&quot; width=&quot;114.30&quot; height=&quot;48.36&quot; style=&quot;fill:none;stroke:#D7D29E;stroke-width:4.75&quot;/&gt;\n",
       "\t&lt;rect x=&quot;362.50&quot; y=&quot;1231.76&quot; width=&quot;119.00&quot; height=&quot;148.30&quot; style=&quot;fill:#CAC27E&quot;/&gt;\n",
       "\t&lt;rect x=&quot;364.88&quot; y=&quot;1234.13&quot; width=&quot;114.25&quot; height=&quot;143.55&quot; style=&quot;fill:none;stroke:#D7D29E;stroke-width:4.75&quot;/&gt;\n",
       "\t&lt;rect x=&quot;481.50&quot; y=&quot;1025.84&quot; width=&quot;119.00&quot; height=&quot;354.22&quot; style=&quot;fill:#CAC27E&quot;/&gt;\n",
       "\t&lt;rect x=&quot;483.88&quot; y=&quot;1028.21&quot; width=&quot;114.25&quot; height=&quot;349.47&quot; style=&quot;fill:none;stroke:#D7D29E;stroke-width:4.75&quot;/&gt;\n",
       "\t&lt;rect x=&quot;600.50&quot; y=&quot;813.28&quot; width=&quot;119.05&quot; height=&quot;566.77&quot; style=&quot;fill:#CAC27E&quot;/&gt;\n",
       "\t&lt;rect x=&quot;602.88&quot; y=&quot;815.66&quot; width=&quot;114.30&quot; height=&quot;562.02&quot; style=&quot;fill:none;stroke:#D7D29E;stroke-width:4.75&quot;/&gt;\n",
       "\t&lt;rect x=&quot;719.55&quot; y=&quot;270.86&quot; width=&quot;119.00&quot; height=&quot;1109.20&quot; style=&quot;fill:#CAC27E&quot;/&gt;\n",
       "\t&lt;rect x=&quot;721.93&quot; y=&quot;273.24&quot; width=&quot;114.25&quot; height=&quot;1104.44&quot; style=&quot;fill:none;stroke:#D7D29E;stroke-width:4.75&quot;/&gt;\n",
       "\t&lt;rect x=&quot;838.56&quot; y=&quot;64.99&quot; width=&quot;119.00&quot; height=&quot;1315.07&quot; style=&quot;fill:#CAC27E&quot;/&gt;\n",
       "\t&lt;rect x=&quot;840.93&quot; y=&quot;67.37&quot; width=&quot;114.25&quot; height=&quot;1310.31&quot; style=&quot;fill:none;stroke:#D7D29E;stroke-width:4.75&quot;/&gt;\n",
       "\t&lt;rect x=&quot;957.56&quot; y=&quot;529.90&quot; width=&quot;119.00&quot; height=&quot;850.16&quot; style=&quot;fill:#CAC27E&quot;/&gt;\n",
       "\t&lt;rect x=&quot;959.93&quot; y=&quot;532.27&quot; width=&quot;114.25&quot; height=&quot;845.41&quot; style=&quot;fill:none;stroke:#D7D29E;stroke-width:4.75&quot;/&gt;\n",
       "\t&lt;rect x=&quot;1076.56&quot; y=&quot;1129.89&quot; width=&quot;119.05&quot; height=&quot;250.17&quot; style=&quot;fill:#CAC27E&quot;/&gt;\n",
       "\t&lt;rect x=&quot;1078.94&quot; y=&quot;1132.26&quot; width=&quot;114.30&quot; height=&quot;245.42&quot; style=&quot;fill:none;stroke:#D7D29E;stroke-width:4.75&quot;/&gt;\n",
       "\t&lt;rect x=&quot;1195.61&quot; y=&quot;1357.93&quot; width=&quot;119.00&quot; height=&quot;22.13&quot; style=&quot;fill:#CAC27E&quot;/&gt;\n",
       "\t&lt;rect x=&quot;1197.99&quot; y=&quot;1360.31&quot; width=&quot;114.25&quot; height=&quot;17.37&quot; style=&quot;fill:none;stroke:#D7D29E;stroke-width:4.75&quot;/&gt;\n",
       "\t&lt;text x=&quot;1346.10&quot; y=&quot;1401.24&quot; style=&quot;font-family:&#x27;Helvetica&#x27;;font-size:60.49px;fill:#000000&quot;&gt;0&lt;/text&gt;\n",
       "\t&lt;text x=&quot;1346.10&quot; y=&quot;1138.65&quot; style=&quot;font-family:&#x27;Helvetica&#x27;;font-size:60.49px;fill:#000000&quot;&gt;.01&lt;/text&gt;\n",
       "\t&lt;text x=&quot;1346.10&quot; y=&quot;876.05&quot; style=&quot;font-family:&#x27;Helvetica&#x27;;font-size:60.49px;fill:#000000&quot;&gt;.02&lt;/text&gt;\n",
       "\t&lt;text x=&quot;1346.10&quot; y=&quot;613.50&quot; style=&quot;font-family:&#x27;Helvetica&#x27;;font-size:60.49px;fill:#000000&quot;&gt;.03&lt;/text&gt;\n",
       "\t&lt;text x=&quot;1346.10&quot; y=&quot;350.90&quot; style=&quot;font-family:&#x27;Helvetica&#x27;;font-size:60.49px;fill:#000000&quot;&gt;.04&lt;/text&gt;\n",
       "\t&lt;text x=&quot;1346.10&quot; y=&quot;88.31&quot; style=&quot;font-family:&#x27;Helvetica&#x27;;font-size:60.49px;fill:#000000&quot;&gt;.05&lt;/text&gt;\n",
       "\t&lt;text x=&quot;1499.40&quot; y=&quot;717.80&quot; style=&quot;font-family:&#x27;Helvetica&#x27;;font-size:60.49px;fill:#000000&quot; transform=&quot;rotate(-90 1499.40,717.80)&quot; text-anchor=&quot;middle&quot;&gt;Density&lt;/text&gt;\n",
       "\t&lt;line x1=&quot;55.44&quot; y1=&quot;1380.06&quot; x2=&quot;1324.12&quot; y2=&quot;1380.06&quot; style=&quot;stroke:#000000;stroke-width:3.17&quot;/&gt;\n",
       "\t&lt;line x1=&quot;145.68&quot; y1=&quot;1358.08&quot; x2=&quot;145.68&quot; y2=&quot;1380.06&quot; style=&quot;stroke:#000000;stroke-width:3.17&quot;/&gt;\n",
       "\t&lt;text x=&quot;145.68&quot; y=&quot;1433.37&quot; style=&quot;font-family:&#x27;Helvetica&#x27;;font-size:60.49px;fill:#000000&quot; text-anchor=&quot;middle&quot;&gt;10&lt;/text&gt;\n",
       "\t&lt;line x1=&quot;358.24&quot; y1=&quot;1358.08&quot; x2=&quot;358.24&quot; y2=&quot;1380.06&quot; style=&quot;stroke:#000000;stroke-width:3.17&quot;/&gt;\n",
       "\t&lt;text x=&quot;358.24&quot; y=&quot;1433.37&quot; style=&quot;font-family:&#x27;Helvetica&#x27;;font-size:60.49px;fill:#000000&quot; text-anchor=&quot;middle&quot;&gt;20&lt;/text&gt;\n",
       "\t&lt;line x1=&quot;570.75&quot; y1=&quot;1358.08&quot; x2=&quot;570.75&quot; y2=&quot;1380.06&quot; style=&quot;stroke:#000000;stroke-width:3.17&quot;/&gt;\n",
       "\t&lt;text x=&quot;570.75&quot; y=&quot;1433.37&quot; style=&quot;font-family:&#x27;Helvetica&#x27;;font-size:60.49px;fill:#000000&quot; text-anchor=&quot;middle&quot;&gt;30&lt;/text&gt;\n",
       "\t&lt;line x1=&quot;783.31&quot; y1=&quot;1358.08&quot; x2=&quot;783.31&quot; y2=&quot;1380.06&quot; style=&quot;stroke:#000000;stroke-width:3.17&quot;/&gt;\n",
       "\t&lt;text x=&quot;783.31&quot; y=&quot;1433.37&quot; style=&quot;font-family:&#x27;Helvetica&#x27;;font-size:60.49px;fill:#000000&quot; text-anchor=&quot;middle&quot;&gt;40&lt;/text&gt;\n",
       "\t&lt;line x1=&quot;995.82&quot; y1=&quot;1358.08&quot; x2=&quot;995.82&quot; y2=&quot;1380.06&quot; style=&quot;stroke:#000000;stroke-width:3.17&quot;/&gt;\n",
       "\t&lt;text x=&quot;995.82&quot; y=&quot;1433.37&quot; style=&quot;font-family:&#x27;Helvetica&#x27;;font-size:60.49px;fill:#000000&quot; text-anchor=&quot;middle&quot;&gt;50&lt;/text&gt;\n",
       "\t&lt;line x1=&quot;1208.33&quot; y1=&quot;1358.08&quot; x2=&quot;1208.33&quot; y2=&quot;1380.06&quot; style=&quot;stroke:#000000;stroke-width:3.17&quot;/&gt;\n",
       "\t&lt;text x=&quot;1208.33&quot; y=&quot;1433.37&quot; style=&quot;font-family:&#x27;Helvetica&#x27;;font-size:60.49px;fill:#000000&quot; text-anchor=&quot;middle&quot;&gt;60&lt;/text&gt;\n",
       "\t&lt;text x=&quot;689.75&quot; y=&quot;1499.40&quot; style=&quot;font-family:&#x27;Helvetica&#x27;;font-size:60.49px;fill:#000000&quot; text-anchor=&quot;middle&quot;&gt;% Medicare Beneficiaries Getting Flu Vaccine&lt;/text&gt;\n",
       "&lt;/svg&gt;\n",
       "</body></html>\"></iframe>\n"
      ],
      "text/plain": [
       "This front-end cannot display the desired image type."
      ]
     },
     "metadata": {
      "image/svg+xml": {
       "height": 600,
       "width": 600
      },
      "text/html": {
       "height": 600,
       "width": 600
      }
     },
     "output_type": "display_data"
    },
    {
     "name": "stdout",
     "output_type": "stream",
     "text": [
      "\n"
     ]
    }
   ],
   "source": [
    "// Basic descriptive on background influenza vaccine\n",
    "frame change default\n",
    "summ fluvaccine, d\n",
    "hist fluvaccine, bin(10)"
   ]
  },
  {
   "cell_type": "code",
   "execution_count": 26,
   "metadata": {},
   "outputs": [
    {
     "name": "stdout",
     "output_type": "stream",
     "text": [
      "\n",
      "\n",
      "----------------------------------------------------------\n",
      "Distancin |\n",
      "g: Lowest |\n",
      "(1) to    |\n",
      "Highest   |\n",
      "(5)       |    N(fluvac~e)  mean(fluvac~e)   sem(fluvac~e)\n",
      "----------+-----------------------------------------------\n",
      "        1 |            409       40.657703        .4197706\n",
      "        2 |            419       40.933174        .4207001\n",
      "        3 |            436       42.261467        .4123233\n",
      "        4 |            422       42.037914        .4287657\n",
      "        5 |            432       43.717594        .4034016\n",
      "----------------------------------------------------------\n"
     ]
    },
    {
     "data": {
      "application/pdf": "[encoded data removed]",
      "image/svg+xml": [
       "<?xml version=\"1.0\" encoding=\"UTF-8\" standalone=\"no\"?>\n",
       "<!-- This is a Stata 16.0 generated SVG file (http://www.stata.com) -->\n",
       "\n",
       "<svg version=\"1.1\" width=\"600px\" height=\"600px\" viewBox=\"0 0 1584 1584\" xmlns=\"http://www.w3.org/2000/svg\" xmlns:xlink=\"http://www.w3.org/1999/xlink\">\n",
       "\t<desc>Stata Graph - Graph</desc>\n",
       "\t<rect x=\"0\" y=\"0\" width=\"1584\" height=\"1584\" style=\"fill:#C6D3DF;stroke:none\"/>\n",
       "\t<rect x=\"0.00\" y=\"0.05\" width=\"1584.00\" height=\"1583.95\" style=\"fill:#C6D3DF\"/>\n",
       "\t<rect x=\"1.58\" y=\"1.63\" width=\"1580.83\" height=\"1580.78\" style=\"fill:none;stroke:#C6D3DF;stroke-width:3.17\"/>\n",
       "\t<line x1=\"55.44\" y1=\"1065.44\" x2=\"1342.53\" y2=\"1065.44\" style=\"stroke:#FFFFFF;stroke-width:4.75\"/>\n",
       "\t<line x1=\"55.44\" y1=\"760.27\" x2=\"1342.53\" y2=\"760.27\" style=\"stroke:#FFFFFF;stroke-width:4.75\"/>\n",
       "\t<line x1=\"55.44\" y1=\"455.15\" x2=\"1342.53\" y2=\"455.15\" style=\"stroke:#FFFFFF;stroke-width:4.75\"/>\n",
       "\t<line x1=\"55.44\" y1=\"149.98\" x2=\"1342.53\" y2=\"149.98\" style=\"stroke:#FFFFFF;stroke-width:4.75\"/>\n",
       "\t<path d=\" M64.90 1169.88 L381.95 1085.83 L698.96 680.53 L1015.97 748.74 L1333.03 236.21\" stroke-linejoin=\"round\" style=\"fill:none;stroke:#3E647D;stroke-width:19.01\"/>\n",
       "\t<text x=\"1364.51\" y=\"1391.74\" style=\"font-family:'Helvetica';font-size:60.49px;fill:#000000\">40</text>\n",
       "\t<text x=\"1364.51\" y=\"1086.62\" style=\"font-family:'Helvetica';font-size:60.49px;fill:#000000\">41</text>\n",
       "\t<text x=\"1364.51\" y=\"781.45\" style=\"font-family:'Helvetica';font-size:60.49px;fill:#000000\">42</text>\n",
       "\t<text x=\"1364.51\" y=\"476.34\" style=\"font-family:'Helvetica';font-size:60.49px;fill:#000000\">43</text>\n",
       "\t<text x=\"1364.51\" y=\"171.17\" style=\"font-family:'Helvetica';font-size:60.49px;fill:#000000\">44</text>\n",
       "\t<text x=\"1499.40\" y=\"760.27\" style=\"font-family:'Helvetica';font-size:60.49px;fill:#000000\" transform=\"rotate(-90 1499.40,760.27)\" text-anchor=\"middle\">Medicare Beneficiary Flu Vaccination %</text>\n",
       "\t<line x1=\"55.44\" y1=\"1380.06\" x2=\"1342.53\" y2=\"1380.06\" style=\"stroke:#000000;stroke-width:3.17\"/>\n",
       "\t<line x1=\"64.95\" y1=\"1358.08\" x2=\"64.95\" y2=\"1380.06\" style=\"stroke:#000000;stroke-width:3.17\"/>\n",
       "\t<text x=\"64.95\" y=\"1433.37\" style=\"font-family:'Helvetica';font-size:60.49px;fill:#000000\" text-anchor=\"middle\">1</text>\n",
       "\t<line x1=\"381.95\" y1=\"1358.08\" x2=\"381.95\" y2=\"1380.06\" style=\"stroke:#000000;stroke-width:3.17\"/>\n",
       "\t<text x=\"381.95\" y=\"1433.37\" style=\"font-family:'Helvetica';font-size:60.49px;fill:#000000\" text-anchor=\"middle\">2</text>\n",
       "\t<line x1=\"699.01\" y1=\"1358.08\" x2=\"699.01\" y2=\"1380.06\" style=\"stroke:#000000;stroke-width:3.17\"/>\n",
       "\t<text x=\"699.01\" y=\"1433.37\" style=\"font-family:'Helvetica';font-size:60.49px;fill:#000000\" text-anchor=\"middle\">3</text>\n",
       "\t<line x1=\"1016.02\" y1=\"1358.08\" x2=\"1016.02\" y2=\"1380.06\" style=\"stroke:#000000;stroke-width:3.17\"/>\n",
       "\t<text x=\"1016.02\" y=\"1433.37\" style=\"font-family:'Helvetica';font-size:60.49px;fill:#000000\" text-anchor=\"middle\">4</text>\n",
       "\t<line x1=\"1333.03\" y1=\"1358.08\" x2=\"1333.03\" y2=\"1380.06\" style=\"stroke:#000000;stroke-width:3.17\"/>\n",
       "\t<text x=\"1333.03\" y=\"1433.37\" style=\"font-family:'Helvetica';font-size:60.49px;fill:#000000\" text-anchor=\"middle\">5</text>\n",
       "\t<text x=\"699.01\" y=\"1499.40\" style=\"font-family:'Helvetica';font-size:60.49px;fill:#000000\" text-anchor=\"middle\">Distancing: Lowest (1) to Highest (5)</text>\n",
       "\t<rect x=\"629.12\" y=\"55.49\" width=\"713.42\" height=\"84.99\" style=\"fill:#7B92A8\"/>\n",
       "\t<rect x=\"630.70\" y=\"57.07\" width=\"710.25\" height=\"81.82\" style=\"fill:none;stroke:#7B92A8;stroke-width:3.17\"/>\n",
       "\t<text x=\"1333.03\" y=\"121.12\" style=\"font-family:'Helvetica';font-size:65.99px;fill:#FFFFff\" text-anchor=\"end\">Elderly Flu Vaccination</text>\n",
       "</svg>\n"
      ],
      "text/html": [
       "                <iframe frameborder=\"0\" scrolling=\"no\" height=\"600\" width=\"600\"                srcdoc=\"<html><body>&lt;?xml version=&quot;1.0&quot; encoding=&quot;UTF-8&quot; standalone=&quot;no&quot;?&gt;\n",
       "&lt;!-- This is a Stata 16.0 generated SVG file (http://www.stata.com) --&gt;\n",
       "\n",
       "&lt;svg version=&quot;1.1&quot; width=&quot;600px&quot; height=&quot;600px&quot; viewBox=&quot;0 0 1584 1584&quot; xmlns=&quot;http://www.w3.org/2000/svg&quot; xmlns:xlink=&quot;http://www.w3.org/1999/xlink&quot;&gt;\n",
       "\t&lt;desc&gt;Stata Graph - Graph&lt;/desc&gt;\n",
       "\t&lt;rect x=&quot;0&quot; y=&quot;0&quot; width=&quot;1584&quot; height=&quot;1584&quot; style=&quot;fill:#C6D3DF;stroke:none&quot;/&gt;\n",
       "\t&lt;rect x=&quot;0.00&quot; y=&quot;0.05&quot; width=&quot;1584.00&quot; height=&quot;1583.95&quot; style=&quot;fill:#C6D3DF&quot;/&gt;\n",
       "\t&lt;rect x=&quot;1.58&quot; y=&quot;1.63&quot; width=&quot;1580.83&quot; height=&quot;1580.78&quot; style=&quot;fill:none;stroke:#C6D3DF;stroke-width:3.17&quot;/&gt;\n",
       "\t&lt;line x1=&quot;55.44&quot; y1=&quot;1065.44&quot; x2=&quot;1342.53&quot; y2=&quot;1065.44&quot; style=&quot;stroke:#FFFFFF;stroke-width:4.75&quot;/&gt;\n",
       "\t&lt;line x1=&quot;55.44&quot; y1=&quot;760.27&quot; x2=&quot;1342.53&quot; y2=&quot;760.27&quot; style=&quot;stroke:#FFFFFF;stroke-width:4.75&quot;/&gt;\n",
       "\t&lt;line x1=&quot;55.44&quot; y1=&quot;455.15&quot; x2=&quot;1342.53&quot; y2=&quot;455.15&quot; style=&quot;stroke:#FFFFFF;stroke-width:4.75&quot;/&gt;\n",
       "\t&lt;line x1=&quot;55.44&quot; y1=&quot;149.98&quot; x2=&quot;1342.53&quot; y2=&quot;149.98&quot; style=&quot;stroke:#FFFFFF;stroke-width:4.75&quot;/&gt;\n",
       "\t&lt;path d=&quot; M64.90 1169.88 L381.95 1085.83 L698.96 680.53 L1015.97 748.74 L1333.03 236.21&quot; stroke-linejoin=&quot;round&quot; style=&quot;fill:none;stroke:#3E647D;stroke-width:19.01&quot;/&gt;\n",
       "\t&lt;text x=&quot;1364.51&quot; y=&quot;1391.74&quot; style=&quot;font-family:&#x27;Helvetica&#x27;;font-size:60.49px;fill:#000000&quot;&gt;40&lt;/text&gt;\n",
       "\t&lt;text x=&quot;1364.51&quot; y=&quot;1086.62&quot; style=&quot;font-family:&#x27;Helvetica&#x27;;font-size:60.49px;fill:#000000&quot;&gt;41&lt;/text&gt;\n",
       "\t&lt;text x=&quot;1364.51&quot; y=&quot;781.45&quot; style=&quot;font-family:&#x27;Helvetica&#x27;;font-size:60.49px;fill:#000000&quot;&gt;42&lt;/text&gt;\n",
       "\t&lt;text x=&quot;1364.51&quot; y=&quot;476.34&quot; style=&quot;font-family:&#x27;Helvetica&#x27;;font-size:60.49px;fill:#000000&quot;&gt;43&lt;/text&gt;\n",
       "\t&lt;text x=&quot;1364.51&quot; y=&quot;171.17&quot; style=&quot;font-family:&#x27;Helvetica&#x27;;font-size:60.49px;fill:#000000&quot;&gt;44&lt;/text&gt;\n",
       "\t&lt;text x=&quot;1499.40&quot; y=&quot;760.27&quot; style=&quot;font-family:&#x27;Helvetica&#x27;;font-size:60.49px;fill:#000000&quot; transform=&quot;rotate(-90 1499.40,760.27)&quot; text-anchor=&quot;middle&quot;&gt;Medicare Beneficiary Flu Vaccination %&lt;/text&gt;\n",
       "\t&lt;line x1=&quot;55.44&quot; y1=&quot;1380.06&quot; x2=&quot;1342.53&quot; y2=&quot;1380.06&quot; style=&quot;stroke:#000000;stroke-width:3.17&quot;/&gt;\n",
       "\t&lt;line x1=&quot;64.95&quot; y1=&quot;1358.08&quot; x2=&quot;64.95&quot; y2=&quot;1380.06&quot; style=&quot;stroke:#000000;stroke-width:3.17&quot;/&gt;\n",
       "\t&lt;text x=&quot;64.95&quot; y=&quot;1433.37&quot; style=&quot;font-family:&#x27;Helvetica&#x27;;font-size:60.49px;fill:#000000&quot; text-anchor=&quot;middle&quot;&gt;1&lt;/text&gt;\n",
       "\t&lt;line x1=&quot;381.95&quot; y1=&quot;1358.08&quot; x2=&quot;381.95&quot; y2=&quot;1380.06&quot; style=&quot;stroke:#000000;stroke-width:3.17&quot;/&gt;\n",
       "\t&lt;text x=&quot;381.95&quot; y=&quot;1433.37&quot; style=&quot;font-family:&#x27;Helvetica&#x27;;font-size:60.49px;fill:#000000&quot; text-anchor=&quot;middle&quot;&gt;2&lt;/text&gt;\n",
       "\t&lt;line x1=&quot;699.01&quot; y1=&quot;1358.08&quot; x2=&quot;699.01&quot; y2=&quot;1380.06&quot; style=&quot;stroke:#000000;stroke-width:3.17&quot;/&gt;\n",
       "\t&lt;text x=&quot;699.01&quot; y=&quot;1433.37&quot; style=&quot;font-family:&#x27;Helvetica&#x27;;font-size:60.49px;fill:#000000&quot; text-anchor=&quot;middle&quot;&gt;3&lt;/text&gt;\n",
       "\t&lt;line x1=&quot;1016.02&quot; y1=&quot;1358.08&quot; x2=&quot;1016.02&quot; y2=&quot;1380.06&quot; style=&quot;stroke:#000000;stroke-width:3.17&quot;/&gt;\n",
       "\t&lt;text x=&quot;1016.02&quot; y=&quot;1433.37&quot; style=&quot;font-family:&#x27;Helvetica&#x27;;font-size:60.49px;fill:#000000&quot; text-anchor=&quot;middle&quot;&gt;4&lt;/text&gt;\n",
       "\t&lt;line x1=&quot;1333.03&quot; y1=&quot;1358.08&quot; x2=&quot;1333.03&quot; y2=&quot;1380.06&quot; style=&quot;stroke:#000000;stroke-width:3.17&quot;/&gt;\n",
       "\t&lt;text x=&quot;1333.03&quot; y=&quot;1433.37&quot; style=&quot;font-family:&#x27;Helvetica&#x27;;font-size:60.49px;fill:#000000&quot; text-anchor=&quot;middle&quot;&gt;5&lt;/text&gt;\n",
       "\t&lt;text x=&quot;699.01&quot; y=&quot;1499.40&quot; style=&quot;font-family:&#x27;Helvetica&#x27;;font-size:60.49px;fill:#000000&quot; text-anchor=&quot;middle&quot;&gt;Distancing: Lowest (1) to Highest (5)&lt;/text&gt;\n",
       "\t&lt;rect x=&quot;629.12&quot; y=&quot;55.49&quot; width=&quot;713.42&quot; height=&quot;84.99&quot; style=&quot;fill:#7B92A8&quot;/&gt;\n",
       "\t&lt;rect x=&quot;630.70&quot; y=&quot;57.07&quot; width=&quot;710.25&quot; height=&quot;81.82&quot; style=&quot;fill:none;stroke:#7B92A8;stroke-width:3.17&quot;/&gt;\n",
       "\t&lt;text x=&quot;1333.03&quot; y=&quot;121.12&quot; style=&quot;font-family:&#x27;Helvetica&#x27;;font-size:65.99px;fill:#FFFFff&quot; text-anchor=&quot;end&quot;&gt;Elderly Flu Vaccination&lt;/text&gt;\n",
       "&lt;/svg&gt;\n",
       "</body></html>\"></iframe>\n"
      ],
      "text/plain": [
       "This front-end cannot display the desired image type."
      ]
     },
     "metadata": {
      "image/svg+xml": {
       "height": 600,
       "width": 600
      },
      "text/html": {
       "height": 600,
       "width": 600
      }
     },
     "output_type": "display_data"
    },
    {
     "name": "stdout",
     "output_type": "stream",
     "text": [
      "\n",
      "\n",
      "\n",
      "\n",
      "\n",
      "\n"
     ]
    }
   ],
   "source": [
    "// Comparing background flu vaccination with current social distancing\n",
    "table iso5, c(count fluvaccine mean fluvaccine sem fluvaccine)\n",
    "\n",
    "frame put fluvaccine iso5, into(flu)\n",
    "    frame change flu\n",
    "        collapse (mean) fluvaccine, by(iso5)\n",
    "            la var fluvaccine \"Medicare Beneficiary Flu Vaccination %\"\n",
    "                line fluvaccine iso5, note(\"Elderly Flu Vaccination\")"
   ]
  },
  {
   "cell_type": "markdown",
   "metadata": {},
   "source": [
    "--- \n",
    "# Income\n",
    "\n",
    "There is a trend emerging. So, since the places with more social distancing seem to have more health resources, perhaps there are trends in financial means? Income data are from the American Community Survey 5-year estimates via [RWJF](https://www.countyhealthrankings.org/explore-health-rankings/measures-data-sources/2020-measures)."
   ]
  },
  {
   "cell_type": "code",
   "execution_count": 27,
   "metadata": {},
   "outputs": [
    {
     "name": "stdout",
     "output_type": "stream",
     "text": [
      "\n",
      "\n",
      "\n",
      "----------------------------------------------------------\n",
      "Distancin |\n",
      "g: Lowest |\n",
      "(1) to    |\n",
      "Highest   |\n",
      "(5)       |    N(income80)  mean(income80)   sem(income80)\n",
      "----------+-----------------------------------------------\n",
      "        1 |            411        87722.53         719.879\n",
      "        2 |            419       89174.212         739.724\n",
      "        3 |            436       95383.966        943.0726\n",
      "        4 |            422       98712.524        1085.498\n",
      "        5 |            433       110924.52        1508.812\n",
      "----------------------------------------------------------\n"
     ]
    },
    {
     "data": {
      "application/pdf": "[encoded data removed]",
      "image/svg+xml": [
       "<?xml version=\"1.0\" encoding=\"UTF-8\" standalone=\"no\"?>\n",
       "<!-- This is a Stata 16.0 generated SVG file (http://www.stata.com) -->\n",
       "\n",
       "<svg version=\"1.1\" width=\"600px\" height=\"600px\" viewBox=\"0 0 1584 1584\" xmlns=\"http://www.w3.org/2000/svg\" xmlns:xlink=\"http://www.w3.org/1999/xlink\">\n",
       "\t<desc>Stata Graph - Graph</desc>\n",
       "\t<rect x=\"0\" y=\"0\" width=\"1584\" height=\"1584\" style=\"fill:#C6D3DF;stroke:none\"/>\n",
       "\t<rect x=\"0.00\" y=\"0.05\" width=\"1584.00\" height=\"1583.95\" style=\"fill:#C6D3DF\"/>\n",
       "\t<rect x=\"1.58\" y=\"1.63\" width=\"1580.83\" height=\"1580.78\" style=\"fill:none;stroke:#C6D3DF;stroke-width:3.17\"/>\n",
       "\t<line x1=\"55.44\" y1=\"1370.56\" x2=\"1205.31\" y2=\"1370.56\" style=\"stroke:#FFFFFF;stroke-width:4.75\"/>\n",
       "\t<line x1=\"55.44\" y1=\"1065.44\" x2=\"1205.31\" y2=\"1065.44\" style=\"stroke:#FFFFFF;stroke-width:4.75\"/>\n",
       "\t<line x1=\"55.44\" y1=\"760.27\" x2=\"1205.31\" y2=\"760.27\" style=\"stroke:#FFFFFF;stroke-width:4.75\"/>\n",
       "\t<line x1=\"55.44\" y1=\"455.15\" x2=\"1205.31\" y2=\"455.15\" style=\"stroke:#FFFFFF;stroke-width:4.75\"/>\n",
       "\t<path d=\" M64.90 1319.13 L347.65 1233.05 L630.35 809.82 L913.06 737.55 L1195.81 347.74\" stroke-linejoin=\"round\" style=\"fill:none;stroke:#3E647D;stroke-width:19.01\"/>\n",
       "\t<text x=\"1227.34\" y=\"1391.74\" style=\"font-family:'Helvetica';font-size:60.49px;fill:#000000\">85000</text>\n",
       "\t<text x=\"1227.34\" y=\"1086.62\" style=\"font-family:'Helvetica';font-size:60.49px;fill:#000000\">90000</text>\n",
       "\t<text x=\"1227.34\" y=\"781.45\" style=\"font-family:'Helvetica';font-size:60.49px;fill:#000000\">95000</text>\n",
       "\t<text x=\"1227.34\" y=\"476.34\" style=\"font-family:'Helvetica';font-size:60.49px;fill:#000000\">100000</text>\n",
       "\t<text x=\"1227.34\" y=\"171.17\" style=\"font-family:'Helvetica';font-size:60.49px;fill:#000000\">105000</text>\n",
       "\t<text x=\"1499.40\" y=\"760.27\" style=\"font-family:'Helvetica';font-size:60.49px;fill:#000000\" transform=\"rotate(-90 1499.40,760.27)\" text-anchor=\"middle\">80th Percentile Annual Income ($)</text>\n",
       "\t<line x1=\"55.44\" y1=\"1380.06\" x2=\"1205.31\" y2=\"1380.06\" style=\"stroke:#000000;stroke-width:3.17\"/>\n",
       "\t<line x1=\"64.95\" y1=\"1358.08\" x2=\"64.95\" y2=\"1380.06\" style=\"stroke:#000000;stroke-width:3.17\"/>\n",
       "\t<text x=\"64.95\" y=\"1433.37\" style=\"font-family:'Helvetica';font-size:60.49px;fill:#000000\" text-anchor=\"middle\">1</text>\n",
       "\t<line x1=\"347.65\" y1=\"1358.08\" x2=\"347.65\" y2=\"1380.06\" style=\"stroke:#000000;stroke-width:3.17\"/>\n",
       "\t<text x=\"347.65\" y=\"1433.37\" style=\"font-family:'Helvetica';font-size:60.49px;fill:#000000\" text-anchor=\"middle\">2</text>\n",
       "\t<line x1=\"630.40\" y1=\"1358.08\" x2=\"630.40\" y2=\"1380.06\" style=\"stroke:#000000;stroke-width:3.17\"/>\n",
       "\t<text x=\"630.40\" y=\"1433.37\" style=\"font-family:'Helvetica';font-size:60.49px;fill:#000000\" text-anchor=\"middle\">3</text>\n",
       "\t<line x1=\"913.11\" y1=\"1358.08\" x2=\"913.11\" y2=\"1380.06\" style=\"stroke:#000000;stroke-width:3.17\"/>\n",
       "\t<text x=\"913.11\" y=\"1433.37\" style=\"font-family:'Helvetica';font-size:60.49px;fill:#000000\" text-anchor=\"middle\">4</text>\n",
       "\t<line x1=\"1195.81\" y1=\"1358.08\" x2=\"1195.81\" y2=\"1380.06\" style=\"stroke:#000000;stroke-width:3.17\"/>\n",
       "\t<text x=\"1195.81\" y=\"1433.37\" style=\"font-family:'Helvetica';font-size:60.49px;fill:#000000\" text-anchor=\"middle\">5</text>\n",
       "\t<text x=\"630.40\" y=\"1499.40\" style=\"font-family:'Helvetica';font-size:60.49px;fill:#000000\" text-anchor=\"middle\">Distancing: Lowest (1) to Highest (5)</text>\n",
       "\t<rect x=\"627.04\" y=\"55.49\" width=\"578.28\" height=\"84.99\" style=\"fill:#7B92A8\"/>\n",
       "\t<rect x=\"628.62\" y=\"57.07\" width=\"575.11\" height=\"81.82\" style=\"fill:none;stroke:#7B92A8;stroke-width:3.17\"/>\n",
       "\t<text x=\"1195.81\" y=\"121.12\" style=\"font-family:'Helvetica';font-size:65.99px;fill:#FFFFff\" text-anchor=\"end\">Household Income</text>\n",
       "</svg>\n"
      ],
      "text/html": [
       "                <iframe frameborder=\"0\" scrolling=\"no\" height=\"600\" width=\"600\"                srcdoc=\"<html><body>&lt;?xml version=&quot;1.0&quot; encoding=&quot;UTF-8&quot; standalone=&quot;no&quot;?&gt;\n",
       "&lt;!-- This is a Stata 16.0 generated SVG file (http://www.stata.com) --&gt;\n",
       "\n",
       "&lt;svg version=&quot;1.1&quot; width=&quot;600px&quot; height=&quot;600px&quot; viewBox=&quot;0 0 1584 1584&quot; xmlns=&quot;http://www.w3.org/2000/svg&quot; xmlns:xlink=&quot;http://www.w3.org/1999/xlink&quot;&gt;\n",
       "\t&lt;desc&gt;Stata Graph - Graph&lt;/desc&gt;\n",
       "\t&lt;rect x=&quot;0&quot; y=&quot;0&quot; width=&quot;1584&quot; height=&quot;1584&quot; style=&quot;fill:#C6D3DF;stroke:none&quot;/&gt;\n",
       "\t&lt;rect x=&quot;0.00&quot; y=&quot;0.05&quot; width=&quot;1584.00&quot; height=&quot;1583.95&quot; style=&quot;fill:#C6D3DF&quot;/&gt;\n",
       "\t&lt;rect x=&quot;1.58&quot; y=&quot;1.63&quot; width=&quot;1580.83&quot; height=&quot;1580.78&quot; style=&quot;fill:none;stroke:#C6D3DF;stroke-width:3.17&quot;/&gt;\n",
       "\t&lt;line x1=&quot;55.44&quot; y1=&quot;1370.56&quot; x2=&quot;1205.31&quot; y2=&quot;1370.56&quot; style=&quot;stroke:#FFFFFF;stroke-width:4.75&quot;/&gt;\n",
       "\t&lt;line x1=&quot;55.44&quot; y1=&quot;1065.44&quot; x2=&quot;1205.31&quot; y2=&quot;1065.44&quot; style=&quot;stroke:#FFFFFF;stroke-width:4.75&quot;/&gt;\n",
       "\t&lt;line x1=&quot;55.44&quot; y1=&quot;760.27&quot; x2=&quot;1205.31&quot; y2=&quot;760.27&quot; style=&quot;stroke:#FFFFFF;stroke-width:4.75&quot;/&gt;\n",
       "\t&lt;line x1=&quot;55.44&quot; y1=&quot;455.15&quot; x2=&quot;1205.31&quot; y2=&quot;455.15&quot; style=&quot;stroke:#FFFFFF;stroke-width:4.75&quot;/&gt;\n",
       "\t&lt;path d=&quot; M64.90 1319.13 L347.65 1233.05 L630.35 809.82 L913.06 737.55 L1195.81 347.74&quot; stroke-linejoin=&quot;round&quot; style=&quot;fill:none;stroke:#3E647D;stroke-width:19.01&quot;/&gt;\n",
       "\t&lt;text x=&quot;1227.34&quot; y=&quot;1391.74&quot; style=&quot;font-family:&#x27;Helvetica&#x27;;font-size:60.49px;fill:#000000&quot;&gt;85000&lt;/text&gt;\n",
       "\t&lt;text x=&quot;1227.34&quot; y=&quot;1086.62&quot; style=&quot;font-family:&#x27;Helvetica&#x27;;font-size:60.49px;fill:#000000&quot;&gt;90000&lt;/text&gt;\n",
       "\t&lt;text x=&quot;1227.34&quot; y=&quot;781.45&quot; style=&quot;font-family:&#x27;Helvetica&#x27;;font-size:60.49px;fill:#000000&quot;&gt;95000&lt;/text&gt;\n",
       "\t&lt;text x=&quot;1227.34&quot; y=&quot;476.34&quot; style=&quot;font-family:&#x27;Helvetica&#x27;;font-size:60.49px;fill:#000000&quot;&gt;100000&lt;/text&gt;\n",
       "\t&lt;text x=&quot;1227.34&quot; y=&quot;171.17&quot; style=&quot;font-family:&#x27;Helvetica&#x27;;font-size:60.49px;fill:#000000&quot;&gt;105000&lt;/text&gt;\n",
       "\t&lt;text x=&quot;1499.40&quot; y=&quot;760.27&quot; style=&quot;font-family:&#x27;Helvetica&#x27;;font-size:60.49px;fill:#000000&quot; transform=&quot;rotate(-90 1499.40,760.27)&quot; text-anchor=&quot;middle&quot;&gt;80th Percentile Annual Income ($)&lt;/text&gt;\n",
       "\t&lt;line x1=&quot;55.44&quot; y1=&quot;1380.06&quot; x2=&quot;1205.31&quot; y2=&quot;1380.06&quot; style=&quot;stroke:#000000;stroke-width:3.17&quot;/&gt;\n",
       "\t&lt;line x1=&quot;64.95&quot; y1=&quot;1358.08&quot; x2=&quot;64.95&quot; y2=&quot;1380.06&quot; style=&quot;stroke:#000000;stroke-width:3.17&quot;/&gt;\n",
       "\t&lt;text x=&quot;64.95&quot; y=&quot;1433.37&quot; style=&quot;font-family:&#x27;Helvetica&#x27;;font-size:60.49px;fill:#000000&quot; text-anchor=&quot;middle&quot;&gt;1&lt;/text&gt;\n",
       "\t&lt;line x1=&quot;347.65&quot; y1=&quot;1358.08&quot; x2=&quot;347.65&quot; y2=&quot;1380.06&quot; style=&quot;stroke:#000000;stroke-width:3.17&quot;/&gt;\n",
       "\t&lt;text x=&quot;347.65&quot; y=&quot;1433.37&quot; style=&quot;font-family:&#x27;Helvetica&#x27;;font-size:60.49px;fill:#000000&quot; text-anchor=&quot;middle&quot;&gt;2&lt;/text&gt;\n",
       "\t&lt;line x1=&quot;630.40&quot; y1=&quot;1358.08&quot; x2=&quot;630.40&quot; y2=&quot;1380.06&quot; style=&quot;stroke:#000000;stroke-width:3.17&quot;/&gt;\n",
       "\t&lt;text x=&quot;630.40&quot; y=&quot;1433.37&quot; style=&quot;font-family:&#x27;Helvetica&#x27;;font-size:60.49px;fill:#000000&quot; text-anchor=&quot;middle&quot;&gt;3&lt;/text&gt;\n",
       "\t&lt;line x1=&quot;913.11&quot; y1=&quot;1358.08&quot; x2=&quot;913.11&quot; y2=&quot;1380.06&quot; style=&quot;stroke:#000000;stroke-width:3.17&quot;/&gt;\n",
       "\t&lt;text x=&quot;913.11&quot; y=&quot;1433.37&quot; style=&quot;font-family:&#x27;Helvetica&#x27;;font-size:60.49px;fill:#000000&quot; text-anchor=&quot;middle&quot;&gt;4&lt;/text&gt;\n",
       "\t&lt;line x1=&quot;1195.81&quot; y1=&quot;1358.08&quot; x2=&quot;1195.81&quot; y2=&quot;1380.06&quot; style=&quot;stroke:#000000;stroke-width:3.17&quot;/&gt;\n",
       "\t&lt;text x=&quot;1195.81&quot; y=&quot;1433.37&quot; style=&quot;font-family:&#x27;Helvetica&#x27;;font-size:60.49px;fill:#000000&quot; text-anchor=&quot;middle&quot;&gt;5&lt;/text&gt;\n",
       "\t&lt;text x=&quot;630.40&quot; y=&quot;1499.40&quot; style=&quot;font-family:&#x27;Helvetica&#x27;;font-size:60.49px;fill:#000000&quot; text-anchor=&quot;middle&quot;&gt;Distancing: Lowest (1) to Highest (5)&lt;/text&gt;\n",
       "\t&lt;rect x=&quot;627.04&quot; y=&quot;55.49&quot; width=&quot;578.28&quot; height=&quot;84.99&quot; style=&quot;fill:#7B92A8&quot;/&gt;\n",
       "\t&lt;rect x=&quot;628.62&quot; y=&quot;57.07&quot; width=&quot;575.11&quot; height=&quot;81.82&quot; style=&quot;fill:none;stroke:#7B92A8;stroke-width:3.17&quot;/&gt;\n",
       "\t&lt;text x=&quot;1195.81&quot; y=&quot;121.12&quot; style=&quot;font-family:&#x27;Helvetica&#x27;;font-size:65.99px;fill:#FFFFff&quot; text-anchor=&quot;end&quot;&gt;Household Income&lt;/text&gt;\n",
       "&lt;/svg&gt;\n",
       "</body></html>\"></iframe>\n"
      ],
      "text/plain": [
       "This front-end cannot display the desired image type."
      ]
     },
     "metadata": {
      "image/svg+xml": {
       "height": 600,
       "width": 600
      },
      "text/html": {
       "height": 600,
       "width": 600
      }
     },
     "output_type": "display_data"
    }
   ],
   "source": [
    "// Comparing income inequality to social distancing\n",
    "frame change default\n",
    "foreach var of varlist income80 {\n",
    "    table iso5, c(count `var' mean `var' sem `var')\n",
    "        frame put `var' iso5, into(`var')\n",
    "            frame change `var'\n",
    "                collapse (median) `var', by(iso5)\n",
    "                    la var `var' \"80th Percentile Annual Income ($)\"\n",
    "                        line `var' iso5, note(\"Household Income\")          \n",
    "}"
   ]
  },
  {
   "cell_type": "markdown",
   "metadata": {},
   "source": [
    "---\n",
    "# Income Inequality\n",
    "\n",
    "So places with more social distancing tend to be wealthier. What about income inequality? Is this merely a matter of have and have-nots? Or does the overall structure of society tell us something. There are many compelling ways to measure income inequality. We are using the ratio of the 80th percentile of income to the 20th percentile. Loosely interpreted, the closer to 4.0, the less inequality there is. Income data are from the American Community Survey 5-year estimates via [RWJF](https://www.countyhealthrankings.org/explore-health-rankings/measures-data-sources/2020-measures)."
   ]
  },
  {
   "cell_type": "code",
   "execution_count": 28,
   "metadata": {},
   "outputs": [
    {
     "name": "stdout",
     "output_type": "stream",
     "text": [
      "\n",
      "\n",
      "\n",
      "----------------------------------------------------------\n",
      "Distancin |\n",
      "g: Lowest |\n",
      "(1) to    |\n",
      "Highest   |\n",
      "(5)       |    N(income~o)  mean(income~o)   sem(income~o)\n",
      "----------+-----------------------------------------------\n",
      "        1 |            411       4.7255478        .0398339\n",
      "        2 |            419       4.6624253        .0342156\n",
      "        3 |            436       4.4865377        .0330155\n",
      "        4 |            422       4.4953328        .0341896\n",
      "        5 |            433       4.4615139        .0346775\n",
      "----------------------------------------------------------\n"
     ]
    },
    {
     "data": {
      "application/pdf": "[encoded data removed]",
      "image/svg+xml": [
       "<?xml version=\"1.0\" encoding=\"UTF-8\" standalone=\"no\"?>\n",
       "<!-- This is a Stata 16.0 generated SVG file (http://www.stata.com) -->\n",
       "\n",
       "<svg version=\"1.1\" width=\"600px\" height=\"600px\" viewBox=\"0 0 1584 1584\" xmlns=\"http://www.w3.org/2000/svg\" xmlns:xlink=\"http://www.w3.org/1999/xlink\">\n",
       "\t<desc>Stata Graph - Graph</desc>\n",
       "\t<rect x=\"0\" y=\"0\" width=\"1584\" height=\"1584\" style=\"fill:#C6D3DF;stroke:none\"/>\n",
       "\t<rect x=\"0.00\" y=\"0.05\" width=\"1584.00\" height=\"1583.95\" style=\"fill:#C6D3DF\"/>\n",
       "\t<rect x=\"1.58\" y=\"1.63\" width=\"1580.83\" height=\"1580.78\" style=\"fill:none;stroke:#C6D3DF;stroke-width:3.17\"/>\n",
       "\t<line x1=\"55.44\" y1=\"995.64\" x2=\"1324.12\" y2=\"995.64\" style=\"stroke:#FFFFFF;stroke-width:4.75\"/>\n",
       "\t<line x1=\"55.44\" y1=\"620.73\" x2=\"1324.12\" y2=\"620.73\" style=\"stroke:#FFFFFF;stroke-width:4.75\"/>\n",
       "\t<line x1=\"55.44\" y1=\"245.77\" x2=\"1324.12\" y2=\"245.77\" style=\"stroke:#FFFFFF;stroke-width:4.75\"/>\n",
       "\t<path d=\" M64.90 150.03 L377.35 386.69 L689.75 1046.13 L1002.16 1013.17 L1314.56 1139.94\" stroke-linejoin=\"round\" style=\"fill:none;stroke:#3E647D;stroke-width:19.01\"/>\n",
       "\t<text x=\"1346.10\" y=\"1391.74\" style=\"font-family:'Helvetica';font-size:60.49px;fill:#000000\">4.4</text>\n",
       "\t<text x=\"1346.10\" y=\"1016.83\" style=\"font-family:'Helvetica';font-size:60.49px;fill:#000000\">4.5</text>\n",
       "\t<text x=\"1346.10\" y=\"641.91\" style=\"font-family:'Helvetica';font-size:60.49px;fill:#000000\">4.6</text>\n",
       "\t<text x=\"1346.10\" y=\"266.95\" style=\"font-family:'Helvetica';font-size:60.49px;fill:#000000\">4.7</text>\n",
       "\t<text x=\"1499.40\" y=\"760.27\" style=\"font-family:'Helvetica';font-size:60.49px;fill:#000000\" transform=\"rotate(-90 1499.40,760.27)\" text-anchor=\"middle\">Income inequality (80:20)</text>\n",
       "\t<line x1=\"55.44\" y1=\"1380.06\" x2=\"1324.12\" y2=\"1380.06\" style=\"stroke:#000000;stroke-width:3.17\"/>\n",
       "\t<line x1=\"64.95\" y1=\"1358.08\" x2=\"64.95\" y2=\"1380.06\" style=\"stroke:#000000;stroke-width:3.17\"/>\n",
       "\t<text x=\"64.95\" y=\"1433.37\" style=\"font-family:'Helvetica';font-size:60.49px;fill:#000000\" text-anchor=\"middle\">1</text>\n",
       "\t<line x1=\"377.35\" y1=\"1358.08\" x2=\"377.35\" y2=\"1380.06\" style=\"stroke:#000000;stroke-width:3.17\"/>\n",
       "\t<text x=\"377.35\" y=\"1433.37\" style=\"font-family:'Helvetica';font-size:60.49px;fill:#000000\" text-anchor=\"middle\">2</text>\n",
       "\t<line x1=\"689.75\" y1=\"1358.08\" x2=\"689.75\" y2=\"1380.06\" style=\"stroke:#000000;stroke-width:3.17\"/>\n",
       "\t<text x=\"689.75\" y=\"1433.37\" style=\"font-family:'Helvetica';font-size:60.49px;fill:#000000\" text-anchor=\"middle\">3</text>\n",
       "\t<line x1=\"1002.21\" y1=\"1358.08\" x2=\"1002.21\" y2=\"1380.06\" style=\"stroke:#000000;stroke-width:3.17\"/>\n",
       "\t<text x=\"1002.21\" y=\"1433.37\" style=\"font-family:'Helvetica';font-size:60.49px;fill:#000000\" text-anchor=\"middle\">4</text>\n",
       "\t<line x1=\"1314.61\" y1=\"1358.08\" x2=\"1314.61\" y2=\"1380.06\" style=\"stroke:#000000;stroke-width:3.17\"/>\n",
       "\t<text x=\"1314.61\" y=\"1433.37\" style=\"font-family:'Helvetica';font-size:60.49px;fill:#000000\" text-anchor=\"middle\">5</text>\n",
       "\t<text x=\"689.75\" y=\"1499.40\" style=\"font-family:'Helvetica';font-size:60.49px;fill:#000000\" text-anchor=\"middle\">Distancing: Lowest (1) to Highest (5)</text>\n",
       "\t<rect x=\"781.18\" y=\"55.49\" width=\"542.93\" height=\"84.99\" style=\"fill:#7B92A8\"/>\n",
       "\t<rect x=\"782.77\" y=\"57.07\" width=\"539.76\" height=\"81.82\" style=\"fill:none;stroke:#7B92A8;stroke-width:3.17\"/>\n",
       "\t<text x=\"1314.61\" y=\"121.12\" style=\"font-family:'Helvetica';font-size:65.99px;fill:#FFFFff\" text-anchor=\"end\">Income Inequality</text>\n",
       "</svg>\n"
      ],
      "text/html": [
       "                <iframe frameborder=\"0\" scrolling=\"no\" height=\"600\" width=\"600\"                srcdoc=\"<html><body>&lt;?xml version=&quot;1.0&quot; encoding=&quot;UTF-8&quot; standalone=&quot;no&quot;?&gt;\n",
       "&lt;!-- This is a Stata 16.0 generated SVG file (http://www.stata.com) --&gt;\n",
       "\n",
       "&lt;svg version=&quot;1.1&quot; width=&quot;600px&quot; height=&quot;600px&quot; viewBox=&quot;0 0 1584 1584&quot; xmlns=&quot;http://www.w3.org/2000/svg&quot; xmlns:xlink=&quot;http://www.w3.org/1999/xlink&quot;&gt;\n",
       "\t&lt;desc&gt;Stata Graph - Graph&lt;/desc&gt;\n",
       "\t&lt;rect x=&quot;0&quot; y=&quot;0&quot; width=&quot;1584&quot; height=&quot;1584&quot; style=&quot;fill:#C6D3DF;stroke:none&quot;/&gt;\n",
       "\t&lt;rect x=&quot;0.00&quot; y=&quot;0.05&quot; width=&quot;1584.00&quot; height=&quot;1583.95&quot; style=&quot;fill:#C6D3DF&quot;/&gt;\n",
       "\t&lt;rect x=&quot;1.58&quot; y=&quot;1.63&quot; width=&quot;1580.83&quot; height=&quot;1580.78&quot; style=&quot;fill:none;stroke:#C6D3DF;stroke-width:3.17&quot;/&gt;\n",
       "\t&lt;line x1=&quot;55.44&quot; y1=&quot;995.64&quot; x2=&quot;1324.12&quot; y2=&quot;995.64&quot; style=&quot;stroke:#FFFFFF;stroke-width:4.75&quot;/&gt;\n",
       "\t&lt;line x1=&quot;55.44&quot; y1=&quot;620.73&quot; x2=&quot;1324.12&quot; y2=&quot;620.73&quot; style=&quot;stroke:#FFFFFF;stroke-width:4.75&quot;/&gt;\n",
       "\t&lt;line x1=&quot;55.44&quot; y1=&quot;245.77&quot; x2=&quot;1324.12&quot; y2=&quot;245.77&quot; style=&quot;stroke:#FFFFFF;stroke-width:4.75&quot;/&gt;\n",
       "\t&lt;path d=&quot; M64.90 150.03 L377.35 386.69 L689.75 1046.13 L1002.16 1013.17 L1314.56 1139.94&quot; stroke-linejoin=&quot;round&quot; style=&quot;fill:none;stroke:#3E647D;stroke-width:19.01&quot;/&gt;\n",
       "\t&lt;text x=&quot;1346.10&quot; y=&quot;1391.74&quot; style=&quot;font-family:&#x27;Helvetica&#x27;;font-size:60.49px;fill:#000000&quot;&gt;4.4&lt;/text&gt;\n",
       "\t&lt;text x=&quot;1346.10&quot; y=&quot;1016.83&quot; style=&quot;font-family:&#x27;Helvetica&#x27;;font-size:60.49px;fill:#000000&quot;&gt;4.5&lt;/text&gt;\n",
       "\t&lt;text x=&quot;1346.10&quot; y=&quot;641.91&quot; style=&quot;font-family:&#x27;Helvetica&#x27;;font-size:60.49px;fill:#000000&quot;&gt;4.6&lt;/text&gt;\n",
       "\t&lt;text x=&quot;1346.10&quot; y=&quot;266.95&quot; style=&quot;font-family:&#x27;Helvetica&#x27;;font-size:60.49px;fill:#000000&quot;&gt;4.7&lt;/text&gt;\n",
       "\t&lt;text x=&quot;1499.40&quot; y=&quot;760.27&quot; style=&quot;font-family:&#x27;Helvetica&#x27;;font-size:60.49px;fill:#000000&quot; transform=&quot;rotate(-90 1499.40,760.27)&quot; text-anchor=&quot;middle&quot;&gt;Income inequality (80:20)&lt;/text&gt;\n",
       "\t&lt;line x1=&quot;55.44&quot; y1=&quot;1380.06&quot; x2=&quot;1324.12&quot; y2=&quot;1380.06&quot; style=&quot;stroke:#000000;stroke-width:3.17&quot;/&gt;\n",
       "\t&lt;line x1=&quot;64.95&quot; y1=&quot;1358.08&quot; x2=&quot;64.95&quot; y2=&quot;1380.06&quot; style=&quot;stroke:#000000;stroke-width:3.17&quot;/&gt;\n",
       "\t&lt;text x=&quot;64.95&quot; y=&quot;1433.37&quot; style=&quot;font-family:&#x27;Helvetica&#x27;;font-size:60.49px;fill:#000000&quot; text-anchor=&quot;middle&quot;&gt;1&lt;/text&gt;\n",
       "\t&lt;line x1=&quot;377.35&quot; y1=&quot;1358.08&quot; x2=&quot;377.35&quot; y2=&quot;1380.06&quot; style=&quot;stroke:#000000;stroke-width:3.17&quot;/&gt;\n",
       "\t&lt;text x=&quot;377.35&quot; y=&quot;1433.37&quot; style=&quot;font-family:&#x27;Helvetica&#x27;;font-size:60.49px;fill:#000000&quot; text-anchor=&quot;middle&quot;&gt;2&lt;/text&gt;\n",
       "\t&lt;line x1=&quot;689.75&quot; y1=&quot;1358.08&quot; x2=&quot;689.75&quot; y2=&quot;1380.06&quot; style=&quot;stroke:#000000;stroke-width:3.17&quot;/&gt;\n",
       "\t&lt;text x=&quot;689.75&quot; y=&quot;1433.37&quot; style=&quot;font-family:&#x27;Helvetica&#x27;;font-size:60.49px;fill:#000000&quot; text-anchor=&quot;middle&quot;&gt;3&lt;/text&gt;\n",
       "\t&lt;line x1=&quot;1002.21&quot; y1=&quot;1358.08&quot; x2=&quot;1002.21&quot; y2=&quot;1380.06&quot; style=&quot;stroke:#000000;stroke-width:3.17&quot;/&gt;\n",
       "\t&lt;text x=&quot;1002.21&quot; y=&quot;1433.37&quot; style=&quot;font-family:&#x27;Helvetica&#x27;;font-size:60.49px;fill:#000000&quot; text-anchor=&quot;middle&quot;&gt;4&lt;/text&gt;\n",
       "\t&lt;line x1=&quot;1314.61&quot; y1=&quot;1358.08&quot; x2=&quot;1314.61&quot; y2=&quot;1380.06&quot; style=&quot;stroke:#000000;stroke-width:3.17&quot;/&gt;\n",
       "\t&lt;text x=&quot;1314.61&quot; y=&quot;1433.37&quot; style=&quot;font-family:&#x27;Helvetica&#x27;;font-size:60.49px;fill:#000000&quot; text-anchor=&quot;middle&quot;&gt;5&lt;/text&gt;\n",
       "\t&lt;text x=&quot;689.75&quot; y=&quot;1499.40&quot; style=&quot;font-family:&#x27;Helvetica&#x27;;font-size:60.49px;fill:#000000&quot; text-anchor=&quot;middle&quot;&gt;Distancing: Lowest (1) to Highest (5)&lt;/text&gt;\n",
       "\t&lt;rect x=&quot;781.18&quot; y=&quot;55.49&quot; width=&quot;542.93&quot; height=&quot;84.99&quot; style=&quot;fill:#7B92A8&quot;/&gt;\n",
       "\t&lt;rect x=&quot;782.77&quot; y=&quot;57.07&quot; width=&quot;539.76&quot; height=&quot;81.82&quot; style=&quot;fill:none;stroke:#7B92A8;stroke-width:3.17&quot;/&gt;\n",
       "\t&lt;text x=&quot;1314.61&quot; y=&quot;121.12&quot; style=&quot;font-family:&#x27;Helvetica&#x27;;font-size:65.99px;fill:#FFFFff&quot; text-anchor=&quot;end&quot;&gt;Income Inequality&lt;/text&gt;\n",
       "&lt;/svg&gt;\n",
       "</body></html>\"></iframe>\n"
      ],
      "text/plain": [
       "This front-end cannot display the desired image type."
      ]
     },
     "metadata": {
      "image/svg+xml": {
       "height": 600,
       "width": 600
      },
      "text/html": {
       "height": 600,
       "width": 600
      }
     },
     "output_type": "display_data"
    }
   ],
   "source": [
    "// Comparing income inequality to social distancing\n",
    "frame change default\n",
    "foreach var of varlist incomeratio {\n",
    "    table iso5, c(count `var' mean `var' sem `var')\n",
    "        frame put `var' iso5, into(`var')\n",
    "            frame change `var'\n",
    "                collapse (mean) `var', by(iso5)\n",
    "                    la var `var' \"Income inequality (80:20)\"\n",
    "                        line `var' iso5, note(\"Income Inequality\")     \n",
    "}"
   ]
  },
  {
   "cell_type": "markdown",
   "metadata": {},
   "source": [
    "\n",
    "---\n",
    "*fin.*"
   ]
  },
  {
   "cell_type": "code",
   "execution_count": 29,
   "metadata": {},
   "outputs": [
    {
     "name": "stdout",
     "output_type": "stream",
     "text": [
      "\n",
      "\n",
      "\n",
      "----------------------------------------------------------\n",
      "Distancin |\n",
      "g: Lowest |\n",
      "(1) to    |\n",
      "Highest   |\n",
      "(5)       |    N(drivea~p)  mean(drivea~p)   sem(drivea~p)\n",
      "----------+-----------------------------------------------\n",
      "        1 |            411       81.477141         .288976\n",
      "        2 |            419       82.040113        .2185734\n",
      "        3 |            436       81.579801        .2054981\n",
      "        4 |            422        80.26258        .2841059\n",
      "        5 |            433       77.406371        .4115545\n",
      "----------------------------------------------------------\n"
     ]
    },
    {
     "data": {
      "application/pdf": "[encoded data removed]",
      "image/svg+xml": [
       "<?xml version=\"1.0\" encoding=\"UTF-8\" standalone=\"no\"?>\n",
       "<!-- This is a Stata 16.0 generated SVG file (http://www.stata.com) -->\n",
       "\n",
       "<svg version=\"1.1\" width=\"600px\" height=\"600px\" viewBox=\"0 0 1584 1584\" xmlns=\"http://www.w3.org/2000/svg\" xmlns:xlink=\"http://www.w3.org/1999/xlink\">\n",
       "\t<desc>Stata Graph - Graph</desc>\n",
       "\t<rect x=\"0\" y=\"0\" width=\"1584\" height=\"1584\" style=\"fill:#C6D3DF;stroke:none\"/>\n",
       "\t<rect x=\"0.00\" y=\"0.05\" width=\"1584.00\" height=\"1583.95\" style=\"fill:#C6D3DF\"/>\n",
       "\t<rect x=\"1.58\" y=\"1.63\" width=\"1580.83\" height=\"1580.78\" style=\"fill:none;stroke:#C6D3DF;stroke-width:3.17\"/>\n",
       "\t<line x1=\"55.44\" y1=\"1370.56\" x2=\"1342.53\" y2=\"1370.56\" style=\"stroke:#FFFFFF;stroke-width:4.75\"/>\n",
       "\t<line x1=\"55.44\" y1=\"1128.40\" x2=\"1342.53\" y2=\"1128.40\" style=\"stroke:#FFFFFF;stroke-width:4.75\"/>\n",
       "\t<line x1=\"55.44\" y1=\"886.25\" x2=\"1342.53\" y2=\"886.25\" style=\"stroke:#FFFFFF;stroke-width:4.75\"/>\n",
       "\t<line x1=\"55.44\" y1=\"644.04\" x2=\"1342.53\" y2=\"644.04\" style=\"stroke:#FFFFFF;stroke-width:4.75\"/>\n",
       "\t<line x1=\"55.44\" y1=\"401.89\" x2=\"1342.53\" y2=\"401.89\" style=\"stroke:#FFFFFF;stroke-width:4.75\"/>\n",
       "\t<line x1=\"55.44\" y1=\"159.69\" x2=\"1342.53\" y2=\"159.69\" style=\"stroke:#FFFFFF;stroke-width:4.75\"/>\n",
       "\t<path d=\" M64.90 286.36 L381.95 150.03 L698.96 261.51 L1015.97 580.49 L1333.03 1272.20\" stroke-linejoin=\"round\" style=\"fill:none;stroke:#3E647D;stroke-width:19.01\"/>\n",
       "\t<text x=\"1364.51\" y=\"1391.74\" style=\"font-family:'Helvetica';font-size:60.49px;fill:#000000\">77</text>\n",
       "\t<text x=\"1364.51\" y=\"1149.59\" style=\"font-family:'Helvetica';font-size:60.49px;fill:#000000\">78</text>\n",
       "\t<text x=\"1364.51\" y=\"907.43\" style=\"font-family:'Helvetica';font-size:60.49px;fill:#000000\">79</text>\n",
       "\t<text x=\"1364.51\" y=\"665.23\" style=\"font-family:'Helvetica';font-size:60.49px;fill:#000000\">80</text>\n",
       "\t<text x=\"1364.51\" y=\"423.07\" style=\"font-family:'Helvetica';font-size:60.49px;fill:#000000\">81</text>\n",
       "\t<text x=\"1364.51\" y=\"180.87\" style=\"font-family:'Helvetica';font-size:60.49px;fill:#000000\">82</text>\n",
       "\t<text x=\"1499.40\" y=\"760.27\" style=\"font-family:'Helvetica';font-size:60.49px;fill:#000000\" transform=\"rotate(-90 1499.40,760.27)\" text-anchor=\"middle\">% of Drivers</text>\n",
       "\t<line x1=\"55.44\" y1=\"1380.06\" x2=\"1342.53\" y2=\"1380.06\" style=\"stroke:#000000;stroke-width:3.17\"/>\n",
       "\t<line x1=\"64.95\" y1=\"1358.08\" x2=\"64.95\" y2=\"1380.06\" style=\"stroke:#000000;stroke-width:3.17\"/>\n",
       "\t<text x=\"64.95\" y=\"1433.37\" style=\"font-family:'Helvetica';font-size:60.49px;fill:#000000\" text-anchor=\"middle\">1</text>\n",
       "\t<line x1=\"381.95\" y1=\"1358.08\" x2=\"381.95\" y2=\"1380.06\" style=\"stroke:#000000;stroke-width:3.17\"/>\n",
       "\t<text x=\"381.95\" y=\"1433.37\" style=\"font-family:'Helvetica';font-size:60.49px;fill:#000000\" text-anchor=\"middle\">2</text>\n",
       "\t<line x1=\"699.01\" y1=\"1358.08\" x2=\"699.01\" y2=\"1380.06\" style=\"stroke:#000000;stroke-width:3.17\"/>\n",
       "\t<text x=\"699.01\" y=\"1433.37\" style=\"font-family:'Helvetica';font-size:60.49px;fill:#000000\" text-anchor=\"middle\">3</text>\n",
       "\t<line x1=\"1016.02\" y1=\"1358.08\" x2=\"1016.02\" y2=\"1380.06\" style=\"stroke:#000000;stroke-width:3.17\"/>\n",
       "\t<text x=\"1016.02\" y=\"1433.37\" style=\"font-family:'Helvetica';font-size:60.49px;fill:#000000\" text-anchor=\"middle\">4</text>\n",
       "\t<line x1=\"1333.03\" y1=\"1358.08\" x2=\"1333.03\" y2=\"1380.06\" style=\"stroke:#000000;stroke-width:3.17\"/>\n",
       "\t<text x=\"1333.03\" y=\"1433.37\" style=\"font-family:'Helvetica';font-size:60.49px;fill:#000000\" text-anchor=\"middle\">5</text>\n",
       "\t<text x=\"699.01\" y=\"1499.40\" style=\"font-family:'Helvetica';font-size:60.49px;fill:#000000\" text-anchor=\"middle\">Distancing: Lowest (1) to Highest (5)</text>\n",
       "\t<rect x=\"453.78\" y=\"55.49\" width=\"888.75\" height=\"84.99\" style=\"fill:#7B92A8\"/>\n",
       "\t<rect x=\"455.36\" y=\"57.07\" width=\"885.58\" height=\"81.82\" style=\"fill:none;stroke:#7B92A8;stroke-width:3.17\"/>\n",
       "\t<text x=\"1333.03\" y=\"121.12\" style=\"font-family:'Helvetica';font-size:65.99px;fill:#FFFFff\" text-anchor=\"end\">Commuting Alone by Vehicle</text>\n",
       "</svg>\n"
      ],
      "text/html": [
       "                <iframe frameborder=\"0\" scrolling=\"no\" height=\"600\" width=\"600\"                srcdoc=\"<html><body>&lt;?xml version=&quot;1.0&quot; encoding=&quot;UTF-8&quot; standalone=&quot;no&quot;?&gt;\n",
       "&lt;!-- This is a Stata 16.0 generated SVG file (http://www.stata.com) --&gt;\n",
       "\n",
       "&lt;svg version=&quot;1.1&quot; width=&quot;600px&quot; height=&quot;600px&quot; viewBox=&quot;0 0 1584 1584&quot; xmlns=&quot;http://www.w3.org/2000/svg&quot; xmlns:xlink=&quot;http://www.w3.org/1999/xlink&quot;&gt;\n",
       "\t&lt;desc&gt;Stata Graph - Graph&lt;/desc&gt;\n",
       "\t&lt;rect x=&quot;0&quot; y=&quot;0&quot; width=&quot;1584&quot; height=&quot;1584&quot; style=&quot;fill:#C6D3DF;stroke:none&quot;/&gt;\n",
       "\t&lt;rect x=&quot;0.00&quot; y=&quot;0.05&quot; width=&quot;1584.00&quot; height=&quot;1583.95&quot; style=&quot;fill:#C6D3DF&quot;/&gt;\n",
       "\t&lt;rect x=&quot;1.58&quot; y=&quot;1.63&quot; width=&quot;1580.83&quot; height=&quot;1580.78&quot; style=&quot;fill:none;stroke:#C6D3DF;stroke-width:3.17&quot;/&gt;\n",
       "\t&lt;line x1=&quot;55.44&quot; y1=&quot;1370.56&quot; x2=&quot;1342.53&quot; y2=&quot;1370.56&quot; style=&quot;stroke:#FFFFFF;stroke-width:4.75&quot;/&gt;\n",
       "\t&lt;line x1=&quot;55.44&quot; y1=&quot;1128.40&quot; x2=&quot;1342.53&quot; y2=&quot;1128.40&quot; style=&quot;stroke:#FFFFFF;stroke-width:4.75&quot;/&gt;\n",
       "\t&lt;line x1=&quot;55.44&quot; y1=&quot;886.25&quot; x2=&quot;1342.53&quot; y2=&quot;886.25&quot; style=&quot;stroke:#FFFFFF;stroke-width:4.75&quot;/&gt;\n",
       "\t&lt;line x1=&quot;55.44&quot; y1=&quot;644.04&quot; x2=&quot;1342.53&quot; y2=&quot;644.04&quot; style=&quot;stroke:#FFFFFF;stroke-width:4.75&quot;/&gt;\n",
       "\t&lt;line x1=&quot;55.44&quot; y1=&quot;401.89&quot; x2=&quot;1342.53&quot; y2=&quot;401.89&quot; style=&quot;stroke:#FFFFFF;stroke-width:4.75&quot;/&gt;\n",
       "\t&lt;line x1=&quot;55.44&quot; y1=&quot;159.69&quot; x2=&quot;1342.53&quot; y2=&quot;159.69&quot; style=&quot;stroke:#FFFFFF;stroke-width:4.75&quot;/&gt;\n",
       "\t&lt;path d=&quot; M64.90 286.36 L381.95 150.03 L698.96 261.51 L1015.97 580.49 L1333.03 1272.20&quot; stroke-linejoin=&quot;round&quot; style=&quot;fill:none;stroke:#3E647D;stroke-width:19.01&quot;/&gt;\n",
       "\t&lt;text x=&quot;1364.51&quot; y=&quot;1391.74&quot; style=&quot;font-family:&#x27;Helvetica&#x27;;font-size:60.49px;fill:#000000&quot;&gt;77&lt;/text&gt;\n",
       "\t&lt;text x=&quot;1364.51&quot; y=&quot;1149.59&quot; style=&quot;font-family:&#x27;Helvetica&#x27;;font-size:60.49px;fill:#000000&quot;&gt;78&lt;/text&gt;\n",
       "\t&lt;text x=&quot;1364.51&quot; y=&quot;907.43&quot; style=&quot;font-family:&#x27;Helvetica&#x27;;font-size:60.49px;fill:#000000&quot;&gt;79&lt;/text&gt;\n",
       "\t&lt;text x=&quot;1364.51&quot; y=&quot;665.23&quot; style=&quot;font-family:&#x27;Helvetica&#x27;;font-size:60.49px;fill:#000000&quot;&gt;80&lt;/text&gt;\n",
       "\t&lt;text x=&quot;1364.51&quot; y=&quot;423.07&quot; style=&quot;font-family:&#x27;Helvetica&#x27;;font-size:60.49px;fill:#000000&quot;&gt;81&lt;/text&gt;\n",
       "\t&lt;text x=&quot;1364.51&quot; y=&quot;180.87&quot; style=&quot;font-family:&#x27;Helvetica&#x27;;font-size:60.49px;fill:#000000&quot;&gt;82&lt;/text&gt;\n",
       "\t&lt;text x=&quot;1499.40&quot; y=&quot;760.27&quot; style=&quot;font-family:&#x27;Helvetica&#x27;;font-size:60.49px;fill:#000000&quot; transform=&quot;rotate(-90 1499.40,760.27)&quot; text-anchor=&quot;middle&quot;&gt;% of Drivers&lt;/text&gt;\n",
       "\t&lt;line x1=&quot;55.44&quot; y1=&quot;1380.06&quot; x2=&quot;1342.53&quot; y2=&quot;1380.06&quot; style=&quot;stroke:#000000;stroke-width:3.17&quot;/&gt;\n",
       "\t&lt;line x1=&quot;64.95&quot; y1=&quot;1358.08&quot; x2=&quot;64.95&quot; y2=&quot;1380.06&quot; style=&quot;stroke:#000000;stroke-width:3.17&quot;/&gt;\n",
       "\t&lt;text x=&quot;64.95&quot; y=&quot;1433.37&quot; style=&quot;font-family:&#x27;Helvetica&#x27;;font-size:60.49px;fill:#000000&quot; text-anchor=&quot;middle&quot;&gt;1&lt;/text&gt;\n",
       "\t&lt;line x1=&quot;381.95&quot; y1=&quot;1358.08&quot; x2=&quot;381.95&quot; y2=&quot;1380.06&quot; style=&quot;stroke:#000000;stroke-width:3.17&quot;/&gt;\n",
       "\t&lt;text x=&quot;381.95&quot; y=&quot;1433.37&quot; style=&quot;font-family:&#x27;Helvetica&#x27;;font-size:60.49px;fill:#000000&quot; text-anchor=&quot;middle&quot;&gt;2&lt;/text&gt;\n",
       "\t&lt;line x1=&quot;699.01&quot; y1=&quot;1358.08&quot; x2=&quot;699.01&quot; y2=&quot;1380.06&quot; style=&quot;stroke:#000000;stroke-width:3.17&quot;/&gt;\n",
       "\t&lt;text x=&quot;699.01&quot; y=&quot;1433.37&quot; style=&quot;font-family:&#x27;Helvetica&#x27;;font-size:60.49px;fill:#000000&quot; text-anchor=&quot;middle&quot;&gt;3&lt;/text&gt;\n",
       "\t&lt;line x1=&quot;1016.02&quot; y1=&quot;1358.08&quot; x2=&quot;1016.02&quot; y2=&quot;1380.06&quot; style=&quot;stroke:#000000;stroke-width:3.17&quot;/&gt;\n",
       "\t&lt;text x=&quot;1016.02&quot; y=&quot;1433.37&quot; style=&quot;font-family:&#x27;Helvetica&#x27;;font-size:60.49px;fill:#000000&quot; text-anchor=&quot;middle&quot;&gt;4&lt;/text&gt;\n",
       "\t&lt;line x1=&quot;1333.03&quot; y1=&quot;1358.08&quot; x2=&quot;1333.03&quot; y2=&quot;1380.06&quot; style=&quot;stroke:#000000;stroke-width:3.17&quot;/&gt;\n",
       "\t&lt;text x=&quot;1333.03&quot; y=&quot;1433.37&quot; style=&quot;font-family:&#x27;Helvetica&#x27;;font-size:60.49px;fill:#000000&quot; text-anchor=&quot;middle&quot;&gt;5&lt;/text&gt;\n",
       "\t&lt;text x=&quot;699.01&quot; y=&quot;1499.40&quot; style=&quot;font-family:&#x27;Helvetica&#x27;;font-size:60.49px;fill:#000000&quot; text-anchor=&quot;middle&quot;&gt;Distancing: Lowest (1) to Highest (5)&lt;/text&gt;\n",
       "\t&lt;rect x=&quot;453.78&quot; y=&quot;55.49&quot; width=&quot;888.75&quot; height=&quot;84.99&quot; style=&quot;fill:#7B92A8&quot;/&gt;\n",
       "\t&lt;rect x=&quot;455.36&quot; y=&quot;57.07&quot; width=&quot;885.58&quot; height=&quot;81.82&quot; style=&quot;fill:none;stroke:#7B92A8;stroke-width:3.17&quot;/&gt;\n",
       "\t&lt;text x=&quot;1333.03&quot; y=&quot;121.12&quot; style=&quot;font-family:&#x27;Helvetica&#x27;;font-size:65.99px;fill:#FFFFff&quot; text-anchor=&quot;end&quot;&gt;Commuting Alone by Vehicle&lt;/text&gt;\n",
       "&lt;/svg&gt;\n",
       "</body></html>\"></iframe>\n"
      ],
      "text/plain": [
       "This front-end cannot display the desired image type."
      ]
     },
     "metadata": {
      "image/svg+xml": {
       "height": 600,
       "width": 600
      },
      "text/html": {
       "height": 600,
       "width": 600
      }
     },
     "output_type": "display_data"
    }
   ],
   "source": [
    "frame change default\n",
    "foreach var of varlist drivealone_p {\n",
    "    table iso5, c(count `var' mean `var' sem `var')\n",
    "        frame put `var' iso5, into(`var')\n",
    "            frame change `var'\n",
    "                collapse (mean) `var', by(iso5)\n",
    "                    la var `var' \"% of Drivers\"\n",
    "                        line `var' iso5, note(\"Commuting Alone by Vehicle\")     \n",
    "}"
   ]
  },
  {
   "cell_type": "markdown",
   "metadata": {},
   "source": [
    "---\n"
   ]
  },
  {
   "cell_type": "code",
   "execution_count": 30,
   "metadata": {},
   "outputs": [
    {
     "name": "stdout",
     "output_type": "stream",
     "text": [
      "\n",
      "\n",
      "\n",
      "----------------------------------------------\n",
      "Distancin |\n",
      "g: Lowest |\n",
      "(1) to    |\n",
      "Highest   |\n",
      "(5)       |    N(rucc)  mean(rucc)   sem(rucc)\n",
      "----------+-----------------------------------\n",
      "        1 |        411   5.3649635    .1087599\n",
      "        2 |        419   4.7040572    .1113948\n",
      "        3 |        436   4.3761468    .1137103\n",
      "        4 |        422   4.0379148    .1196491\n",
      "        5 |        433   3.5727482    .1224771\n",
      "----------------------------------------------\n"
     ]
    },
    {
     "data": {
      "application/pdf": "[encoded data removed]",
      "image/svg+xml": [
       "<?xml version=\"1.0\" encoding=\"UTF-8\" standalone=\"no\"?>\n",
       "<!-- This is a Stata 16.0 generated SVG file (http://www.stata.com) -->\n",
       "\n",
       "<svg version=\"1.1\" width=\"600px\" height=\"600px\" viewBox=\"0 0 1584 1584\" xmlns=\"http://www.w3.org/2000/svg\" xmlns:xlink=\"http://www.w3.org/1999/xlink\">\n",
       "\t<desc>Stata Graph - Graph</desc>\n",
       "\t<rect x=\"0\" y=\"0\" width=\"1584\" height=\"1584\" style=\"fill:#C6D3DF;stroke:none\"/>\n",
       "\t<rect x=\"0.00\" y=\"0.05\" width=\"1584.00\" height=\"1583.95\" style=\"fill:#C6D3DF\"/>\n",
       "\t<rect x=\"1.58\" y=\"1.63\" width=\"1580.83\" height=\"1580.78\" style=\"fill:none;stroke:#C6D3DF;stroke-width:3.17\"/>\n",
       "\t<line x1=\"55.44\" y1=\"1370.56\" x2=\"1376.84\" y2=\"1370.56\" style=\"stroke:#FFFFFF;stroke-width:4.75\"/>\n",
       "\t<line x1=\"55.44\" y1=\"963.72\" x2=\"1376.84\" y2=\"963.72\" style=\"stroke:#FFFFFF;stroke-width:4.75\"/>\n",
       "\t<line x1=\"55.44\" y1=\"556.88\" x2=\"1376.84\" y2=\"556.88\" style=\"stroke:#FFFFFF;stroke-width:4.75\"/>\n",
       "\t<line x1=\"55.44\" y1=\"149.98\" x2=\"1376.84\" y2=\"149.98\" style=\"stroke:#FFFFFF;stroke-width:4.75\"/>\n",
       "\t<path d=\" M64.90 150.03 L390.52 556.88 L716.14 963.72 L1041.71 1370.61 L1367.33 1370.61\" stroke-linejoin=\"round\" style=\"fill:none;stroke:#3E647D;stroke-width:19.01\"/>\n",
       "\t<text x=\"1398.81\" y=\"1391.74\" style=\"font-family:'Helvetica';font-size:60.49px;fill:#000000\">3</text>\n",
       "\t<text x=\"1398.81\" y=\"984.90\" style=\"font-family:'Helvetica';font-size:60.49px;fill:#000000\">4</text>\n",
       "\t<text x=\"1398.81\" y=\"578.06\" style=\"font-family:'Helvetica';font-size:60.49px;fill:#000000\">5</text>\n",
       "\t<text x=\"1398.81\" y=\"171.17\" style=\"font-family:'Helvetica';font-size:60.49px;fill:#000000\">6</text>\n",
       "\t<text x=\"1499.40\" y=\"760.27\" style=\"font-family:'Helvetica';font-size:60.49px;fill:#000000\" transform=\"rotate(-90 1499.40,760.27)\" text-anchor=\"middle\">Average RUCC</text>\n",
       "\t<line x1=\"55.44\" y1=\"1380.06\" x2=\"1376.84\" y2=\"1380.06\" style=\"stroke:#000000;stroke-width:3.17\"/>\n",
       "\t<line x1=\"64.95\" y1=\"1358.08\" x2=\"64.95\" y2=\"1380.06\" style=\"stroke:#000000;stroke-width:3.17\"/>\n",
       "\t<text x=\"64.95\" y=\"1433.37\" style=\"font-family:'Helvetica';font-size:60.49px;fill:#000000\" text-anchor=\"middle\">1</text>\n",
       "\t<line x1=\"390.52\" y1=\"1358.08\" x2=\"390.52\" y2=\"1380.06\" style=\"stroke:#000000;stroke-width:3.17\"/>\n",
       "\t<text x=\"390.52\" y=\"1433.37\" style=\"font-family:'Helvetica';font-size:60.49px;fill:#000000\" text-anchor=\"middle\">2</text>\n",
       "\t<line x1=\"716.14\" y1=\"1358.08\" x2=\"716.14\" y2=\"1380.06\" style=\"stroke:#000000;stroke-width:3.17\"/>\n",
       "\t<text x=\"716.14\" y=\"1433.37\" style=\"font-family:'Helvetica';font-size:60.49px;fill:#000000\" text-anchor=\"middle\">3</text>\n",
       "\t<line x1=\"1041.76\" y1=\"1358.08\" x2=\"1041.76\" y2=\"1380.06\" style=\"stroke:#000000;stroke-width:3.17\"/>\n",
       "\t<text x=\"1041.76\" y=\"1433.37\" style=\"font-family:'Helvetica';font-size:60.49px;fill:#000000\" text-anchor=\"middle\">4</text>\n",
       "\t<line x1=\"1367.33\" y1=\"1358.08\" x2=\"1367.33\" y2=\"1380.06\" style=\"stroke:#000000;stroke-width:3.17\"/>\n",
       "\t<text x=\"1367.33\" y=\"1433.37\" style=\"font-family:'Helvetica';font-size:60.49px;fill:#000000\" text-anchor=\"middle\">5</text>\n",
       "\t<text x=\"716.14\" y=\"1499.40\" style=\"font-family:'Helvetica';font-size:60.49px;fill:#000000\" text-anchor=\"middle\">Distancing: Lowest (1) to Highest (5)</text>\n",
       "\t<rect x=\"992.61\" y=\"55.49\" width=\"384.23\" height=\"84.99\" style=\"fill:#7B92A8\"/>\n",
       "\t<rect x=\"994.19\" y=\"57.07\" width=\"381.06\" height=\"81.82\" style=\"fill:none;stroke:#7B92A8;stroke-width:3.17\"/>\n",
       "\t<text x=\"1367.33\" y=\"121.12\" style=\"font-family:'Helvetica';font-size:65.99px;fill:#FFFFff\" text-anchor=\"end\">Urban-Rural</text>\n",
       "</svg>\n"
      ],
      "text/html": [
       "                <iframe frameborder=\"0\" scrolling=\"no\" height=\"600\" width=\"600\"                srcdoc=\"<html><body>&lt;?xml version=&quot;1.0&quot; encoding=&quot;UTF-8&quot; standalone=&quot;no&quot;?&gt;\n",
       "&lt;!-- This is a Stata 16.0 generated SVG file (http://www.stata.com) --&gt;\n",
       "\n",
       "&lt;svg version=&quot;1.1&quot; width=&quot;600px&quot; height=&quot;600px&quot; viewBox=&quot;0 0 1584 1584&quot; xmlns=&quot;http://www.w3.org/2000/svg&quot; xmlns:xlink=&quot;http://www.w3.org/1999/xlink&quot;&gt;\n",
       "\t&lt;desc&gt;Stata Graph - Graph&lt;/desc&gt;\n",
       "\t&lt;rect x=&quot;0&quot; y=&quot;0&quot; width=&quot;1584&quot; height=&quot;1584&quot; style=&quot;fill:#C6D3DF;stroke:none&quot;/&gt;\n",
       "\t&lt;rect x=&quot;0.00&quot; y=&quot;0.05&quot; width=&quot;1584.00&quot; height=&quot;1583.95&quot; style=&quot;fill:#C6D3DF&quot;/&gt;\n",
       "\t&lt;rect x=&quot;1.58&quot; y=&quot;1.63&quot; width=&quot;1580.83&quot; height=&quot;1580.78&quot; style=&quot;fill:none;stroke:#C6D3DF;stroke-width:3.17&quot;/&gt;\n",
       "\t&lt;line x1=&quot;55.44&quot; y1=&quot;1370.56&quot; x2=&quot;1376.84&quot; y2=&quot;1370.56&quot; style=&quot;stroke:#FFFFFF;stroke-width:4.75&quot;/&gt;\n",
       "\t&lt;line x1=&quot;55.44&quot; y1=&quot;963.72&quot; x2=&quot;1376.84&quot; y2=&quot;963.72&quot; style=&quot;stroke:#FFFFFF;stroke-width:4.75&quot;/&gt;\n",
       "\t&lt;line x1=&quot;55.44&quot; y1=&quot;556.88&quot; x2=&quot;1376.84&quot; y2=&quot;556.88&quot; style=&quot;stroke:#FFFFFF;stroke-width:4.75&quot;/&gt;\n",
       "\t&lt;line x1=&quot;55.44&quot; y1=&quot;149.98&quot; x2=&quot;1376.84&quot; y2=&quot;149.98&quot; style=&quot;stroke:#FFFFFF;stroke-width:4.75&quot;/&gt;\n",
       "\t&lt;path d=&quot; M64.90 150.03 L390.52 556.88 L716.14 963.72 L1041.71 1370.61 L1367.33 1370.61&quot; stroke-linejoin=&quot;round&quot; style=&quot;fill:none;stroke:#3E647D;stroke-width:19.01&quot;/&gt;\n",
       "\t&lt;text x=&quot;1398.81&quot; y=&quot;1391.74&quot; style=&quot;font-family:&#x27;Helvetica&#x27;;font-size:60.49px;fill:#000000&quot;&gt;3&lt;/text&gt;\n",
       "\t&lt;text x=&quot;1398.81&quot; y=&quot;984.90&quot; style=&quot;font-family:&#x27;Helvetica&#x27;;font-size:60.49px;fill:#000000&quot;&gt;4&lt;/text&gt;\n",
       "\t&lt;text x=&quot;1398.81&quot; y=&quot;578.06&quot; style=&quot;font-family:&#x27;Helvetica&#x27;;font-size:60.49px;fill:#000000&quot;&gt;5&lt;/text&gt;\n",
       "\t&lt;text x=&quot;1398.81&quot; y=&quot;171.17&quot; style=&quot;font-family:&#x27;Helvetica&#x27;;font-size:60.49px;fill:#000000&quot;&gt;6&lt;/text&gt;\n",
       "\t&lt;text x=&quot;1499.40&quot; y=&quot;760.27&quot; style=&quot;font-family:&#x27;Helvetica&#x27;;font-size:60.49px;fill:#000000&quot; transform=&quot;rotate(-90 1499.40,760.27)&quot; text-anchor=&quot;middle&quot;&gt;Average RUCC&lt;/text&gt;\n",
       "\t&lt;line x1=&quot;55.44&quot; y1=&quot;1380.06&quot; x2=&quot;1376.84&quot; y2=&quot;1380.06&quot; style=&quot;stroke:#000000;stroke-width:3.17&quot;/&gt;\n",
       "\t&lt;line x1=&quot;64.95&quot; y1=&quot;1358.08&quot; x2=&quot;64.95&quot; y2=&quot;1380.06&quot; style=&quot;stroke:#000000;stroke-width:3.17&quot;/&gt;\n",
       "\t&lt;text x=&quot;64.95&quot; y=&quot;1433.37&quot; style=&quot;font-family:&#x27;Helvetica&#x27;;font-size:60.49px;fill:#000000&quot; text-anchor=&quot;middle&quot;&gt;1&lt;/text&gt;\n",
       "\t&lt;line x1=&quot;390.52&quot; y1=&quot;1358.08&quot; x2=&quot;390.52&quot; y2=&quot;1380.06&quot; style=&quot;stroke:#000000;stroke-width:3.17&quot;/&gt;\n",
       "\t&lt;text x=&quot;390.52&quot; y=&quot;1433.37&quot; style=&quot;font-family:&#x27;Helvetica&#x27;;font-size:60.49px;fill:#000000&quot; text-anchor=&quot;middle&quot;&gt;2&lt;/text&gt;\n",
       "\t&lt;line x1=&quot;716.14&quot; y1=&quot;1358.08&quot; x2=&quot;716.14&quot; y2=&quot;1380.06&quot; style=&quot;stroke:#000000;stroke-width:3.17&quot;/&gt;\n",
       "\t&lt;text x=&quot;716.14&quot; y=&quot;1433.37&quot; style=&quot;font-family:&#x27;Helvetica&#x27;;font-size:60.49px;fill:#000000&quot; text-anchor=&quot;middle&quot;&gt;3&lt;/text&gt;\n",
       "\t&lt;line x1=&quot;1041.76&quot; y1=&quot;1358.08&quot; x2=&quot;1041.76&quot; y2=&quot;1380.06&quot; style=&quot;stroke:#000000;stroke-width:3.17&quot;/&gt;\n",
       "\t&lt;text x=&quot;1041.76&quot; y=&quot;1433.37&quot; style=&quot;font-family:&#x27;Helvetica&#x27;;font-size:60.49px;fill:#000000&quot; text-anchor=&quot;middle&quot;&gt;4&lt;/text&gt;\n",
       "\t&lt;line x1=&quot;1367.33&quot; y1=&quot;1358.08&quot; x2=&quot;1367.33&quot; y2=&quot;1380.06&quot; style=&quot;stroke:#000000;stroke-width:3.17&quot;/&gt;\n",
       "\t&lt;text x=&quot;1367.33&quot; y=&quot;1433.37&quot; style=&quot;font-family:&#x27;Helvetica&#x27;;font-size:60.49px;fill:#000000&quot; text-anchor=&quot;middle&quot;&gt;5&lt;/text&gt;\n",
       "\t&lt;text x=&quot;716.14&quot; y=&quot;1499.40&quot; style=&quot;font-family:&#x27;Helvetica&#x27;;font-size:60.49px;fill:#000000&quot; text-anchor=&quot;middle&quot;&gt;Distancing: Lowest (1) to Highest (5)&lt;/text&gt;\n",
       "\t&lt;rect x=&quot;992.61&quot; y=&quot;55.49&quot; width=&quot;384.23&quot; height=&quot;84.99&quot; style=&quot;fill:#7B92A8&quot;/&gt;\n",
       "\t&lt;rect x=&quot;994.19&quot; y=&quot;57.07&quot; width=&quot;381.06&quot; height=&quot;81.82&quot; style=&quot;fill:none;stroke:#7B92A8;stroke-width:3.17&quot;/&gt;\n",
       "\t&lt;text x=&quot;1367.33&quot; y=&quot;121.12&quot; style=&quot;font-family:&#x27;Helvetica&#x27;;font-size:65.99px;fill:#FFFFff&quot; text-anchor=&quot;end&quot;&gt;Urban-Rural&lt;/text&gt;\n",
       "&lt;/svg&gt;\n",
       "</body></html>\"></iframe>\n"
      ],
      "text/plain": [
       "This front-end cannot display the desired image type."
      ]
     },
     "metadata": {
      "image/svg+xml": {
       "height": 600,
       "width": 600
      },
      "text/html": {
       "height": 600,
       "width": 600
      }
     },
     "output_type": "display_data"
    }
   ],
   "source": [
    "frame change default\n",
    "foreach var of varlist rucc {\n",
    "    table iso5, c(count `var' mean `var' sem `var')\n",
    "        frame put `var' iso5, into(`var')\n",
    "            frame change `var'\n",
    "                collapse (median) `var', by(iso5)\n",
    "                    la var `var' \"Average RUCC\"\n",
    "                        line `var' iso5, note(\"Urban-Rural\")     \n",
    "}"
   ]
  },
  {
   "cell_type": "code",
   "execution_count": 31,
   "metadata": {},
   "outputs": [
    {
     "name": "stdout",
     "output_type": "stream",
     "text": [
      "\n",
      "\n",
      "\n",
      "----------------------------------------------------------\n",
      "Distancin |\n",
      "g: Lowest |\n",
      "(1) to    |\n",
      "Highest   |\n",
      "(5)       |    N(longco~p)  mean(longco~p)   sem(longco~p)\n",
      "----------+-----------------------------------------------\n",
      "        1 |            411       27.034793        .6283309\n",
      "        2 |            419       30.952267        .5940695\n",
      "        3 |            436       32.230963        .5798799\n",
      "        4 |            422       32.639573        .5705296\n",
      "        5 |            433       33.721016        .5567337\n",
      "----------------------------------------------------------\n"
     ]
    },
    {
     "data": {
      "application/pdf": "[encoded data removed]",
      "image/svg+xml": [
       "<?xml version=\"1.0\" encoding=\"UTF-8\" standalone=\"no\"?>\n",
       "<!-- This is a Stata 16.0 generated SVG file (http://www.stata.com) -->\n",
       "\n",
       "<svg version=\"1.1\" width=\"600px\" height=\"600px\" viewBox=\"0 0 1584 1584\" xmlns=\"http://www.w3.org/2000/svg\" xmlns:xlink=\"http://www.w3.org/1999/xlink\">\n",
       "\t<desc>Stata Graph - Graph</desc>\n",
       "\t<rect x=\"0\" y=\"0\" width=\"1584\" height=\"1584\" style=\"fill:#C6D3DF;stroke:none\"/>\n",
       "\t<rect x=\"0.00\" y=\"0.05\" width=\"1584.00\" height=\"1583.95\" style=\"fill:#C6D3DF\"/>\n",
       "\t<rect x=\"1.58\" y=\"1.63\" width=\"1580.83\" height=\"1580.78\" style=\"fill:none;stroke:#C6D3DF;stroke-width:3.17\"/>\n",
       "\t<line x1=\"55.44\" y1=\"1370.56\" x2=\"1342.53\" y2=\"1370.56\" style=\"stroke:#FFFFFF;stroke-width:4.75\"/>\n",
       "\t<line x1=\"55.44\" y1=\"1065.44\" x2=\"1342.53\" y2=\"1065.44\" style=\"stroke:#FFFFFF;stroke-width:4.75\"/>\n",
       "\t<line x1=\"55.44\" y1=\"760.27\" x2=\"1342.53\" y2=\"760.27\" style=\"stroke:#FFFFFF;stroke-width:4.75\"/>\n",
       "\t<line x1=\"55.44\" y1=\"455.15\" x2=\"1342.53\" y2=\"455.15\" style=\"stroke:#FFFFFF;stroke-width:4.75\"/>\n",
       "\t<line x1=\"55.44\" y1=\"149.98\" x2=\"1342.53\" y2=\"149.98\" style=\"stroke:#FFFFFF;stroke-width:4.75\"/>\n",
       "\t<path d=\" M64.90 1212.70 L381.95 615.04 L698.96 419.91 L1015.97 357.59 L1333.03 192.60\" stroke-linejoin=\"round\" style=\"fill:none;stroke:#3E647D;stroke-width:19.01\"/>\n",
       "\t<text x=\"1364.51\" y=\"1391.74\" style=\"font-family:'Helvetica';font-size:60.49px;fill:#000000\">26</text>\n",
       "\t<text x=\"1364.51\" y=\"1086.62\" style=\"font-family:'Helvetica';font-size:60.49px;fill:#000000\">28</text>\n",
       "\t<text x=\"1364.51\" y=\"781.45\" style=\"font-family:'Helvetica';font-size:60.49px;fill:#000000\">30</text>\n",
       "\t<text x=\"1364.51\" y=\"476.34\" style=\"font-family:'Helvetica';font-size:60.49px;fill:#000000\">32</text>\n",
       "\t<text x=\"1364.51\" y=\"171.17\" style=\"font-family:'Helvetica';font-size:60.49px;fill:#000000\">34</text>\n",
       "\t<text x=\"1499.40\" y=\"760.27\" style=\"font-family:'Helvetica';font-size:60.49px;fill:#000000\" transform=\"rotate(-90 1499.40,760.27)\" text-anchor=\"middle\">% of Solo Commuters Driving 30+ mins</text>\n",
       "\t<line x1=\"55.44\" y1=\"1380.06\" x2=\"1342.53\" y2=\"1380.06\" style=\"stroke:#000000;stroke-width:3.17\"/>\n",
       "\t<line x1=\"64.95\" y1=\"1358.08\" x2=\"64.95\" y2=\"1380.06\" style=\"stroke:#000000;stroke-width:3.17\"/>\n",
       "\t<text x=\"64.95\" y=\"1433.37\" style=\"font-family:'Helvetica';font-size:60.49px;fill:#000000\" text-anchor=\"middle\">1</text>\n",
       "\t<line x1=\"381.95\" y1=\"1358.08\" x2=\"381.95\" y2=\"1380.06\" style=\"stroke:#000000;stroke-width:3.17\"/>\n",
       "\t<text x=\"381.95\" y=\"1433.37\" style=\"font-family:'Helvetica';font-size:60.49px;fill:#000000\" text-anchor=\"middle\">2</text>\n",
       "\t<line x1=\"699.01\" y1=\"1358.08\" x2=\"699.01\" y2=\"1380.06\" style=\"stroke:#000000;stroke-width:3.17\"/>\n",
       "\t<text x=\"699.01\" y=\"1433.37\" style=\"font-family:'Helvetica';font-size:60.49px;fill:#000000\" text-anchor=\"middle\">3</text>\n",
       "\t<line x1=\"1016.02\" y1=\"1358.08\" x2=\"1016.02\" y2=\"1380.06\" style=\"stroke:#000000;stroke-width:3.17\"/>\n",
       "\t<text x=\"1016.02\" y=\"1433.37\" style=\"font-family:'Helvetica';font-size:60.49px;fill:#000000\" text-anchor=\"middle\">4</text>\n",
       "\t<line x1=\"1333.03\" y1=\"1358.08\" x2=\"1333.03\" y2=\"1380.06\" style=\"stroke:#000000;stroke-width:3.17\"/>\n",
       "\t<text x=\"1333.03\" y=\"1433.37\" style=\"font-family:'Helvetica';font-size:60.49px;fill:#000000\" text-anchor=\"middle\">5</text>\n",
       "\t<text x=\"699.01\" y=\"1499.40\" style=\"font-family:'Helvetica';font-size:60.49px;fill:#000000\" text-anchor=\"middle\">Distancing: Lowest (1) to Highest (5)</text>\n",
       "\t<rect x=\"707.43\" y=\"55.49\" width=\"635.10\" height=\"84.99\" style=\"fill:#7B92A8\"/>\n",
       "\t<rect x=\"709.01\" y=\"57.07\" width=\"631.94\" height=\"81.82\" style=\"fill:none;stroke:#7B92A8;stroke-width:3.17\"/>\n",
       "\t<text x=\"1333.03\" y=\"121.12\" style=\"font-family:'Helvetica';font-size:65.99px;fill:#FFFFff\" text-anchor=\"end\">Long Solo Commute</text>\n",
       "</svg>\n"
      ],
      "text/html": [
       "                <iframe frameborder=\"0\" scrolling=\"no\" height=\"600\" width=\"600\"                srcdoc=\"<html><body>&lt;?xml version=&quot;1.0&quot; encoding=&quot;UTF-8&quot; standalone=&quot;no&quot;?&gt;\n",
       "&lt;!-- This is a Stata 16.0 generated SVG file (http://www.stata.com) --&gt;\n",
       "\n",
       "&lt;svg version=&quot;1.1&quot; width=&quot;600px&quot; height=&quot;600px&quot; viewBox=&quot;0 0 1584 1584&quot; xmlns=&quot;http://www.w3.org/2000/svg&quot; xmlns:xlink=&quot;http://www.w3.org/1999/xlink&quot;&gt;\n",
       "\t&lt;desc&gt;Stata Graph - Graph&lt;/desc&gt;\n",
       "\t&lt;rect x=&quot;0&quot; y=&quot;0&quot; width=&quot;1584&quot; height=&quot;1584&quot; style=&quot;fill:#C6D3DF;stroke:none&quot;/&gt;\n",
       "\t&lt;rect x=&quot;0.00&quot; y=&quot;0.05&quot; width=&quot;1584.00&quot; height=&quot;1583.95&quot; style=&quot;fill:#C6D3DF&quot;/&gt;\n",
       "\t&lt;rect x=&quot;1.58&quot; y=&quot;1.63&quot; width=&quot;1580.83&quot; height=&quot;1580.78&quot; style=&quot;fill:none;stroke:#C6D3DF;stroke-width:3.17&quot;/&gt;\n",
       "\t&lt;line x1=&quot;55.44&quot; y1=&quot;1370.56&quot; x2=&quot;1342.53&quot; y2=&quot;1370.56&quot; style=&quot;stroke:#FFFFFF;stroke-width:4.75&quot;/&gt;\n",
       "\t&lt;line x1=&quot;55.44&quot; y1=&quot;1065.44&quot; x2=&quot;1342.53&quot; y2=&quot;1065.44&quot; style=&quot;stroke:#FFFFFF;stroke-width:4.75&quot;/&gt;\n",
       "\t&lt;line x1=&quot;55.44&quot; y1=&quot;760.27&quot; x2=&quot;1342.53&quot; y2=&quot;760.27&quot; style=&quot;stroke:#FFFFFF;stroke-width:4.75&quot;/&gt;\n",
       "\t&lt;line x1=&quot;55.44&quot; y1=&quot;455.15&quot; x2=&quot;1342.53&quot; y2=&quot;455.15&quot; style=&quot;stroke:#FFFFFF;stroke-width:4.75&quot;/&gt;\n",
       "\t&lt;line x1=&quot;55.44&quot; y1=&quot;149.98&quot; x2=&quot;1342.53&quot; y2=&quot;149.98&quot; style=&quot;stroke:#FFFFFF;stroke-width:4.75&quot;/&gt;\n",
       "\t&lt;path d=&quot; M64.90 1212.70 L381.95 615.04 L698.96 419.91 L1015.97 357.59 L1333.03 192.60&quot; stroke-linejoin=&quot;round&quot; style=&quot;fill:none;stroke:#3E647D;stroke-width:19.01&quot;/&gt;\n",
       "\t&lt;text x=&quot;1364.51&quot; y=&quot;1391.74&quot; style=&quot;font-family:&#x27;Helvetica&#x27;;font-size:60.49px;fill:#000000&quot;&gt;26&lt;/text&gt;\n",
       "\t&lt;text x=&quot;1364.51&quot; y=&quot;1086.62&quot; style=&quot;font-family:&#x27;Helvetica&#x27;;font-size:60.49px;fill:#000000&quot;&gt;28&lt;/text&gt;\n",
       "\t&lt;text x=&quot;1364.51&quot; y=&quot;781.45&quot; style=&quot;font-family:&#x27;Helvetica&#x27;;font-size:60.49px;fill:#000000&quot;&gt;30&lt;/text&gt;\n",
       "\t&lt;text x=&quot;1364.51&quot; y=&quot;476.34&quot; style=&quot;font-family:&#x27;Helvetica&#x27;;font-size:60.49px;fill:#000000&quot;&gt;32&lt;/text&gt;\n",
       "\t&lt;text x=&quot;1364.51&quot; y=&quot;171.17&quot; style=&quot;font-family:&#x27;Helvetica&#x27;;font-size:60.49px;fill:#000000&quot;&gt;34&lt;/text&gt;\n",
       "\t&lt;text x=&quot;1499.40&quot; y=&quot;760.27&quot; style=&quot;font-family:&#x27;Helvetica&#x27;;font-size:60.49px;fill:#000000&quot; transform=&quot;rotate(-90 1499.40,760.27)&quot; text-anchor=&quot;middle&quot;&gt;% of Solo Commuters Driving 30+ mins&lt;/text&gt;\n",
       "\t&lt;line x1=&quot;55.44&quot; y1=&quot;1380.06&quot; x2=&quot;1342.53&quot; y2=&quot;1380.06&quot; style=&quot;stroke:#000000;stroke-width:3.17&quot;/&gt;\n",
       "\t&lt;line x1=&quot;64.95&quot; y1=&quot;1358.08&quot; x2=&quot;64.95&quot; y2=&quot;1380.06&quot; style=&quot;stroke:#000000;stroke-width:3.17&quot;/&gt;\n",
       "\t&lt;text x=&quot;64.95&quot; y=&quot;1433.37&quot; style=&quot;font-family:&#x27;Helvetica&#x27;;font-size:60.49px;fill:#000000&quot; text-anchor=&quot;middle&quot;&gt;1&lt;/text&gt;\n",
       "\t&lt;line x1=&quot;381.95&quot; y1=&quot;1358.08&quot; x2=&quot;381.95&quot; y2=&quot;1380.06&quot; style=&quot;stroke:#000000;stroke-width:3.17&quot;/&gt;\n",
       "\t&lt;text x=&quot;381.95&quot; y=&quot;1433.37&quot; style=&quot;font-family:&#x27;Helvetica&#x27;;font-size:60.49px;fill:#000000&quot; text-anchor=&quot;middle&quot;&gt;2&lt;/text&gt;\n",
       "\t&lt;line x1=&quot;699.01&quot; y1=&quot;1358.08&quot; x2=&quot;699.01&quot; y2=&quot;1380.06&quot; style=&quot;stroke:#000000;stroke-width:3.17&quot;/&gt;\n",
       "\t&lt;text x=&quot;699.01&quot; y=&quot;1433.37&quot; style=&quot;font-family:&#x27;Helvetica&#x27;;font-size:60.49px;fill:#000000&quot; text-anchor=&quot;middle&quot;&gt;3&lt;/text&gt;\n",
       "\t&lt;line x1=&quot;1016.02&quot; y1=&quot;1358.08&quot; x2=&quot;1016.02&quot; y2=&quot;1380.06&quot; style=&quot;stroke:#000000;stroke-width:3.17&quot;/&gt;\n",
       "\t&lt;text x=&quot;1016.02&quot; y=&quot;1433.37&quot; style=&quot;font-family:&#x27;Helvetica&#x27;;font-size:60.49px;fill:#000000&quot; text-anchor=&quot;middle&quot;&gt;4&lt;/text&gt;\n",
       "\t&lt;line x1=&quot;1333.03&quot; y1=&quot;1358.08&quot; x2=&quot;1333.03&quot; y2=&quot;1380.06&quot; style=&quot;stroke:#000000;stroke-width:3.17&quot;/&gt;\n",
       "\t&lt;text x=&quot;1333.03&quot; y=&quot;1433.37&quot; style=&quot;font-family:&#x27;Helvetica&#x27;;font-size:60.49px;fill:#000000&quot; text-anchor=&quot;middle&quot;&gt;5&lt;/text&gt;\n",
       "\t&lt;text x=&quot;699.01&quot; y=&quot;1499.40&quot; style=&quot;font-family:&#x27;Helvetica&#x27;;font-size:60.49px;fill:#000000&quot; text-anchor=&quot;middle&quot;&gt;Distancing: Lowest (1) to Highest (5)&lt;/text&gt;\n",
       "\t&lt;rect x=&quot;707.43&quot; y=&quot;55.49&quot; width=&quot;635.10&quot; height=&quot;84.99&quot; style=&quot;fill:#7B92A8&quot;/&gt;\n",
       "\t&lt;rect x=&quot;709.01&quot; y=&quot;57.07&quot; width=&quot;631.94&quot; height=&quot;81.82&quot; style=&quot;fill:none;stroke:#7B92A8;stroke-width:3.17&quot;/&gt;\n",
       "\t&lt;text x=&quot;1333.03&quot; y=&quot;121.12&quot; style=&quot;font-family:&#x27;Helvetica&#x27;;font-size:65.99px;fill:#FFFFff&quot; text-anchor=&quot;end&quot;&gt;Long Solo Commute&lt;/text&gt;\n",
       "&lt;/svg&gt;\n",
       "</body></html>\"></iframe>\n"
      ],
      "text/plain": [
       "This front-end cannot display the desired image type."
      ]
     },
     "metadata": {
      "image/svg+xml": {
       "height": 600,
       "width": 600
      },
      "text/html": {
       "height": 600,
       "width": 600
      }
     },
     "output_type": "display_data"
    }
   ],
   "source": [
    "frame change default\n",
    "foreach var of varlist longcommute_p {\n",
    "    table iso5, c(count `var' mean `var' sem `var')\n",
    "        frame put `var' iso5, into(`var')\n",
    "            frame change `var'\n",
    "                collapse (mean) `var', by(iso5)\n",
    "                    la var `var' \"% of Solo Commuters Driving 30+ mins\"\n",
    "                        line `var' iso5, note(\"Long Solo Commute\")     \n",
    "}"
   ]
  }
 ],
 "metadata": {
  "kernelspec": {
   "display_name": "Stata",
   "language": "stata",
   "name": "stata"
  },
  "language_info": {
   "codemirror_mode": "stata",
   "file_extension": ".do",
   "mimetype": "text/x-stata",
   "name": "stata",
   "version": "15.1"
  }
 },
 "nbformat": 4,
 "nbformat_minor": 4
}
