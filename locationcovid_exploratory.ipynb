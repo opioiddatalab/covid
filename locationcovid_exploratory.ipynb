{
 "cells": [
  {
   "cell_type": "markdown",
   "metadata": {},
   "source": [
    "<font size=5> Social distancing: evidence of privilege in a pandemic from smartphones </font><br>\n",
    "Nabarun Dasgupta, MPH, PhD | nab@unc.edu | @nabarund<br>\n",
    "*Dr. Dasgupta is an epidemiologist at the University of North Carolina in Chapel Hill. He studies population level patterns of infectious disease, medication safety, and opioids.*<br>\n",
    "Thanks to Ben White for data munging help. Code available on [GitHub](https://github.com/opioiddatalab/covid).<br>\n",
    "\n",
    "**Co-authors**<br>\n",
    "Michele Jonsson Funk, PhD<br>\n",
    "Allison Lazard, PhD<br>\n",
    "Benjamin Eugene White<br>\n",
    "Steve W. Marshall, PhD<br>"
   ]
  },
  {
   "cell_type": "markdown",
   "metadata": {},
   "source": [
    "<div class=\"alert alert-warning\">\n",
    "\n",
    "**Warning:** Code and output provided for evaluation only. Paper under review. Results have not been peer-reviewed and should not be used for clinical or public health interpretation.\n",
    "\n",
    "</div>"
   ]
  },
  {
   "cell_type": "markdown",
   "metadata": {},
   "source": [
    "On March 23, 2020 Stuart Thompson and Yaryna Serkez of *The New York Times* [published](https://www.nytimes.com/interactive/2020/03/23/opinion/coronavirus-economy-recession.html) a fascinating use of cell phone GPS signal information to gauge movement and commuting, during the advent of social distancing. They compared the state-level data in a [slick graphic](https://www.nytimes.com/interactive/2020/03/23/opinion/coronavirus-economy-recession.html) to political leanings. But we wanted to understand more about other community level characteristics of slow versus fast adopters.<br>\n",
    "<br>\n",
    "We were provided access to the same location dataset on social distancing published today in the. We used a data merging approach we have [previously published](https://www.ncbi.nlm.nih.gov/pmc/articles/PMC6339867/). Repurposing code from an ongoing project, we merged in community-level data from the Robert Wood Johnson Foundation's [County Health Rankings](https://www.countyhealthrankings.org/). This very rich dataset contains dozens of explanatory variables about health, social, and economic indicators.<br>\n",
    "\n",
    "---"
   ]
  },
  {
   "cell_type": "code",
   "execution_count": 22,
   "metadata": {},
   "outputs": [
    {
     "name": "stdout",
     "output_type": "stream",
     "text": [
      "Notebook generated on 22 Apr 2020 at 08:51:49 ET\n"
     ]
    }
   ],
   "source": [
    "display \"Notebook generated on $S_DATE at $S_TIME ET\""
   ]
  },
  {
   "cell_type": "markdown",
   "metadata": {},
   "source": [
    "# Models"
   ]
  },
  {
   "cell_type": "code",
   "execution_count": 23,
   "metadata": {},
   "outputs": [],
   "source": [
    "// Load pre-procesed data\n",
    "clear all\n",
    "set scheme economist\n",
    "use \"https://github.com/opioiddatalab/covid/blob/master/analysiset.dta?raw=true\"\n",
    "\n",
    "// Create results frame\n",
    "frame create results str20 strat level avg LL UL\n",
    "\n",
    "// Program to invert differences\n",
    "program define invert, rclass\n",
    "    version 16\n",
    "    args ee ll ul\n",
    "    \n",
    "    di round((1-(1/`ee'))*-100,.1)\n",
    "    di \"LL: \" round((1-(1/`ll'))*-100,.1)\n",
    "    di \"UL: \" round((1-(1/`ul'))*-100,.1)\n",
    "end\n",
    "\n",
    "// Set up negative binomial model\n",
    "program define modelrun, rclass\n",
    "    version 16\n",
    "    syntax varlist(numeric)\n",
    "    \n",
    "    frame change default\n",
    "    foreach var of local varlist {\n",
    "    \n",
    "    di \"----- RURALITY-ADJUSTED NEGBIN MODEL -----\"\n",
    "       nbreg `var' levels* homeorder i.rucc, irr nocons vce(r)\n",
    "\n",
    "    * Store results\n",
    "        frame post results (\"`var'\") (1) (round((r(table)[1,1]),.1)) (round((r(table)[5,1]),.1)) (round((r(table)[6,1]),.1))\n",
    "        frame post results (\"`var'\") (2) (round((r(table)[1,2]),.1)) (round((r(table)[5,2]),.1)) (round((r(table)[6,2]),.1))\n",
    "        frame post results (\"`var'\") (3) (round((r(table)[1,3]),.1)) (round((r(table)[5,3]),.1)) (round((r(table)[6,3]),.1))\n",
    "        frame post results (\"`var'\") (4) (round((r(table)[1,4]),.1)) (round((r(table)[5,4]),.1)) (round((r(table)[6,4]),.1))\n",
    "        frame post results (\"`var'\") (5) (round((r(table)[1,5]),.1)) (round((r(table)[5,5]),.1)) (round((r(table)[6,5]),.1))\n",
    "        \n",
    "        di \"Compare to tabular data:\"\n",
    "        table iso5, c(count `var' mean `var' sem `var') \n",
    "\n",
    "    di \"----- PERCENT DIFFERENCE MODEL -----\"\n",
    "    * Rate difference models\n",
    "        nbreg `var' levels* homeorder i.rucc, irr vce(r)   \n",
    "           \n",
    "   * Plot graph\n",
    "       frame change results\n",
    "       la var level \"Social Distancing: Lowest (1) to Highest (5)\"\n",
    "       line avg level if inlist(strat,\"`var'\"), title(\"`var'\")\n",
    "\n",
    "    frame change default\n",
    "    \n",
    "    }\n",
    "end\n",
    "\n",
    "// Set up scaled Poisson model\n",
    "\n",
    "program define modelpoisson, rclass\n",
    "    version 16\n",
    "    syntax varlist(numeric)\n",
    "    \n",
    "    frame change default\n",
    "    foreach var of local varlist {\n",
    "\n",
    "    di \"----- RURALITY-ADJUSTED POISSON MODEL -----\"\n",
    "       glm `var' levels* homeorder i.rucc, family(poisson) link(log) scale(x2) eform nocons \n",
    "\n",
    "    * Store results\n",
    "        frame post results (\"`var'\") (1) (round((r(table)[1,1]),.1)) (round((r(table)[5,1]),.1)) (round((r(table)[6,1]),.1))\n",
    "        frame post results (\"`var'\") (2) (round((r(table)[1,2]),.1)) (round((r(table)[5,2]),.1)) (round((r(table)[6,2]),.1))\n",
    "        frame post results (\"`var'\") (3) (round((r(table)[1,3]),.1)) (round((r(table)[5,3]),.1)) (round((r(table)[6,3]),.1))\n",
    "        frame post results (\"`var'\") (4) (round((r(table)[1,4]),.1)) (round((r(table)[5,4]),.1)) (round((r(table)[6,4]),.1))\n",
    "        frame post results (\"`var'\") (5) (round((r(table)[1,5]),.1)) (round((r(table)[5,5]),.1)) (round((r(table)[6,5]),.1))\n",
    "        \n",
    "        di \"Compare to tabular data:\"\n",
    "        table iso5, c(count `var' mean `var' sem `var') \n",
    "\n",
    "    di \"----- PERCENT DIFFERENCE MODEL -----\"\n",
    "    * Rate difference models\n",
    "       glm `var' levels* homeorder i.rucc, family(poisson) link(log) scale(x2) eform \n",
    "           \n",
    "   * Plot graph\n",
    "       frame change results\n",
    "       la var level \"Social Distancing: Lowest (1) to Highest (5)\"\n",
    "       line avg level if inlist(strat,\"`var'\"), title(\"`var'\")\n",
    "\n",
    "    frame change default\n",
    "    \n",
    "    }\n",
    "end\n",
    "\n"
   ]
  },
  {
   "cell_type": "markdown",
   "metadata": {},
   "source": [
    "---\n",
    "\n",
    "# Descriptive Results"
   ]
  },
  {
   "cell_type": "code",
   "execution_count": 24,
   "metadata": {},
   "outputs": [
    {
     "name": "stdout",
     "output_type": "stream",
     "text": [
      "\n",
      "\n",
      "       rucc |      Freq.     Percent        Cum.\n",
      "------------+-----------------------------------\n",
      "          1 |        345       16.27       16.27\n",
      "          2 |        309       14.58       30.85\n",
      "          3 |        273       12.88       43.73\n",
      "          4 |        171        8.07       51.79\n",
      "          5 |         76        3.58       55.38\n",
      "          6 |        436       20.57       75.94\n",
      "          7 |        322       15.19       91.13\n",
      "          8 |         94        4.43       95.57\n",
      "          9 |         94        4.43      100.00\n",
      "------------+-----------------------------------\n",
      "      Total |      2,120      100.00\n",
      "\n",
      "\n",
      "Distancing: |\n",
      " Lowest (1) |\n",
      " to Highest |\n",
      "        (5) |      Freq.     Percent        Cum.\n",
      "------------+-----------------------------------\n",
      "          1 |        421       19.86       19.86\n",
      "          2 |        422       19.91       39.76\n",
      "          3 |        423       19.95       59.72\n",
      "          4 |        429       20.24       79.95\n",
      "          5 |        425       20.05      100.00\n",
      "------------+-----------------------------------\n",
      "      Total |      2,120      100.00\n",
      "\n",
      "\n",
      "-------------------------\n",
      "Distancin |\n",
      "g: Lowest |\n",
      "(1) to    |\n",
      "Highest   |\n",
      "(5)       | sum(last3_~e)\n",
      "----------+--------------\n",
      "        1 |        997370\n",
      "        2 |       1442412\n",
      "        3 |       2242183\n",
      "        4 |       2907797\n",
      "        5 |       5823421\n",
      "-------------------------\n",
      "\n",
      "\n",
      "    Variable |        Obs        Mean    Std. Dev.       Min        Max\n",
      "-------------+---------------------------------------------------------\n",
      "last3_sample |      2,120    6326.973    14928.19        101     285845\n",
      "\n",
      "Total 3-day mobile traces: 13413183\n",
      "\n",
      "\n",
      "\n",
      "scalars:\n",
      "                  r(N) =  2120\n",
      "              r(sum_w) =  2120\n",
      "               r(mean) =  42.10385226161694\n",
      "                r(Var) =  556.9398589649319\n",
      "                 r(sd) =  23.59957327929748\n",
      "                r(min) =  0\n",
      "                r(max) =  378.3333435058594\n",
      "                r(sum) =  89260.1667946279\n",
      "\n",
      "variable last3_samples not found\n"
     ]
    },
    {
     "name": "stderr",
     "output_type": "stream",
     "text": [
      "r(111);\n",
      "r(111);\n"
     ]
    },
    {
     "name": "stdout",
     "output_type": "stream",
     "text": [
      "\n",
      "\n"
     ]
    }
   ],
   "source": [
    "// Basic distributions of counties and traces\n",
    "* iso5 is the main outcome variable representing quintiles of mobility change\n",
    "\n",
    "tab rucc, m\n",
    "tab iso5, m\n",
    "table iso5, c(sum last3_sample)\n",
    "su last3_sample\n",
    "di \"Total 3-day mobile traces: \" r(sum)\n",
    "\n",
    "* US average change in mobility\n",
    "qui: su last3_index\n",
    "    return list\n",
    "\n",
    "* Mean mobility change by quintile\n",
    "table iso5, c(count last3_index mean last3_index sem last3_index sum samples median last3_sample) \n",
    "\n",
    "* Mean mobility change by status of homeorder\n",
    "table homeorder, c(mean last3_index sem last3_index)\n",
    "\n",
    "* Rurality/urbanicity by quintile\n",
    "table iso5, c(median rucc)"
   ]
  },
  {
   "cell_type": "markdown",
   "metadata": {},
   "source": [
    "---\n",
    "# Healthcare\n",
    "\n",
    "To gauge overall baseline healthcare access and utilization, we examined primary care providers per 100,000 population and percent uninsured under age 65 (e.g., Medicare eligibility). As a marker for a closely related preventive health behavior, we examined whether earlier influenza vaccination rates were associated with how much the county was likely to slow down in the current coronavirus outbreak. This was quantified as the percent of annual Medicare enrollees having an annual influenza vaccination.\n",
    "\n",
    "## Primary care providers\n",
    "\n",
    "We wanted to see if places with more social distancing had better healthcare resources. So we looked at primary care providers per 100,000 population. \n"
   ]
  },
  {
   "cell_type": "code",
   "execution_count": null,
   "metadata": {},
   "outputs": [],
   "source": [
    "modelrun pcp_rate"
   ]
  },
  {
   "cell_type": "markdown",
   "metadata": {},
   "source": [
    "### Interpretation\n",
    "<br><br>\n",
    "\n",
    "Relative effect measures <br>\n",
    "`    ^\n",
    "     levels1 |    49.4269   2.469613    78.06   0.000       44.816    54.51219\n",
    "     levels2 |   50.90777   2.527614    79.15   0.000     46.18715    56.11086\n",
    "     levels3 |   56.66436   2.832643    80.76   0.000      51.3758    62.49733\n",
    "     levels4 |   62.54773   2.997007    86.32   0.000     56.94109    68.70642\n",
    "     levels5 |   72.75614   3.547062    87.94   0.000     66.12584    80.05124\n",
    "`\n",
    "<br><br>\n",
    "Percent difference<br> \n",
    "`levels1 |   .6793503    .027583    -9.52   0.000     .6273836    .7356213`"
   ]
  },
  {
   "cell_type": "code",
   "execution_count": null,
   "metadata": {},
   "outputs": [],
   "source": [
    "invert .6793503 .6273836 .7356213"
   ]
  },
  {
   "cell_type": "markdown",
   "metadata": {},
   "source": [
    "\n",
    "The lowest social distancing counties had 49.4 primary care providers per 100,000, whereas the most social distancing counties had 72.7 per 100,000 after adjusting for rurality and social distancing orders, a 47% (95% CI: 36%, 59%) difference. \n",
    "\n",
    "---"
   ]
  },
  {
   "cell_type": "markdown",
   "metadata": {},
   "source": [
    "## Percent uninsured\n",
    "Percent of without health insurance below Medicare elgibility (age 65)."
   ]
  },
  {
   "cell_type": "code",
   "execution_count": null,
   "metadata": {},
   "outputs": [],
   "source": [
    "// Comparing percent uninsured to social distancing\n",
    "modelpoisson uninsured_p "
   ]
  },
  {
   "cell_type": "markdown",
   "metadata": {},
   "source": [
    "### Interpretation\n",
    "<br><br>\n",
    "\n",
    "Relative effect measures <br>\n",
    "`    ^\n",
    "     levels1 |   11.31834   .4589692    59.84   0.000      10.4536    12.25462\n",
    "     levels2 |   10.65563    .429903    58.65   0.000      9.84549    11.53244\n",
    "     levels3 |   9.304829   .3793602    54.71   0.000     8.590228    10.07888\n",
    "     levels4 |   8.544709   .3466857    52.88   0.000     7.891533    9.251949\n",
    "     levels5 |   7.267551   .2956462    48.76   0.000     6.710594    7.870734\n",
    "`\n",
    "<br><br>\n",
    "Percent difference<br> \n",
    "`levels1 |   1.557381    .047272    14.59   0.000     1.467431    1.652844`\n",
    "\n",
    "Counties with lower social distancing also had a higher proportion of people without health insurance. The lowest social distancing counties had 11.3% uninsured adults, whereas the most social distancing counties had only 7.27% uninsured after adjusting for rurality and social distancing orders, a 56% (95% CI: 47%, 65%) difference. \n",
    "\n",
    "---"
   ]
  },
  {
   "cell_type": "markdown",
   "metadata": {},
   "source": [
    "## Flu Vaccination\n",
    "\n",
    "We had a hypothesis that counties that were more involved in preventative behaviors would be more likely to self-isolate more thoroughly. To test this, we examined whether earlier flu vaccination rates impacted how much the county was likely to slow down in the current coronavirus outbreak. This is quantified as the percent of annual Medicare enrollees having an annual flu vaccination, as reported by the Robert Wood Johnson Foundation. Since the flu vaccine is free to all Medicare beneficiaries, and this is the elderly age group with the most influenza mortality, this is a convenient metric to test *a priori* how conscientious the population was, on average."
   ]
  },
  {
   "cell_type": "code",
   "execution_count": null,
   "metadata": {},
   "outputs": [],
   "source": [
    "// Basic descriptive on background influenza vaccine\n",
    "frame change default\n",
    "summ fluvaccine, d\n",
    "hist fluvaccine, bin(10)"
   ]
  },
  {
   "cell_type": "code",
   "execution_count": null,
   "metadata": {},
   "outputs": [],
   "source": [
    "// Comparing background flu vaccination with current social distancing\n",
    "modelpoisson fluvaccine"
   ]
  },
  {
   "cell_type": "markdown",
   "metadata": {},
   "source": [
    "### Interpretation\n",
    "<br><br>\n",
    "\n",
    "Relative effect measures <br>\n",
    "`    ^\n",
    "     levels1 |   47.85711    .885275   209.11   0.000     46.15308    49.62405\n",
    "     levels2 |   47.61874   .8674556   212.07   0.000     45.94855    49.34964\n",
    "     levels3 |   48.93908   .8869371   214.67   0.000     47.23123    50.70869\n",
    "     levels4 |   49.81001    .887262   219.40   0.000     48.10102    51.57973\n",
    "     levels5 |   50.76095    .885802   225.04   0.000     49.05417    52.52713\n",
    "`\n",
    "<br><br>\n",
    "Percent difference<br> \n",
    "`levels1 |   .9427937   .0129735    -4.28   0.000     .9177059    .9685673`\n",
    "\n",
    "\n",
    "The lowest social distancing counties had 47.8% flu vaccine coverage among Medicare beneficiaries, whereas the most social distancing counties had 50.8% after adjusting for rurality and social distancing orders, a 6.1% (95% CI: 3.2%, 9.0%) difference. "
   ]
  },
  {
   "cell_type": "code",
   "execution_count": null,
   "metadata": {},
   "outputs": [],
   "source": [
    "invert .9427937 .9177059 .9685673"
   ]
  },
  {
   "cell_type": "markdown",
   "metadata": {},
   "source": [
    "--- \n",
    "# Economic\n",
    "\n",
    "There is a trend emerging. So, since the places with more social distancing seem to have more health resources, perhaps there are trends in financial means? We explored two baseline economic metrics in relation to social distancing, one representing the overall wealth of the community and one proxy for poverty: 80th percentile of annual household income in dollars and the percent of school-age children eligible for subsidized or free lunches.\n",
    "\n",
    "## Household income"
   ]
  },
  {
   "cell_type": "code",
   "execution_count": null,
   "metadata": {},
   "outputs": [],
   "source": [
    "// Comparing 80th percentile income to social distancing\n",
    "modelrun income80"
   ]
  },
  {
   "cell_type": "markdown",
   "metadata": {},
   "source": [
    "### Interpretation\n",
    "<br><br>\n",
    "\n",
    "Relative effect measures <br>\n",
    "`    ^\n",
    "     levels1 |   120578.2    2174.73   648.71   0.000     116390.3    124916.8\n",
    "     levels2 |   121964.6   2103.959   678.90   0.000     117909.8    126158.7\n",
    "     levels3 |   127609.2   2292.704   654.37   0.000     123193.8    132182.9\n",
    "     levels4 |     132518   2338.222   668.45   0.000     128013.5      137181\n",
    "     levels5 |   140685.7   2682.181   621.78   0.000     135525.8    146042.2\n",
    "`\n",
    "<br><br>\n",
    "Percent difference<br> \n",
    "`levels1 |   .8570749   .0113487   -11.65   0.000     .8351179    .8796091`\n",
    "\n",
    "\n",
    "The lowest social distancing counties the 80th percentile of annual houshold income was `$120,578`, whereas in the most social distancing counties it was `$140,685`, after adjusting for rurality and social distancing orders, a 17% (95% CI: 14%, 20%) difference. \n"
   ]
  },
  {
   "cell_type": "code",
   "execution_count": null,
   "metadata": {},
   "outputs": [],
   "source": [
    "invert .8570749 .8351179 .8796091"
   ]
  },
  {
   "cell_type": "markdown",
   "metadata": {},
   "source": [
    "---\n",
    "\n",
    "## Subsidized lunches"
   ]
  },
  {
   "cell_type": "code",
   "execution_count": null,
   "metadata": {},
   "outputs": [],
   "source": [
    "modelrun schoollunch"
   ]
  },
  {
   "cell_type": "markdown",
   "metadata": {},
   "source": [
    "### Interpretation\n",
    "<br><br>\n",
    "\n",
    "Relative effect measures <br>\n",
    "`    ^\n",
    "     levels1 |   41.84078   1.429248   109.31   0.000     39.13122    44.73796\n",
    "     levels2 |   41.01835   1.338739   113.80   0.000     38.47663    43.72797\n",
    "     levels3 |   37.65352   1.314916   103.90   0.000     35.16255    40.32095\n",
    "     levels4 |   35.03891   1.189645   104.75   0.000     32.78313     37.4499\n",
    "     levels5 |   33.73666   1.146257   103.56   0.000     31.56321    36.05978\n",
    "`\n",
    "<br><br>\n",
    "Percent difference<br> \n",
    "`levels1 |   1.240217   .0277847     9.61   0.000     1.186938    1.295887`\n",
    "\n",
    "\n",
    "In the lowest social distancing counties, 42% of schoolage children were eligible for free or reduced price lunches. By comparison, in the the most social distancing counties 34% were eligible, after adjusting for rurality and social distancing orders, a 24% (95% CI: 19%, 29%) difference. \n"
   ]
  },
  {
   "cell_type": "markdown",
   "metadata": {},
   "source": [
    "---\n",
    "# Structural\n",
    "Three lifestyle metrics were selected to provide a diverse snapshot of baseline structural factors that could influence defiance of prolonged stay-at-home orders. The percent of people experiencing food insecurity was derived from Map the Meal Gap project, based on responses from the Current Population Survey and a cost-of-food index. Access to exercise opportunities was the percent of population with adequate access to locations for physical activity. The percent of households with overcrowding was based on the Comprehensive Housing Affordability Strategy measurements.\n",
    "\n",
    "## Food insecurity"
   ]
  },
  {
   "cell_type": "code",
   "execution_count": null,
   "metadata": {},
   "outputs": [],
   "source": [
    "modelpoisson foodinsec"
   ]
  },
  {
   "cell_type": "markdown",
   "metadata": {},
   "source": [
    "### Interpretation\n",
    "<br><br>\n",
    "\n",
    "Relative effect measures <br>\n",
    "`    ^\n",
    "     levels1 |   13.16074    .371045    91.41   0.000     12.45323    13.90844\n",
    "     levels2 |    12.5652   .3522368    90.28   0.000     11.89345    13.27489\n",
    "     levels3 |   11.63859   .3279836    87.09   0.000     11.01318    12.29951\n",
    "     levels4 |    10.9946   .3073966    85.75   0.000     10.40833     11.6139\n",
    "     levels5 |   10.41177   .2879299    84.72   0.000     9.862455    10.99167\n",
    "`\n",
    "<br><br>\n",
    "Percent difference<br> \n",
    "`levels1 |   1.264025    .025903    11.43   0.000     1.214263    1.315828`\n",
    "\n",
    "\n",
    "The lowest social distancing counties had greater food insecurity, among 13.2% of residents. The most social distancing counties had 10.4%, after adjusting for rurality and social distancing orders, a 26.4% (95% CI: 21.4%, 31.5%) difference. \n",
    "\n",
    "---"
   ]
  },
  {
   "cell_type": "markdown",
   "metadata": {},
   "source": [
    "## Exercise opportunities"
   ]
  },
  {
   "cell_type": "code",
   "execution_count": null,
   "metadata": {},
   "outputs": [],
   "source": [
    "modelrun exercise"
   ]
  },
  {
   "cell_type": "markdown",
   "metadata": {},
   "source": [
    "### Interpretation\n",
    "<br><br>\n",
    "\n",
    "Relative effect measures <br>\n",
    "`    ^\n",
    "     levels1 |   69.32704   2.008161   146.34   0.000     65.50076    73.37684\n",
    "     levels2 |   73.66608    1.99158   159.03   0.000     69.86427    77.67477\n",
    "     levels3 |   78.57573   2.050318   167.25   0.000     74.65821    82.69881\n",
    "     levels4 |   82.82771   2.039621   179.36   0.000     78.92507    86.92334\n",
    "     levels5 |   92.01346   2.177853   191.05   0.000     87.84245    96.38254\n",
    "`\n",
    "<br><br>\n",
    "Percent difference<br> \n",
    "` levels1 |   .7534445    .017626   -12.10   0.000     .7196781    .7887951`\n",
    "\n",
    "\n",
    "In the lowest social distancing counties, 69% of residents had access to physical spaces for exercise, whereas in the most social distancing counties 92% had access, after adjusting for rurality and social distancing orders, a 33% (95% CI: 27%, 39%) difference. \n",
    "\n"
   ]
  },
  {
   "cell_type": "code",
   "execution_count": null,
   "metadata": {},
   "outputs": [],
   "source": [
    "invert .7534445 .7196781 .7887951"
   ]
  },
  {
   "cell_type": "markdown",
   "metadata": {},
   "source": [
    "---\n",
    "\n",
    "## Overcrowding"
   ]
  },
  {
   "cell_type": "code",
   "execution_count": null,
   "metadata": {},
   "outputs": [],
   "source": [
    "modelpoisson overcrowding"
   ]
  },
  {
   "cell_type": "markdown",
   "metadata": {},
   "source": [
    "### Interpretation\n",
    "<br><br>\n",
    "\n",
    "Relative effect measures <br>\n",
    "`    ^\n",
    "     levels1 |   2.386115    .182761    11.35   0.000       2.0535    2.772604\n",
    "     levels2 |   2.272371   .1727998    10.79   0.000     1.957721    2.637594\n",
    "     levels3 |   2.148765   .1640225    10.02   0.000      1.85018    2.495537\n",
    "     levels4 |   2.101588   .1584565     9.85   0.000     1.812877    2.436278\n",
    "     levels5 |   2.055545   .1525507     9.71   0.000     1.777279    2.377378\n",
    "`\n",
    "<br><br>\n",
    "Percent difference<br> \n",
    "`levels1 |   1.160819   .0639501     2.71   0.007     1.042008    1.293176`\n",
    "\n",
    "\n",
    "The lowest social distancing counties had 16% (95% CI: 4.2%, 29%) less overcrowding, after adjusting for rurality and social distancing orders. "
   ]
  },
  {
   "cell_type": "markdown",
   "metadata": {},
   "source": [
    "---\n",
    "\n",
    "# Exploratory analyses"
   ]
  },
  {
   "cell_type": "code",
   "execution_count": null,
   "metadata": {},
   "outputs": [],
   "source": [
    "frame change default\n",
    "foreach var of varlist drivealone_p {\n",
    "    table iso5, c(count `var' mean `var' sem `var')\n",
    "        frame put `var' iso5, into(`var')\n",
    "            frame change `var'\n",
    "                collapse (mean) `var', by(iso5)\n",
    "                    la var `var' \"% of Drivers\"\n",
    "                        line `var' iso5, note(\"Commuting Alone by Vehicle\")  \n",
    "                            frame change default\n",
    "                                frame drop `var'\n",
    "}"
   ]
  },
  {
   "cell_type": "markdown",
   "metadata": {},
   "source": [
    "---\n"
   ]
  },
  {
   "cell_type": "code",
   "execution_count": null,
   "metadata": {},
   "outputs": [],
   "source": [
    "frame change default\n",
    "foreach var of varlist rucc {\n",
    "    table iso5, c(count `var' mean `var' sem `var')\n",
    "        frame put `var' iso5, into(`var')\n",
    "            frame change `var'\n",
    "                collapse (median) `var', by(iso5)\n",
    "                    la var `var' \"Meidan RUCC\"\n",
    "                        line `var' iso5, note(\"Urban-Rural\")   \n",
    "                            frame change default\n",
    "                                frame drop `var'\n",
    "}"
   ]
  },
  {
   "cell_type": "code",
   "execution_count": null,
   "metadata": {},
   "outputs": [],
   "source": [
    "frame change default\n",
    "foreach var of varlist longcommute_p {\n",
    "    table iso5, c(count `var' mean `var' sem `var')\n",
    "        frame put `var' iso5, into(`var')\n",
    "            frame change `var'\n",
    "                collapse (mean) `var', by(iso5)\n",
    "                    la var `var' \"% of Solo Commuters Driving 30+ mins\"\n",
    "                        line `var' iso5, note(\"Long Solo Commute\")     \n",
    "                            frame change default\n",
    "                                frame drop `var'\n",
    "}"
   ]
  },
  {
   "cell_type": "markdown",
   "metadata": {},
   "source": [
    "---\n",
    "\n",
    "# External validation with Google data\n",
    "\n",
    "Correlations between March 1 to April 11 in Google and DL data by county-day"
   ]
  },
  {
   "cell_type": "code",
   "execution_count": null,
   "metadata": {},
   "outputs": [],
   "source": [
    "// Import Descartes Labs data\n",
    "clear\n",
    "import delimited \"https://raw.githubusercontent.com/descarteslabs/DL-COVID-19/master/DL-us-mobility-daterow.csv\", encoding(ISO-8859-9) stringcols(6) \n",
    "\n",
    "    * Drop state aggregates\n",
    "        drop if admin2==\"\"\n",
    "\n",
    "    * Format date\n",
    "        gen date2=date(date,\"YMD\")\n",
    "            format date2 %td\n",
    "                drop date\n",
    "                    rename date2 date\n",
    "\n",
    "    * Note data start and end dates for graphs\n",
    "        su date \n",
    "            local latest: disp %td r(max)\n",
    "                di \"`latest'\"\n",
    "            local earliest: disp %td r(min)\n",
    "                di \"`earliest'\"\n",
    "\n",
    "    * Rename variables for consistency\n",
    "        rename admin1 state\n",
    "        rename admin2 county\n",
    "\n",
    "save dl_x_valid, replace\n",
    "\n",
    "// Process Google app check-in data\n",
    "clear\n",
    "import delimited \"/Users/nabarun/Documents/GitHub/covid/fips-google-mobility-daily-as-of-04-20-20.csv\", stringcols(1) numericcols(5 6 8)  \n",
    "\n",
    "    * Format date\n",
    "        gen date=date(report_date, \"YMD\")\n",
    "            format date %td\n",
    "                order date, first\n",
    "                    drop report_date\n",
    "\n",
    "    * Note data start and end dates for graphs\n",
    "        su date \n",
    "            local latest: disp %td r(max)\n",
    "                di \"Latest: \" \"`latest'\"\n",
    "            local earliest: disp %td r(min)\n",
    "                di \"Earliest: \" \"`earliest'\"\n",
    "\n",
    "    save google_x_valid, replace\n",
    "    \n",
    "\n",
    "// Merge by date and county, retain\n",
    "    merge 1:1 date fips using dl_x_valid\n",
    "\n",
    "    tab _merge\n",
    "        keep if _merge==3\n",
    "            drop _merge country_code admin_level\n",
    "\n",
    "    * Variable cleanup\n",
    "    destring retail_and_recreation_percent_ch grocery_and_pharmacy_percent_cha workplaces_percent_change_from_b, replace force\n",
    "    rename retail_and_recreation_percent_ch retailrec\n",
    "    rename grocery_and_pharmacy_percent_cha grocery\n",
    "    rename workplaces_percent_change_from_b work\n",
    "    rename residential_percent_change_from_ home\n",
    "    rename parks_percent_change_from_baseli parks\n",
    "        la var parks \"Parks\"\n",
    "    rename transit_stations_percent_change_ transit\n",
    "                la var transit \"Transit\"\n",
    "    \n",
    "    gen m50i = m50_index-100\n",
    "            la var m50i \"Re-centered at zero\"\n",
    "\n",
    "    * Correlation matrix on complete case data (n=20,891)\n",
    "    correlate m50i retailrec grocery work home parks transit\n",
    "        matrix C = r(C)\n",
    "     \n",
    "    * Pairwise correlations\n",
    "    correlate m50i retailrec\n",
    "    correlate m50i grocery\n",
    "    correlate m50i work\n",
    "    correlate m50i home\n",
    "    correlate m50i parks\n",
    "    correlate m50i transit"
   ]
  },
  {
   "cell_type": "markdown",
   "metadata": {},
   "source": [
    "---\n",
    "\n",
    "*fin.*"
   ]
  }
 ],
 "metadata": {
  "kernelspec": {
   "display_name": "Stata",
   "language": "stata",
   "name": "stata"
  },
  "language_info": {
   "codemirror_mode": "stata",
   "file_extension": ".do",
   "mimetype": "text/x-stata",
   "name": "stata",
   "version": "15.1"
  }
 },
 "nbformat": 4,
 "nbformat_minor": 4
}
